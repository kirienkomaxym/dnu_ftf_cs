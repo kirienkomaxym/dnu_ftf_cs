{
 "cells": [
  {
   "cell_type": "markdown",
   "id": "3429b079",
   "metadata": {},
   "source": [
    "# Test Notebook"
   ]
  },
  {
   "cell_type": "markdown",
   "id": "7da87dde",
   "metadata": {},
   "source": [
    "This is a test notebook used to make sure that your environment have been installed successfully. "
   ]
  },
  {
   "cell_type": "markdown",
   "id": "ca42947a",
   "metadata": {},
   "source": [
    "Please select the cell below with a mouse and use `launch` button or combination of `shift + enter` to execture it."
   ]
  },
  {
   "cell_type": "code",
   "execution_count": null,
   "id": "4c44c2a3",
   "metadata": {},
   "outputs": [],
   "source": [
    "print(\"Yay! Everything is installed correctly!\")"
   ]
  },
  {
   "cell_type": "markdown",
   "id": "65c4ce6f",
   "metadata": {},
   "source": [
    "Expected result\n",
    "\n",
    "`Yay! Everything is installed correctly!`"
   ]
  },
  {
   "cell_type": "markdown",
   "id": "e2972606",
   "metadata": {},
   "source": [
    "Now please select the next cell, and execute its code how it was done with previous executed cell."
   ]
  },
  {
   "cell_type": "code",
   "execution_count": null,
   "id": "7a788761",
   "metadata": {},
   "outputs": [],
   "source": [
    "import matplotlib.pyplot as plt\n",
    "import math\n",
    "import numpy as np\n",
    "\n",
    "x = x = np.linspace(-np.pi, np.pi)\n",
    "y = np.sin(x)\n",
    "\n",
    "plt.figure(figsize=(9, 3))\n",
    "plt.plot(x, y)\n",
    "print(\"Pure sin wave is plotted!\")"
   ]
  },
  {
   "cell_type": "markdown",
   "id": "e0150d61",
   "metadata": {},
   "source": [
    "Expected output:\n",
    "\n",
    "`Pure sin wave is plotted!`"
   ]
  },
  {
   "cell_type": "markdown",
   "id": "a548ce95",
   "metadata": {},
   "source": [
    "<img src=\"_notebooks_data/_imgs/0_asq_imgs/sin_plot.png\"\n",
    "     align=\"left\" alt=\"test\"/>"
   ]
  },
  {
   "cell_type": "markdown",
   "id": "a254f1ef",
   "metadata": {},
   "source": [
    "Now execute this cell once, it will be used with a next cell."
   ]
  },
  {
   "cell_type": "code",
   "execution_count": null,
   "id": "4abee912",
   "metadata": {},
   "outputs": [],
   "source": [
    "used_flag = False"
   ]
  },
  {
   "cell_type": "markdown",
   "id": "f7fc3795",
   "metadata": {},
   "source": [
    "The next cell should be executed two times, to make sure you figured out how to reuse the cells.\n",
    "\n",
    "To do so, select the next cell, execute it, then reselect it and execute again"
   ]
  },
  {
   "cell_type": "code",
   "execution_count": null,
   "id": "e096dcd6",
   "metadata": {},
   "outputs": [],
   "source": [
    "if not used_flag:\n",
    "    print(\"Firts time\")\n",
    "    used_flag = True\n",
    "else:\n",
    "    print(\"Second time\")"
   ]
  },
  {
   "cell_type": "markdown",
   "id": "cdd24a05",
   "metadata": {},
   "source": [
    "Expected result after first usage:\n",
    "    \n",
    "    `Firts time`\n",
    "\n",
    "Expected result after second usage:\n",
    "\n",
    "    `Second time`"
   ]
  },
  {
   "cell_type": "markdown",
   "id": "acb244bd",
   "metadata": {},
   "source": [
    "Congratulations! Make sure youve done the rest steps of the presequences"
   ]
  }
 ],
 "metadata": {
  "kernelspec": {
   "display_name": "Python 3 (ipykernel)",
   "language": "python",
   "name": "python3"
  },
  "language_info": {
   "codemirror_mode": {
    "name": "ipython",
    "version": 3
   },
   "file_extension": ".py",
   "mimetype": "text/x-python",
   "name": "python",
   "nbconvert_exporter": "python",
   "pygments_lexer": "ipython3",
   "version": "3.9.12"
  }
 },
 "nbformat": 4,
 "nbformat_minor": 5
}
