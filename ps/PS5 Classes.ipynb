{
 "cells": [
  {
   "cell_type": "markdown",
   "id": "b7dea7c5",
   "metadata": {},
   "source": [
    "# PS5: Classes & Objects"
   ]
  },
  {
   "cell_type": "code",
   "execution_count": null,
   "id": "c4edc492",
   "metadata": {},
   "outputs": [],
   "source": [
    "#$@ UNQ ps5"
   ]
  },
  {
   "cell_type": "markdown",
   "id": "0716c18c",
   "metadata": {},
   "source": [
    "## 1. Termometer"
   ]
  },
  {
   "cell_type": "markdown",
   "id": "c736cd1a",
   "metadata": {},
   "source": [
    "В цьому завданні вам необхідно створити клас термометр, який при ініціалізації приймає параметер `temperature` типа даних `float`, одиниця вимірювання цього значення - Кельвіни. Вам також необхідно створити метод `get_temperature` до цього класу, який примймає параметр `unit`, який приймає одно з трьох строкових значень: `unit in ['celsius', 'fahrenheit', 'kelvin']` які є відповідно одиницямі виміру температури. Метод `get_temperature` повинен повертати значення `temperature` відповідно до одиниці вимірювання, вказаної в якості аргумента `unit`.\n",
    "\n",
    "Формули для конвертації різних температурних одиниць, за традіцією, можна знайти за [посиланням](https://www.youtube.com/watch?v=dQw4w9WgXcQ&ab_channel=RickAstley).\n",
    "\n",
    "Майте на увазі, одна з констант в формулах конвертації дорівнює `273.15`\n",
    "\n",
    "Отримана температура у відповідній системі вимірювання, повинна бути округлена до 2 знака і мати тип даних `float`"
   ]
  },
  {
   "cell_type": "code",
   "execution_count": 323,
   "id": "a2e3d672",
   "metadata": {},
   "outputs": [],
   "source": [
    "def termometer(temperature: float, unit: str) -> float:\n",
    "    \n",
    "    class Termometer:\n",
    "        \n",
    "        def __init__(self, temperature: float):\n",
    "            ### ENTER YOUR CODE HERE ###\n",
    "\n",
    "            ### END OF CODE ###\n",
    "            pass\n",
    "        \n",
    "        def get_temperature(self, unit: str) -> float:\n",
    "            \"\"\"\n",
    "            unit: measure unit one of ['celsius', 'fahrenheit', 'kelvin']\n",
    "            \"\"\"\n",
    "            ### ENTER YOUR CODE HERE ###\n",
    "\n",
    "            \n",
    "            result = None\n",
    "            ### END OF CODE ###\n",
    "            \n",
    "            return result\n",
    "        \n",
    "    term = Termometer(temperature)\n",
    "        \n",
    "    return term.get_temperature(unit)"
   ]
  },
  {
   "cell_type": "code",
   "execution_count": 324,
   "id": "ce29748d",
   "metadata": {},
   "outputs": [
    {
     "name": "stdout",
     "output_type": "stream",
     "text": [
      "None K\n",
      "None C\n",
      "None Fr\n"
     ]
    }
   ],
   "source": [
    "print(termometer(25, 'kelvin'), \"K\")\n",
    "print(termometer(25, 'celsius'), \"C\")\n",
    "print(termometer(25, 'fahrenheit'), \"Fr\")"
   ]
  },
  {
   "cell_type": "code",
   "execution_count": 325,
   "id": "b94184ed",
   "metadata": {},
   "outputs": [
    {
     "name": "stdout",
     "output_type": "stream",
     "text": [
      "Your result: None\n",
      "Something is wrong with your code expected_result=-414.67, your result result=None\n"
     ]
    }
   ],
   "source": [
    "# self - test \n",
    "temp = 25.\n",
    "unit = 'fahrenheit'\n",
    "expected_result = -414.67\n",
    "\n",
    "try:\n",
    "    result = termometer(temp, unit)\n",
    "    print(f\"Your result: {result}\")\n",
    "    assert result == expected_result\n",
    "    print(\"Self-test passed\")\n",
    "except AssertionError:\n",
    "    print(f\"Something is wrong with your code {expected_result=}, your result {result=}\")"
   ]
  },
  {
   "cell_type": "markdown",
   "id": "884c7299",
   "metadata": {},
   "source": [
    "## 2. Who let the dogs out?"
   ]
  },
  {
   "cell_type": "markdown",
   "id": "7cf29a97",
   "metadata": {},
   "source": [
    "В цьому завданні вам буде необхідно створити клас собаки `Dog`, який обладає двома аргументами - `health: float` та `bite_strength: float`\n",
    "\n",
    "Також, собака має обладати методом `bite`, який отримуює в якості аргумента `other_dog`, що є іншим інстансом класа `Dog`. Коли одна і собак кусає іншу, (тобто використовує метод `bite`) на іншій собаці, здоров'я (`healh`) іншої собаки змініюються на значення `bite_strength` собаки, що використовує цей метод. \n",
    "\n",
    "Зверніть увагу, метод `bite` не має нічого повертати, він лише має змінювати якісь параметри іншого класа, який був переданий в якості аргумента."
   ]
  },
  {
   "cell_type": "code",
   "execution_count": 328,
   "id": "b5303a4f",
   "metadata": {},
   "outputs": [],
   "source": [
    "def dogs(dog1_health: float, dog2_health: float, \n",
    "         dog1_bite_strength: float, dog2_bite_strength: float) -> float:\n",
    "    \n",
    "    class Dog:\n",
    "        \n",
    "        def __init__(self, health: float, bite_strength: float):\n",
    "            ### ENTER YOUR CODE HERE ###\n",
    "            self.hp = health\n",
    "\n",
    "            ### END OF CODE ###\n",
    "            pass\n",
    "            \n",
    "        def bite(self, other_dog) -> None:\n",
    "            \n",
    "            ### ENTER YOUR CODE HERE ###\n",
    "\n",
    "            ### END OF CODE ###\n",
    "            pass\n",
    "            \n",
    "            \n",
    "    dog1 = Dog(dog1_health, dog1_bite_strength)\n",
    "    dog2 = Dog(dog2_health, dog2_bite_strength)\n",
    "    \n",
    "    dog1.bite(dog2)\n",
    "    \n",
    "    return dog2.hp"
   ]
  },
  {
   "cell_type": "code",
   "execution_count": 329,
   "id": "b1f82d4d",
   "metadata": {},
   "outputs": [
    {
     "name": "stdout",
     "output_type": "stream",
     "text": [
      "16.5\n"
     ]
    }
   ],
   "source": [
    "d1hp, d1pwr = 19.5, 4.3\n",
    "d2hp, d2pwr = 16.5, 3.5\n",
    "\n",
    "print(dogs(d1hp, d2hp, d1pwr,d2pwr))"
   ]
  },
  {
   "cell_type": "code",
   "execution_count": 330,
   "id": "4b076750",
   "metadata": {},
   "outputs": [
    {
     "name": "stdout",
     "output_type": "stream",
     "text": [
      "Your result: 16.5\n",
      "Something is wrong with your code expected_result=12.2, your result result=16.5\n"
     ]
    }
   ],
   "source": [
    "d1hp, d1pwr = 19.5, 4.3\n",
    "d2hp, d2pwr = 16.5, 3.5\n",
    "expected_result = 12.2\n",
    "\n",
    "try:\n",
    "    result = dogs(d1hp, d2hp, d1pwr,d2pwr)\n",
    "    print(f\"Your result: {result}\")\n",
    "    assert result == expected_result\n",
    "    print(\"Self-test passed\")\n",
    "except AssertionError:\n",
    "    print(f\"Something is wrong with your code {expected_result=}, your result {result=}\")"
   ]
  },
  {
   "cell_type": "markdown",
   "id": "d3583df7",
   "metadata": {},
   "source": [
    "## 3. Dogfight"
   ]
  },
  {
   "cell_type": "markdown",
   "id": "18ed15c1",
   "metadata": {},
   "source": [
    "Дана задача доповнює попередню. До вже існуючого класа `Dog` треба додати ще один метод `fight`. Цей метод також як і метод `bite`, приймає аргумент `other_dog`. Цей метод імітує драку собак, собаки мають послідовно кусати одна другу, до тих пір поки здоров'я однієї з собак не досягне 0, або від'ємних значень. Коли це відбулося, вам потрібно вивести `True`, якщо 'виграла' собака що почала кусати та `False`, якщо вона програла.\n",
    "\n",
    "Нагадую, що аргумент `self` повертає 'себе', тобто у разі коли вам треба щоб інша собака вкусила ту, що почала кусати, як аргумент `other_dog` методу іншої собаки треба передати `self`"
   ]
  },
  {
   "cell_type": "code",
   "execution_count": 331,
   "id": "f8dca5a7",
   "metadata": {},
   "outputs": [],
   "source": [
    "def dogs_fighting(dog1_health: float, dog2_health: float, \n",
    "         dog1_bite_strength: float, dog2_bite_strength: float) -> float:\n",
    "    \n",
    "    class Dog:\n",
    "        \n",
    "        def __init__(self, health: float, bite_strength: float):\n",
    "            ### ENTER YOUR CODE HERE ###\n",
    "\n",
    "            \n",
    "            ### END OF CODE ###\n",
    "            pass\n",
    "            \n",
    "        def bite(self, other_dog) -> None:\n",
    "            \n",
    "            ### ENTER YOUR CODE HERE ###\n",
    "\n",
    "            ### END OF CODE ###\n",
    "            pass\n",
    "        \n",
    "        def fight(self, other_dog) -> bool:\n",
    "            ### ENTER YOUR CODE HERE ###\n",
    "            result = None\n",
    "            ### END OF CODE ###\n",
    "            return result\n",
    "            \n",
    "    dog1 = Dog(dog1_health, dog1_bite_strength)\n",
    "    dog2 = Dog(dog2_health, dog2_bite_strength)\n",
    "    \n",
    "    is_dog1_winner = dog1.fight(dog2)\n",
    "    \n",
    "    return is_dog1_winner"
   ]
  },
  {
   "cell_type": "code",
   "execution_count": 332,
   "id": "8dd7fe28",
   "metadata": {},
   "outputs": [
    {
     "name": "stdout",
     "output_type": "stream",
     "text": [
      "None\n"
     ]
    }
   ],
   "source": [
    "d1hp, d1pwr = 19.5, 4.3\n",
    "d2hp, d2pwr = 16.5, 3.5\n",
    "\n",
    "print(dogs_fighting(d1hp, d2hp, d1pwr,d2pwr))"
   ]
  },
  {
   "cell_type": "code",
   "execution_count": 333,
   "id": "fa099e12",
   "metadata": {},
   "outputs": [
    {
     "name": "stdout",
     "output_type": "stream",
     "text": [
      "Your result: None\n",
      "Something is wrong with your code expected_result=True, your result result=None\n"
     ]
    }
   ],
   "source": [
    "d1hp, d1pwr = 19.5, 4.3\n",
    "d2hp, d2pwr = 16.5, 3.5\n",
    "expected_result = True\n",
    "\n",
    "try:\n",
    "    result = dogs_fighting(d1hp, d2hp, d1pwr,d2pwr)\n",
    "    print(f\"Your result: {result}\")\n",
    "    assert result == expected_result\n",
    "    print(\"Self-test passed\")\n",
    "except AssertionError:\n",
    "    print(f\"Something is wrong with your code {expected_result=}, your result {result=}\")"
   ]
  },
  {
   "cell_type": "code",
   "execution_count": 334,
   "id": "ece838b4",
   "metadata": {},
   "outputs": [
    {
     "name": "stdout",
     "output_type": "stream",
     "text": [
      "[4.0, 5.0, 4.0, 8.0]\n",
      "None\n"
     ]
    }
   ],
   "source": [
    "arg = [float(r.randint(3, 10)) for _ in range(4)]\n",
    "print(arg)\n",
    "print(dogs_fighting(*arg))"
   ]
  },
  {
   "cell_type": "markdown",
   "id": "1900903e",
   "metadata": {},
   "source": [
    "## 4. Покупки"
   ]
  },
  {
   "cell_type": "markdown",
   "id": "467df4b1",
   "metadata": {},
   "source": [
    "Об'єкт, що ви має створити це умовний список покупок, які вам треба придбати в магазиці, на вхід він отримує словник, ключи до якого є ім'ям покупки, наприкдад `'eggs', 'meat'`, а значенням, ціна цього товару.\n",
    "\n",
    "Вам необхідно зробити так, щоб ваш об'єкт міг бути перетворений на `float`, де результатом будуть сума всіх цін товарів, що були передані. Результат має бути округлений до 2 знака та мати тип даних `float`. Кількість товарів, які ви маєте купити необмежена, як і назви цих товарів.\n",
    "\n",
    "Нагадую, що перетворення типів даних можливо завдяки магічним методам. Магічний метод, що перетворює будь який клас на `float` є `__float__()`"
   ]
  },
  {
   "cell_type": "code",
   "execution_count": 335,
   "id": "922f4b5a",
   "metadata": {},
   "outputs": [],
   "source": [
    "def purchase_list(purchases: dict):\n",
    "    \n",
    "    class PurchaseList:\n",
    "        \n",
    "        def __init__(self, purchases: dict):\n",
    "            ### ENTER YOUR CODE HERE ###\n",
    "            \n",
    "            ### END OF CODE ###\n",
    "            pass\n",
    "        \n",
    "        def __float__(self):\n",
    "            ### ENTER YOUR CODE HERE ###\n",
    "            result = None\n",
    "            \n",
    "            ### END OF CODE ###\n",
    "            return result\n",
    "    \n",
    "    purch_list = PurchaseList(purchases)\n",
    "    \n",
    "    return float(purch_list)"
   ]
  },
  {
   "cell_type": "code",
   "execution_count": 336,
   "id": "dc1bc4af",
   "metadata": {},
   "outputs": [
    {
     "ename": "TypeError",
     "evalue": "PurchaseList.__float__ returned non-float (type NoneType)",
     "output_type": "error",
     "traceback": [
      "\u001b[1;31m---------------------------------------------------------------------------\u001b[0m",
      "\u001b[1;31mTypeError\u001b[0m                                 Traceback (most recent call last)",
      "Input \u001b[1;32mIn [336]\u001b[0m, in \u001b[0;36m<cell line: 2>\u001b[1;34m()\u001b[0m\n\u001b[0;32m      1\u001b[0m purchases \u001b[38;5;241m=\u001b[39m {\u001b[38;5;124m'\u001b[39m\u001b[38;5;124meggs\u001b[39m\u001b[38;5;124m'\u001b[39m: \u001b[38;5;241m5.3\u001b[39m, \u001b[38;5;124m'\u001b[39m\u001b[38;5;124mmeat\u001b[39m\u001b[38;5;124m'\u001b[39m: \u001b[38;5;241m122.5\u001b[39m, \u001b[38;5;124m'\u001b[39m\u001b[38;5;124mmilk\u001b[39m\u001b[38;5;124m'\u001b[39m: \u001b[38;5;241m44.15\u001b[39m}\n\u001b[1;32m----> 2\u001b[0m \u001b[43mpurchase_list\u001b[49m\u001b[43m(\u001b[49m\u001b[43mpurchases\u001b[49m\u001b[43m)\u001b[49m\n",
      "Input \u001b[1;32mIn [335]\u001b[0m, in \u001b[0;36mpurchase_list\u001b[1;34m(purchases)\u001b[0m\n\u001b[0;32m     16\u001b[0m         \u001b[38;5;28;01mreturn\u001b[39;00m result\n\u001b[0;32m     18\u001b[0m purch_list \u001b[38;5;241m=\u001b[39m PurchaseList(purchases)\n\u001b[1;32m---> 20\u001b[0m \u001b[38;5;28;01mreturn\u001b[39;00m \u001b[38;5;28;43mfloat\u001b[39;49m\u001b[43m(\u001b[49m\u001b[43mpurch_list\u001b[49m\u001b[43m)\u001b[49m\n",
      "\u001b[1;31mTypeError\u001b[0m: PurchaseList.__float__ returned non-float (type NoneType)"
     ]
    }
   ],
   "source": [
    "purchases = {'eggs': 5.3, 'meat': 122.5, 'milk': 44.15}\n",
    "purchase_list(purchases)"
   ]
  },
  {
   "cell_type": "code",
   "execution_count": null,
   "id": "ea064d46",
   "metadata": {},
   "outputs": [],
   "source": [
    "purchases = {'eggs': 5.3, 'meat': 122.5, 'milk': 44.15}\n",
    "expected_result = 171.95\n",
    "\n",
    "try:\n",
    "    result = purchase_list(purchases)\n",
    "    print(f\"Your result: {result}\")\n",
    "    assert result == expected_result\n",
    "    print(\"Self-test passed\")\n",
    "except AssertionError:\n",
    "    print(f\"Something is wrong with your code {expected_result=}, your result {result=}\")"
   ]
  },
  {
   "cell_type": "markdown",
   "id": "c730d32c",
   "metadata": {},
   "source": [
    "## 5. Гриби"
   ]
  },
  {
   "cell_type": "markdown",
   "id": "57a9ecfc",
   "metadata": {},
   "source": [
    "В даном завданні вам треба імплементувати клас гриба `Mushroom`, який має атрибут `edible: bool`, (з'їсний). Також вам треба імплементувати клас `Animal` з методом `is_alive: bool`, та методом `eat`, якщо `Animal` з'єсть `Mushroom`, який не є з'їсним, його метод `is_alive()` повинен повертати `False`, і навпаки. "
   ]
  },
  {
   "cell_type": "code",
   "execution_count": null,
   "id": "d606c4a7",
   "metadata": {},
   "outputs": [],
   "source": [
    "def eat_a_mushroom(edible: bool):\n",
    "    \n",
    "    class Mushroom:\n",
    "        \n",
    "        def __init__(self, edible: bool):\n",
    "            ### ENTER YOUR CODE HERE ###\n",
    "\n",
    "            ### END OF CODE ###\n",
    "            pass\n",
    "            \n",
    "    class Animal:\n",
    "        \n",
    "        def __init__(self):\n",
    "            ### ENTER YOUR CODE HERE ###\n",
    "\n",
    "            ### END OF CODE ###\n",
    "            pass\n",
    "        \n",
    "        def eat(self, mush: Mushroom):\n",
    "            ### ENTER YOUR CODE HERE ###\n",
    "\n",
    "            ### END OF CODE ###\n",
    "            \n",
    "        def is_alive(self):\n",
    "            ### ENTER YOUR CODE HERE ###\n",
    "            \n",
    "            result = None\n",
    "            \n",
    "            ### END OF CODE ###\n",
    "            return result\n",
    "            \n",
    "    \n",
    "    mush = Mushroom(edible)\n",
    "    anim = Animal()\n",
    "    anim.eat(mush)\n",
    "    \n",
    "    is_anim_alive = anim.is_alive()\n",
    "    \n",
    "    return is_anim_alive"
   ]
  },
  {
   "cell_type": "code",
   "execution_count": null,
   "id": "2fb3a417",
   "metadata": {},
   "outputs": [],
   "source": [
    "edible = False\n",
    "eat_a_mushroom(edible)"
   ]
  },
  {
   "cell_type": "code",
   "execution_count": null,
   "id": "cb2c4546",
   "metadata": {},
   "outputs": [],
   "source": [
    "edible = True\n",
    "expected_result = True\n",
    "\n",
    "try:\n",
    "    result = eat_a_mushroom(edible)\n",
    "    print(f\"Your result: {result}\")\n",
    "    assert result == expected_result\n",
    "    print(\"Self-test passed\")\n",
    "except AssertionError:\n",
    "    print(f\"Something is wrong with your code {expected_result=}, your result {result=}\")"
   ]
  },
  {
   "cell_type": "markdown",
   "id": "402cf852",
   "metadata": {},
   "source": [
    "## 6. Гриби та тварини\n"
   ]
  },
  {
   "cell_type": "markdown",
   "id": "c9e4fc1f",
   "metadata": {},
   "source": [
    "Це завдання продовжує попереднє, деякі тварини, мають імунітет до отруйних грибів, деякі, можуть з'їсти певну кількість до того, як вони отруяться. Вам необхідно розширити клас тварини, так, що якщо вона може з'їсти якусь кількість та залишитися живою. Метод `eat` тепер має приймати `list`, в якому знаходяться гриби різних якостей. Також, вам треба розшити клас грибів так, щоб він сам визначав чи є він отруєним чи ні. \n",
    "\n",
    "В вашій функції буде надано наступні значення: `animals` - словник, ключі до якого є іменами тварин, а значеннями - кількість отруйних грибів що вони в змозі з'їсти до отруєння, або значення `immune`, якщо вони можуть з'їсти безліч грибів. Також, вам буде надано словник з грибами - ключ - ім'я гриба, значення - чи отруйний він, а тако\n",
    "\n",
    "Функція для перевірки буде отримувтаи 2 аргументи - ліст з назвами грибів та назву тварини. Словники з параметрами знаходяться в тілі функції та залишаються статичними. Знайти їх можна за змінними `animals` та `mushrooms`"
   ]
  },
  {
   "cell_type": "code",
   "execution_count": null,
   "id": "c85a2238",
   "metadata": {},
   "outputs": [],
   "source": [
    "def mush_animals(mushrooms_species: list, animal_species: str):\n",
    "    \n",
    "    class Mushroom:\n",
    "        \n",
    "        def __init__(self, mushrooms: dict, species: str):\n",
    "            ### ENTER YOUR CODE HERE ###\n",
    "            \n",
    "            ### END OF CODE ###\n",
    "            pass\n",
    "\n",
    "            \n",
    "    class Animal:\n",
    "        \n",
    "        def __init__(self, animals: dict, species: str):\n",
    "            ### ENTER YOUR CODE HERE ###\n",
    "\n",
    "            ### END OF CODE ###\n",
    "            pass\n",
    "        \n",
    "        def eat(self, mushrooms: list):\n",
    "            ### ENTER YOUR CODE HERE ###\n",
    "            \n",
    "\n",
    "            \n",
    "            ### END OF CODE ###\n",
    "            pass\n",
    "                    \n",
    "            \n",
    "        def is_alive(self):\n",
    "            ### ENTER YOUR CODE HERE ###\n",
    "            result = None\n",
    "            \n",
    "            ### END OF CODE ###\n",
    "            return result\n",
    "    \n",
    "    # ======================== DO NOT EDIT ======================= #\n",
    "    mushrooms = {'поганка': False, 'опеньок': True, 'мухомор': False, \n",
    "             'боровик': True, 'маслюк': True, 'зеленушка':False}\n",
    "    \n",
    "    animals = {'миша': 5, 'свиня': 10, 'барсук': 'immune', 'корова': 3, \n",
    "          'слон': 'immune', 'ворона': 1, 'тігр': 'immune'}\n",
    "    \n",
    "    \n",
    "    anim = Animal(animals, animal_species)\n",
    "    mushrooms_list = []\n",
    "    for mush_specie in mushrooms_species:\n",
    "        mush = Mushroom(mushrooms, mush_specie)\n",
    "        mushrooms_list.append(mush)\n",
    "    \n",
    "    anim.eat(mushrooms_list)\n",
    "    \n",
    "    is_anim_alive = anim.is_alive()\n",
    "    # ======================== DO NOT EDIT ======================= #\n",
    "    \n",
    "    return is_anim_alive"
   ]
  },
  {
   "cell_type": "code",
   "execution_count": null,
   "id": "74904c0c",
   "metadata": {},
   "outputs": [],
   "source": [
    "mushrooms_species = ['поганка', 'поганка', 'поганка', 'маслюк', 'маслюк', 'зеленушка']\n",
    "animal_species = 'миша'\n",
    "\n",
    "mush_animals(mushrooms_species, animal_species)"
   ]
  },
  {
   "cell_type": "code",
   "execution_count": null,
   "id": "ce16e06a",
   "metadata": {},
   "outputs": [],
   "source": [
    "mushrooms_species = ['поганка', 'поганка', 'поганка', 'маслюк', 'маслюк', 'зеленушка']\n",
    "animal_species = 'миша'\n",
    "expected_result = True\n",
    "\n",
    "try:\n",
    "    result = mush_animals(mushrooms_species, animal_species)\n",
    "    print(f\"Your result: {result}\")\n",
    "    assert result == expected_result\n",
    "    print(\"Self-test passed\")\n",
    "except AssertionError:\n",
    "    print(f\"Something is wrong with your code {expected_result=}, your result {result=}\")"
   ]
  },
  {
   "cell_type": "markdown",
   "id": "13d1115a",
   "metadata": {},
   "source": [
    "## 7. Водій\n",
    "\n",
    "Вам необхідно створити клас водія `Driver`, який обладає чотирма методами - `up`, `down`, `left`, `right`. Вам також надано матрицю (ліст з листами), яка є умовною картою наприклад:\n",
    "```\n",
    "[\n",
    "[0, 0, 0], \n",
    "[0, 0, 0],\n",
    "[0, 'Y', 0]\n",
    "]\n",
    "```\n",
    "Розмір карти довільний від 3x3 до 10х10\n",
    "\n",
    "Кожен метод водія переміщує значення `Y` по карті відповідно до обраного метода. Якщо водій не може переміститися, (наприклад він стоїть зліва, а команда `left` - нічого не відбувається. Карта переміщеня `location`, задається при ініціації класу.\n",
    "\n",
    "Також, вам необхідно створити у водія метод `drive`, який отримує на вход маршрут `way`, наприклад `['left', 'right', 'right', 'up']`, результатом роботи даного методу є змінена мапа, де позиція водія відповідає пройденому маршруту.\n",
    "\n",
    "Прикладом роботи маршрута вказаного тут: `['left', 'right', 'right', 'up']` є наступна матриця `location`:\n",
    "```\n",
    "[\n",
    "[0, 0, 0], \n",
    "[0, 0, 'Y'],\n",
    "[0, 0, 0]\n",
    "]\n",
    "```\n",
    "\n",
    "Майте на увазі, що зміни в листах можуть бути задіяні декілька разів, тому користуйтеся list.copy(), коли будете присваювати атрибут локації до драйвера"
   ]
  },
  {
   "cell_type": "code",
   "execution_count": null,
   "id": "76b18f6a",
   "metadata": {},
   "outputs": [],
   "source": [
    "def driver(location: list, way: list):\n",
    "    \n",
    "    class Driver:\n",
    "        \n",
    "        def __init__(self, location: list):\n",
    "            ### ENTER YOUR CODE HERE ###\n",
    "\n",
    "            ### END OF CODE ###\n",
    "            pass\n",
    "            \n",
    "        def up(self):\n",
    "            ### ENTER YOUR CODE HERE ###\n",
    "\n",
    "            ### END OF CODE ###\n",
    "            pass\n",
    "        \n",
    "        def down(self):\n",
    "            ### ENTER YOUR CODE HERE ###\n",
    "\n",
    "            ### END OF CODE ###\n",
    "            pass\n",
    "        \n",
    "        def left(self):\n",
    "            ### ENTER YOUR CODE HERE ###\n",
    "\n",
    "            ### END OF CODE ###\n",
    "            pass\n",
    "        \n",
    "        def right(self):\n",
    "            ### ENTER YOUR CODE HERE ###\n",
    "\n",
    "            ### END OF CODE ###\n",
    "            pass\n",
    "        \n",
    "        def drive(self, way: list):\n",
    "            ### ENTER YOUR CODE HERE ###\n",
    "            \n",
    "            result = None\n",
    "            ### END OF CODE ###\n",
    "            \n",
    "            \n",
    "            \n",
    "            return self.loc\n",
    "        \n",
    "    driver_instance = Driver(location)\n",
    "    \n",
    "    return driver_instance.drive(way)"
   ]
  },
  {
   "cell_type": "code",
   "execution_count": null,
   "id": "0d7b0455",
   "metadata": {},
   "outputs": [],
   "source": [
    "loc = [\n",
    "[0, 0, 0], \n",
    "[0, 0, 0],\n",
    "[0, 'Y', 0]\n",
    "]\n",
    "way = ['left', 'right', 'right', 'up']\n",
    "\n",
    "driver(loc, way)"
   ]
  },
  {
   "cell_type": "code",
   "execution_count": null,
   "id": "5cc6566d",
   "metadata": {},
   "outputs": [],
   "source": [
    "loc = [\n",
    "    [0, 0, 0], \n",
    "    [0, 0, 0],\n",
    "    [0, 'Y', 0]\n",
    "]\n",
    "\n",
    "way = ['left', 'right', 'right', 'up']\n",
    "\n",
    "expected_result = [\n",
    "    [0, 0, 0], \n",
    "    [0, 0, 'Y'], \n",
    "    [0, 0, 0]\n",
    "]\n",
    "\n",
    "try:\n",
    "    result = driver(loc, way)\n",
    "    print(f\"Your result: {result}\")\n",
    "    assert result == expected_result\n",
    "    print(\"Self-test passed\")\n",
    "except AssertionError:\n",
    "    print(f\"Something is wrong with your code {expected_result=}, your result {result=}\")"
   ]
  }
 ],
 "metadata": {
  "kernelspec": {
   "display_name": "Python 3 (ipykernel)",
   "language": "python",
   "name": "python3"
  },
  "language_info": {
   "codemirror_mode": {
    "name": "ipython",
    "version": 3
   },
   "file_extension": ".py",
   "mimetype": "text/x-python",
   "name": "python",
   "nbconvert_exporter": "python",
   "pygments_lexer": "ipython3",
   "version": "3.9.12"
  }
 },
 "nbformat": 4,
 "nbformat_minor": 5
}
