{
 "cells": [
  {
   "cell_type": "markdown",
   "id": "429ca4bb",
   "metadata": {},
   "source": [
    "# Lab3 Functions Function Syntax, Return, Arguments, Scope"
   ]
  },
  {
   "cell_type": "markdown",
   "id": "08a848dd",
   "metadata": {},
   "source": [
    "## Functions"
   ]
  },
  {
   "cell_type": "markdown",
   "id": "38265322",
   "metadata": {},
   "source": [
    "Оскількі мови програмування розвивалися з математики, та комп'ютерних наук, багато чого було перейнято з математики. \n",
    "\n",
    "Одним з краєугольних понять як математики, так і програмування є функції."
   ]
  },
  {
   "attachments": {
    "fx.jpg": {
     "image/jpeg": "[encoded data removed]"
    }
   },
   "cell_type": "markdown",
   "id": "76f7244b",
   "metadata": {},
   "source": [
    "![fx.jpg](attachment:fx.jpg)"
   ]
  },
  {
   "cell_type": "markdown",
   "id": "dd8231e9",
   "metadata": {},
   "source": [
    "Так само як і в математиці - функція це якась інструкція, яка приймає аргументи, та повертає результат своєї роботи у вигляді якогось значення."
   ]
  },
  {
   "cell_type": "markdown",
   "id": "4f672acd",
   "metadata": {},
   "source": [
    "В першому наближенні функції це такі синтаксичні коснтрукції, які дозволяють ізолювати якісь інструкції від іншого коду, та виконувати ці інструкції тількі тоді - коли вони були визвані."
   ]
  },
  {
   "cell_type": "markdown",
   "id": "3d0005d2",
   "metadata": {},
   "source": [
    "Ми з вами знайомі з деякими функціям - `len()`, `range()`, `bool()`, `print()` і так далі - так от це і є функції.\n",
    "\n",
    "Всі вони мають спільні властивості - вони можуть приймати аргументи, робити якісь операції всередині і віддавати якісь значення, точно так же як це трапляється в математиці."
   ]
  },
  {
   "cell_type": "code",
   "execution_count": 3,
   "id": "8b7a090a",
   "metadata": {},
   "outputs": [
    {
     "name": "stdout",
     "output_type": "stream",
     "text": [
      "25\n"
     ]
    }
   ],
   "source": [
    "def f(x):\n",
    "    y = x ** 2\n",
    "    return y\n",
    "\n",
    "x = 5\n",
    "y = f(x)\n",
    "\n",
    "print(y)"
   ]
  },
  {
   "cell_type": "markdown",
   "id": "66165d94",
   "metadata": {},
   "source": [
    "Давайте розглянемо приклад створення функції вище.\n",
    "\n",
    "* Ключовим словом для початку об'явлення функції є `def` від англійського `define`\n",
    "* Після ключового слова `def` має йти назва (ідентифікатор) функції - користуючись якою, ми будемо її визивати.\n",
    "* Далі пілся назви в круглих дужках йде список параметрів (аргументів), які має отримати наша функція.\n",
    "* Після закриття дужок, як це було з `if`, `for`, `while` ставиться двокрапка - `:`\n",
    "* Далі йде тіло функції - так само, щоб відокремити інструкції функції від інших.\n",
    "* Щоб функція повернула якесь значення (чи декілька значень) як результат своєї роботи користвуються ключевим словом `return` і перечилсяти значення через кому\n",
    " "
   ]
  },
  {
   "cell_type": "code",
   "execution_count": 4,
   "id": "c5d95060",
   "metadata": {},
   "outputs": [],
   "source": [
    "def my_function(my_arg1, my_arg2):\n",
    "    result = my_arg1 + my_arg2\n",
    "    \n",
    "    return result"
   ]
  },
  {
   "cell_type": "code",
   "execution_count": 6,
   "id": "77f24f5a",
   "metadata": {},
   "outputs": [
    {
     "name": "stdout",
     "output_type": "stream",
     "text": [
      "11\n",
      "17\n",
      "27\n"
     ]
    }
   ],
   "source": [
    "print(my_function(5, 6))\n",
    "print(my_function(7, 10))\n",
    "\n",
    "res = my_function(11, 16)\n",
    "print(res)"
   ]
  },
  {
   "cell_type": "markdown",
   "id": "88a25131",
   "metadata": {},
   "source": [
    "Функції можна використовувати безліч разів, і вона завжди буде працювати так, як вказано в її інструкціях, тобто набагато легше один раз написати функцію, яка буде виконувати якусь кількість інструкцій, чим писати їх ще раз і ще раз"
   ]
  },
  {
   "cell_type": "markdown",
   "id": "c6ee21c0",
   "metadata": {},
   "source": [
    "Ключове слово `return`, може стояти в любій частині функції - і не обов'язково мати аргументи, після того, як інтерпритатор побачить `return` - виконання функції зупиниться"
   ]
  },
  {
   "cell_type": "code",
   "execution_count": 9,
   "id": "b0884ac1",
   "metadata": {},
   "outputs": [],
   "source": [
    "def foo(z1, z2):\n",
    "    z3 = z1 * z2\n",
    "    print(z3)\n",
    "    return z3\n",
    "\n",
    "    z4 = z1 * z3\n",
    "    print(z4)"
   ]
  },
  {
   "cell_type": "code",
   "execution_count": 11,
   "id": "2deec8ed",
   "metadata": {},
   "outputs": [
    {
     "name": "stdout",
     "output_type": "stream",
     "text": [
      "18\n"
     ]
    }
   ],
   "source": [
    "z3 = foo(3, 6)"
   ]
  },
  {
   "cell_type": "markdown",
   "id": "c1561d41",
   "metadata": {},
   "source": [
    "Ключове слово `return` може не мати аргументів справа від себе - в такому разі, функція поверне тип даних, з яким ви ще не стикались - це тип даних `None`, або `нічого'"
   ]
  },
  {
   "cell_type": "code",
   "execution_count": 12,
   "id": "59aaadd7",
   "metadata": {},
   "outputs": [],
   "source": [
    "def foo2(arg):\n",
    "    return"
   ]
  },
  {
   "cell_type": "code",
   "execution_count": 13,
   "id": "42158de0",
   "metadata": {},
   "outputs": [
    {
     "name": "stdout",
     "output_type": "stream",
     "text": [
      "type(result)=<class 'NoneType'>\n"
     ]
    }
   ],
   "source": [
    "result = foo2(5)\n",
    "print(f\"{type(result)=}\")"
   ]
  },
  {
   "cell_type": "markdown",
   "id": "3639473a",
   "metadata": {},
   "source": [
    "Так само - функція взагалі може не мати `return` - тобі вона теж не поверне нічого, тобто `None`:"
   ]
  },
  {
   "cell_type": "code",
   "execution_count": 14,
   "id": "0f691545",
   "metadata": {},
   "outputs": [],
   "source": [
    "def noreturnfn(arg):\n",
    "    print('something here')"
   ]
  },
  {
   "cell_type": "code",
   "execution_count": 15,
   "id": "827c6bf1",
   "metadata": {},
   "outputs": [
    {
     "name": "stdout",
     "output_type": "stream",
     "text": [
      "something here\n",
      "type(res)=<class 'NoneType'>\n"
     ]
    }
   ],
   "source": [
    "res = noreturnfn(\"asdasd\")\n",
    "print(f\"{type(res)=}\")"
   ]
  },
  {
   "cell_type": "markdown",
   "id": "0f4f3ed8",
   "metadata": {},
   "source": [
    "Значення, які потрапляють в функції - як вже було сказано називають аргументами, їх в функції може не бути взагалі, але вона все рівно виконається"
   ]
  },
  {
   "cell_type": "code",
   "execution_count": 16,
   "id": "9e40da97",
   "metadata": {},
   "outputs": [
    {
     "name": "stdout",
     "output_type": "stream",
     "text": [
      "Its me! Function withour arguments!!!\n"
     ]
    }
   ],
   "source": [
    "def noargfn():\n",
    "    print(\"Its me! Function withour arguments!!!\")\n",
    "\n",
    "noargfn()"
   ]
  },
  {
   "cell_type": "markdown",
   "id": "122daada",
   "metadata": {},
   "source": [
    "Аргументи функції також можуть мати значення за замовченням (дефолтні), наприклад:"
   ]
  },
  {
   "cell_type": "code",
   "execution_count": 19,
   "id": "bb6d7065",
   "metadata": {},
   "outputs": [],
   "source": [
    "def foo(x, inverse = True):\n",
    "    if inverse:\n",
    "        x = -x\n",
    "    \n",
    "    return x"
   ]
  },
  {
   "cell_type": "markdown",
   "id": "14883f80",
   "metadata": {},
   "source": [
    "В такому разі - їх можна як передавати, так і не перетадвати в функцію, тобто:"
   ]
  },
  {
   "cell_type": "code",
   "execution_count": 20,
   "id": "267cefe0",
   "metadata": {},
   "outputs": [
    {
     "name": "stdout",
     "output_type": "stream",
     "text": [
      "foo(5) = -5\n",
      "foo(5, False) = 5\n"
     ]
    }
   ],
   "source": [
    "print(f\"{foo(5) = }\")\n",
    "\n",
    "print(f\"{foo(5, False) = }\")"
   ]
  },
  {
   "cell_type": "markdown",
   "id": "c88da401",
   "metadata": {},
   "source": [
    "Але є умови, коли ви створюєте якісь аргументи за замовченням, вони повинні йти **після** аргументів не за замовченням:"
   ]
  },
  {
   "cell_type": "code",
   "execution_count": 21,
   "id": "e2c6b46d",
   "metadata": {},
   "outputs": [
    {
     "ename": "SyntaxError",
     "evalue": "non-default argument follows default argument (3020610815.py, line 1)",
     "output_type": "error",
     "traceback": [
      "\u001b[1;36m  Input \u001b[1;32mIn [21]\u001b[1;36m\u001b[0m\n\u001b[1;33m    def foo(a = True, b):\u001b[0m\n\u001b[1;37m                       ^\u001b[0m\n\u001b[1;31mSyntaxError\u001b[0m\u001b[1;31m:\u001b[0m non-default argument follows default argument\n"
     ]
    }
   ],
   "source": [
    "def foo(a = True, b):\n",
    "    print(a)\n",
    "    return\n",
    "\n",
    "# SyntaxError: non-default argument follows default argument"
   ]
  },
  {
   "cell_type": "markdown",
   "id": "0fdd3a25",
   "metadata": {},
   "source": [
    "Додатковим варіантом передачі аргументів в функцію є використання пакування аргументів в змінну `*args`, яка буде кортежем, і в змінну `**kwargs` - яка буде словником.\n",
    "\n",
    "В такому разі послідовність передачі аргументів наступна - обов'язкові аргументи -> дефотні -> `*args` -> `**kwargs`"
   ]
  },
  {
   "cell_type": "code",
   "execution_count": 24,
   "id": "01ae4423",
   "metadata": {},
   "outputs": [],
   "source": [
    "def argsfoo(*args):\n",
    "    print(type(args)) # tuple\n",
    "    print(args)\n",
    "    for arg in args:\n",
    "        print(arg)"
   ]
  },
  {
   "cell_type": "code",
   "execution_count": 25,
   "id": "99c81769",
   "metadata": {},
   "outputs": [
    {
     "name": "stdout",
     "output_type": "stream",
     "text": [
      "<class 'tuple'>\n",
      "(1, 2, 3, 4, 5, 6, 7)\n",
      "1\n",
      "2\n",
      "3\n",
      "4\n",
      "5\n",
      "6\n",
      "7\n"
     ]
    }
   ],
   "source": [
    "argsfoo(1, 2, 3, 4, 5, 6, 7)"
   ]
  },
  {
   "cell_type": "code",
   "execution_count": 26,
   "id": "ac31b6d9",
   "metadata": {},
   "outputs": [],
   "source": [
    "def kwargsfoo(**kwargs):\n",
    "    print(type(kwargs))\n",
    "    for key, value in kwargs.items():\n",
    "        print(key, value)"
   ]
  },
  {
   "cell_type": "code",
   "execution_count": 27,
   "id": "8c3910df",
   "metadata": {},
   "outputs": [
    {
     "name": "stdout",
     "output_type": "stream",
     "text": [
      "<class 'dict'>\n",
      "a 5\n",
      "b 4\n",
      "c 3\n"
     ]
    }
   ],
   "source": [
    "kwargsfoo(a=5, b=4, c=3)"
   ]
  },
  {
   "cell_type": "markdown",
   "id": "7627009f",
   "metadata": {},
   "source": [
    "Тобто, в сборі вся ця конструкція буде виглядати наступним чином:"
   ]
  },
  {
   "cell_type": "code",
   "execution_count": 29,
   "id": "bae61539",
   "metadata": {},
   "outputs": [],
   "source": [
    "def fullargsfoo(req_arg1, req_arg2, \n",
    "                default_arg1 = True, default_arg2 = False, \n",
    "                *args, **kwargs):\n",
    "    print(f\"Required Args: {req_arg1=}, {req_arg2=}\")\n",
    "    print(f\"Default Args: {default_arg1=}, {default_arg2=}\")\n",
    "    print(f\"*args: {args}\")\n",
    "    print(f\"**kwargs: {kwargs}\")"
   ]
  },
  {
   "cell_type": "code",
   "execution_count": 30,
   "id": "2792025c",
   "metadata": {},
   "outputs": [
    {
     "name": "stdout",
     "output_type": "stream",
     "text": [
      "Required Args: req_arg1='A', req_arg2='B'\n",
      "Default Args: default_arg1=1, default_arg2=2\n",
      "*args: (3, 45)\n",
      "**kwargs: {'c': 4, 'f': 6, 'd': 4}\n"
     ]
    }
   ],
   "source": [
    "fullargsfoo(\"A\", \"B\", 1, 2, 3, 45, c=4, f=6, d=4)"
   ]
  },
  {
   "cell_type": "markdown",
   "id": "18860869",
   "metadata": {},
   "source": [
    "Чому так сталося? Бо коли ми користуємося дефолтними аргументами, якщо їх не зазначати, то вони всеж таки приймають значеня, а  не потрапляють в `*args`"
   ]
  },
  {
   "cell_type": "code",
   "execution_count": 33,
   "id": "7eb39a74",
   "metadata": {},
   "outputs": [
    {
     "name": "stdout",
     "output_type": "stream",
     "text": [
      "Required Args: req_arg1='A', req_arg2='B'\n",
      "Default Args: default_arg1=True, default_arg2=False\n",
      "*args: (1, 2, 3, 45)\n",
      "**kwargs: {'c': 4, 'f': 6, 'd': 4}\n"
     ]
    }
   ],
   "source": [
    "fullargsfoo(\"A\", \"B\", True, False,\n",
    "            1, 2, 3, 45, c=4, f=6, d=4)"
   ]
  },
  {
   "cell_type": "markdown",
   "id": "af46f07e",
   "metadata": {},
   "source": [
    "Ми ще не раз будемо розбирати функції - тому про них мова піде як в лекції, так і в подальших лабах"
   ]
  },
  {
   "cell_type": "markdown",
   "id": "23ce917e",
   "metadata": {},
   "source": [
    "Як приклад - функція яка знаходить унікальний модіфікатор в вашому файлі роботи"
   ]
  },
  {
   "cell_type": "code",
   "execution_count": 34,
   "id": "b2137965",
   "metadata": {},
   "outputs": [],
   "source": [
    "def unq_modifier_finder(filepath):\n",
    "    with open(filepath, 'r', encoding='utf-8') as fp:\n",
    "        ps_id = None\n",
    "        for line in fp.readlines():\n",
    "            if \"#$@ UNQ\" in line:\n",
    "                _, _, ps_id = line.strip().split()\n",
    "                break\n",
    "        if ps_id is None:\n",
    "            raise GraderException(f\"No unique identifier was found inside the notebook!\")\n",
    "\n",
    "        return ps_id"
   ]
  },
  {
   "cell_type": "markdown",
   "id": "f75e6e22",
   "metadata": {},
   "source": [
    "## Локальні та глобальні змінні"
   ]
  },
  {
   "cell_type": "markdown",
   "id": "943d5b44",
   "metadata": {},
   "source": [
    "Ситуація, з якою стикнулися багато з вас, коли здавали лаби, а саме `NameError` - не випадкова, це цілком оправдано логікою локальних і глобальних змінних."
   ]
  },
  {
   "cell_type": "code",
   "execution_count": 36,
   "id": "9d8c89fe",
   "metadata": {},
   "outputs": [
    {
     "name": "stdout",
     "output_type": "stream",
     "text": [
      "1\n"
     ]
    }
   ],
   "source": [
    "def myfoo(a: int):\n",
    "    a = 5\n",
    "\n",
    "a = 1\n",
    "myfoo(a)\n",
    "\n",
    "print(a)"
   ]
  },
  {
   "cell_type": "markdown",
   "id": "46b6e149",
   "metadata": {},
   "source": [
    "Назви змінних та аргументів, які використовуються в функціях (а також методах класа) - ніяк не пов'язані зі змінними, що були об'явлені в тілі файлу.\n",
    "\n",
    "Так змінні, що були об'явлені в процедурному коді - файлі мають зазви **глобальних**, а змінні, що використовуються, створюються в функціях - **локальні**"
   ]
  },
  {
   "cell_type": "code",
   "execution_count": 37,
   "id": "febd0b01",
   "metadata": {},
   "outputs": [
    {
     "name": "stdout",
     "output_type": "stream",
     "text": [
      "присвоєно поза функцією\n"
     ]
    }
   ],
   "source": [
    "def f():\n",
    "    print(var)\n",
    "var = 'присвоєно поза функцією'\n",
    "f()"
   ]
  },
  {
   "cell_type": "markdown",
   "id": "ffc4ac23",
   "metadata": {},
   "source": [
    "У функцій (і методів класів) є доступ до **глобальних** змін, в той самий час як із **глобального пространства бачення** доступу до змінинх об'явлених в функціях та методах - доступу немає."
   ]
  },
  {
   "cell_type": "markdown",
   "id": "5717e0d4",
   "metadata": {},
   "source": [
    "Це трапляється через так звану **область бачення**, яка є глобальною, та локальною. В функцій є доступ до глобальних змін і до локальних."
   ]
  },
  {
   "cell_type": "code",
   "execution_count": 39,
   "id": "aa8de3a2",
   "metadata": {},
   "outputs": [
    {
     "ename": "NameError",
     "evalue": "name 'var2' is not defined",
     "output_type": "error",
     "traceback": [
      "\u001b[1;31m---------------------------------------------------------------------------\u001b[0m",
      "\u001b[1;31mNameError\u001b[0m                                 Traceback (most recent call last)",
      "Input \u001b[1;32mIn [39]\u001b[0m, in \u001b[0;36m<cell line: 4>\u001b[1;34m()\u001b[0m\n\u001b[0;32m      2\u001b[0m     var2 \u001b[38;5;241m=\u001b[39m \u001b[38;5;124m'\u001b[39m\u001b[38;5;124mприсвоєно всередині функції\u001b[39m\u001b[38;5;124m'\u001b[39m\n\u001b[0;32m      3\u001b[0m f()\n\u001b[1;32m----> 4\u001b[0m \u001b[38;5;28mprint\u001b[39m(\u001b[43mvar2\u001b[49m)\n",
      "\u001b[1;31mNameError\u001b[0m: name 'var2' is not defined"
     ]
    }
   ],
   "source": [
    "def f():\n",
    "    var2 = 'присвоєно всередині функції'\n",
    "f()\n",
    "print(var2)"
   ]
  },
  {
   "cell_type": "markdown",
   "id": "1bec5305",
   "metadata": {},
   "source": [
    "Якщо всередині функції модифікується значення деякої змінної, то змінна з таким ім'ям вважається локальною, і її модифікація не призведе до зміни глобальної змінної з таким самим ім'ям."
   ]
  },
  {
   "cell_type": "code",
   "execution_count": 43,
   "id": "eca1e3f1",
   "metadata": {},
   "outputs": [
    {
     "name": "stdout",
     "output_type": "stream",
     "text": [
      "присвоєно до функції\n",
      "присвоєно всередині функції\n",
      "присвоєно до функції\n"
     ]
    }
   ],
   "source": [
    "var3 = \"присвоєно до функції\"\n",
    "print(var3)\n",
    "\n",
    "def f():\n",
    "    var3 = 'присвоєно всередині функції'\n",
    "    print(var3)\n",
    "\n",
    "f()\n",
    "print(var3)"
   ]
  }
 ],
 "metadata": {
  "kernelspec": {
   "display_name": "Python 3 (ipykernel)",
   "language": "python",
   "name": "python3"
  },
  "language_info": {
   "codemirror_mode": {
    "name": "ipython",
    "version": 3
   },
   "file_extension": ".py",
   "mimetype": "text/x-python",
   "name": "python",
   "nbconvert_exporter": "python",
   "pygments_lexer": "ipython3",
   "version": "3.9.12"
  }
 },
 "nbformat": 4,
 "nbformat_minor": 5
}
