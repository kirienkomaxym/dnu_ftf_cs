{
 "cells": [
  {
   "cell_type": "markdown",
   "id": "29b689d1",
   "metadata": {},
   "source": [
    "# Lecture 2 Conditions, Loops, Indentation"
   ]
  },
  {
   "cell_type": "markdown",
   "id": "9278d409",
   "metadata": {},
   "source": [
    "## Conditions"
   ]
  },
  {
   "cell_type": "markdown",
   "id": "0ce538ca",
   "metadata": {},
   "source": [
    "До цього, ми дивилися на код, який виконується лінійно - строка за строкою виполнялася кожна інструкція. Однак, інколи, нам потрібно виконати інструкції нелінійно, в залежності від деяких умов.\n",
    "\n",
    "Тобто - за якихось умов виконати один блок інструкцій, а за інших умов - інший. Для цього в кожній мові програмування є інструменти які загально названи `conditions` - тобто умови.\n",
    "\n",
    "Для реалізації цього - в пайтоні існує наступні синтаксичні елементи:\n",
    "`if`, `elif`, `else`. Тобто `якщо`, `також якщо` і `інакше`.\n",
    "\n",
    "Наприклад, ми хочемо взнати до якої чверті належать змінні `x`, `y`."
   ]
  },
  {
   "attachments": {
    "quarts.png": {
     "image/png": "[encoded data removed]"
    }
   },
   "cell_type": "markdown",
   "id": "b2c243a3",
   "metadata": {},
   "source": [
    "![quarts.png](attachment:quarts.png)"
   ]
  },
  {
   "cell_type": "code",
   "execution_count": null,
   "id": "b533d765",
   "metadata": {},
   "outputs": [],
   "source": [
    "x = -4\n",
    "y = 5\n",
    "\n",
    "if x > 0 and y > 0:\n",
    "    print('I')\n",
    "elif x < 0 and y > 0:\n",
    "    print('II')\n",
    "elif x < 0 and y < 0:\n",
    "    print('III')\n",
    "else:\n",
    "    print('IV')\n"
   ]
  },
  {
   "cell_type": "markdown",
   "id": "804f6537",
   "metadata": {},
   "source": [
    "Тобто загально, умовні інструкції виглядають наступним чином:\n",
    "\n",
    "```\n",
    "if condition:\n",
    "    блок інструкцій\n",
    "```\n",
    "\n",
    "Якщо в нас можливо два стану кондиції `condition`, наприклад (1 та 0), то до цього додається `else`:\n",
    "\n",
    "```\n",
    "if condition:\n",
    "    блок інструкцій\n",
    "else:\n",
    "    блок інструкцій2\n",
    "```\n",
    "\n",
    "Якщо кілкість станці кондиції > 2, використовується також `else if`, який в пайтоні називається `elif`:\n",
    "\n",
    "```\n",
    "if condition:\n",
    "    блок інструкцій\n",
    "elif condition2:\n",
    "    блок інструкцій\n",
    "else:\n",
    "    блок інструкцій\n",
    "```"
   ]
  },
  {
   "cell_type": "code",
   "execution_count": null,
   "id": "a9ada8a4",
   "metadata": {},
   "outputs": [],
   "source": [
    "x = 5\n",
    "\n",
    "# single if condition check\n",
    "if x > 0:\n",
    "    print(\"X is bigger 0\")\n",
    "    \n",
    "# also works like this:\n",
    "condition = x > 0  # bool value received\n",
    "if condition:\n",
    "    print(\"X is bigger 0\")\n",
    "    \n",
    "# two states - check and other\n",
    "if condition:\n",
    "    print(\"X is bigger than 0\")\n",
    "else:\n",
    "    print(\"X less than 0 or equals to 0\")\n",
    "    \n",
    "\n",
    "# three states and more\n",
    "if x > 0:\n",
    "    print(\"X is bigger then 0\")\n",
    "elif x < 0:\n",
    "    print(\"X is lesser then 0\")\n",
    "else:\n",
    "    print(\"X equals 0\")"
   ]
  },
  {
   "cell_type": "markdown",
   "id": "4a7d8e84",
   "metadata": {},
   "source": [
    "Зверніть увагу - інструкції які будуть виконуватися за тих чі інших умов - відокремлені за допомогою табів, цей принцип називається інтенданцією - тобто виделення блоку інструкцій, які відносяться до одного блоку від інструкцій які виконуються в іншому блоці.\n",
    "\n",
    "В python - користуються табами, або подвійним пробелом, в інших мовах програмування користуються фігурними скобками \n",
    "\n",
    "```\n",
    "if condition {\n",
    "action\n",
    "}\n",
    "else {\n",
    "action2\n",
    "}\n",
    "```"
   ]
  },
  {
   "cell_type": "markdown",
   "id": "5c4511bd",
   "metadata": {},
   "source": [
    "Зверніть також увагу - що умовні інструкції виконуються за допомогою типу даних `bool`, тобто:\n",
    "\n",
    "```\n",
    "if condition:\n",
    "    action1\n",
    "else:\n",
    "    action2\n",
    "```\n",
    "\n",
    "Що можна перефразувати в:\n",
    "```\n",
    "якщо умова1 = ІСТИНА:\n",
    "    зроби це\n",
    "інакше:\n",
    "    зроби це\n",
    "```"
   ]
  },
  {
   "cell_type": "markdown",
   "id": "34f52164",
   "metadata": {},
   "source": [
    "Умови, як вже ви могли побачити, можуть працювати з декількома умовами, операторами порівняння, присутності, та логічними операторами."
   ]
  },
  {
   "cell_type": "code",
   "execution_count": null,
   "id": "5e35c0cf",
   "metadata": {},
   "outputs": [],
   "source": [
    "a = True\n",
    "b = True\n",
    "\n",
    "if a and b:\n",
    "    print(\"Both True\")\n",
    "elif a or b:\n",
    "    print(\"One is True\")\n",
    "else:\n",
    "    print(\"Both False\")"
   ]
  },
  {
   "cell_type": "code",
   "execution_count": null,
   "id": "6ae340ea",
   "metadata": {},
   "outputs": [],
   "source": [
    "mylist = [1, 2, 3, 4, 5]\n",
    "\n",
    "a, b, c = 1, 2, 6\n",
    "\n",
    "if a in mylist and b in mylist and c in mylist:\n",
    "    print(\"All of them are in list\")\n",
    "elif a in mylist and b in mylist or c in mylist:\n",
    "    print(\"Two of them are in list\")"
   ]
  },
  {
   "cell_type": "code",
   "execution_count": null,
   "id": "b1795516",
   "metadata": {},
   "outputs": [],
   "source": [
    "q = 5\n",
    "\n",
    "if q == 5:\n",
    "    print(\"q equals 5!\")"
   ]
  },
  {
   "cell_type": "code",
   "execution_count": null,
   "id": "d12634ac",
   "metadata": {},
   "outputs": [],
   "source": [
    "# is odd?\n",
    "n = 3\n",
    "\n",
    "if (n % 2) == 0:\n",
    "    print(\"ODD\")\n",
    "else:\n",
    "    print(\"Not odd\")"
   ]
  },
  {
   "cell_type": "markdown",
   "id": "fba50f7b",
   "metadata": {},
   "source": [
    "Також треба розуміти, з блоку умов завжди виконається лише одна з них, та, яка стоїть першою виконається першою і не зайде в інші, навіть якщо вона теж може бути виконана тобто:"
   ]
  },
  {
   "cell_type": "code",
   "execution_count": null,
   "id": "92dec031",
   "metadata": {},
   "outputs": [],
   "source": [
    "a = True\n",
    "\n",
    "if a:\n",
    "    print(\"Gonna be launched\")\n",
    "elif a:\n",
    "    print(\"Not gonna be launched\")\n",
    "elif a:\n",
    "    print(\"Not gonna be launched!\")\n",
    "else:\n",
    "    print(\"Not gonna be launched!\")"
   ]
  },
  {
   "cell_type": "markdown",
   "id": "0cc78bb0",
   "metadata": {},
   "source": [
    "Тобто - початок логічного блоку умов завжди починається з `if`, а потім, опійно, може продовжитися `elif` та `else`. Якщо потрібно перевірити декілька умов - треба користуватись декількома об'явленнями умов, користуючись декількома `if`."
   ]
  },
  {
   "cell_type": "code",
   "execution_count": null,
   "id": "288ca6f0",
   "metadata": {},
   "outputs": [],
   "source": [
    "a = 5\n",
    "b = 6\n",
    "\n",
    "if a == 5:\n",
    "    print('do something')\n",
    "else:\n",
    "    print('do something else')\n",
    "    \n",
    "if b == 6:\n",
    "    print('do something b')\n",
    "    "
   ]
  },
  {
   "cell_type": "markdown",
   "id": "8fb193be",
   "metadata": {},
   "source": [
    "Також ключові слова `if`, `elif` приводять типи даних які були передані на них до типу даних `bool`, за допомогою цього можна перевіряти деякі речі по типу чи є строка чи ліст пустим."
   ]
  },
  {
   "cell_type": "code",
   "execution_count": null,
   "id": "0c35776e",
   "metadata": {},
   "outputs": [],
   "source": [
    "a = \"\"\n",
    "\n",
    "if a:\n",
    "    print(\"a is not empty\")\n",
    "else:\n",
    "    print(\"a is empty!\")"
   ]
  },
  {
   "cell_type": "markdown",
   "id": "fea347e5",
   "metadata": {},
   "source": [
    "Тобто в данному випадку трапилося наступне - оператор `if` скористався типом даних `bool` як функцією і передав туда аргументом нашу змінну `a`."
   ]
  },
  {
   "cell_type": "code",
   "execution_count": null,
   "id": "6856b0f0",
   "metadata": {},
   "outputs": [],
   "source": [
    "if bool(a):\n",
    "    print(\"a is not empty\")\n",
    "else:\n",
    "    print(\"a is empty!\")"
   ]
  },
  {
   "cell_type": "markdown",
   "id": "bb01752d",
   "metadata": {},
   "source": [
    "Можна подумати, що наступний вираз, означає теж саме, але це не так. Чому?"
   ]
  },
  {
   "cell_type": "code",
   "execution_count": null,
   "id": "40c5239a",
   "metadata": {},
   "outputs": [],
   "source": [
    "a = \"\"\n",
    "\n",
    "if a == \"\":\n",
    "    print(\"a is empty\")"
   ]
  },
  {
   "cell_type": "markdown",
   "id": "cf42d292",
   "metadata": {},
   "source": [
    "Також умовами можна користуватися у вложенному варіанті, тобто наша задача зі знаходження положення координати в чверті може виглядати так:"
   ]
  },
  {
   "cell_type": "code",
   "execution_count": null,
   "id": "df10b3cf",
   "metadata": {},
   "outputs": [],
   "source": [
    "x, y = 3, -5\n",
    "\n",
    "if x > 0 and y > 0:\n",
    "    print('I')\n",
    "elif x < 0 and y > 0:\n",
    "    print('II')\n",
    "elif x < 0 and y < 0:\n",
    "    print('III')\n",
    "else:\n",
    "    print('IV')\n",
    "\n",
    "\n",
    "if x > 0:\n",
    "    if y > 0:\n",
    "        print(\"I\")\n",
    "    elif y < 0:\n",
    "        print('IV')\n",
    "else:\n",
    "    if y > 0:\n",
    "        print('II')\n",
    "    elif y > 0:\n",
    "        print('III')"
   ]
  },
  {
   "cell_type": "markdown",
   "id": "31663fa8",
   "metadata": {},
   "source": [
    "Ще одним пунктом, за яким треба уважно слідкувати - є наступне, в умову `else` завжди попадає те, що не пройло інші умови, тобто якщо в вас є 4 визначених стани (приклад з чверть координат), краще не користуватися `else`, бо:"
   ]
  },
  {
   "cell_type": "code",
   "execution_count": null,
   "id": "0838e263",
   "metadata": {},
   "outputs": [],
   "source": [
    "x = 0\n",
    "y = 5\n",
    "\n",
    "if x > 0:\n",
    "    if y > 0:\n",
    "        print(\"I\")\n",
    "    elif y < 0:\n",
    "        print('IV')\n",
    "else:\n",
    "    if y > 0:\n",
    "        print('II')\n",
    "    elif y > 0:\n",
    "        print('III')"
   ]
  },
  {
   "cell_type": "markdown",
   "id": "2d2f5975",
   "metadata": {},
   "source": [
    "Тобто, оскількі наша інструкція не пройшла першу умову - вона ЗАВЖДИ попадає в `else`, хоча якщо одна з координат дорівнює `0` - відповідно вона не відноситься до жодної площі, і через це виникає невизначений стан, а наша програма віднесла це до `II` чверті, що не є правильним:"
   ]
  },
  {
   "cell_type": "code",
   "execution_count": null,
   "id": "069a82c9",
   "metadata": {},
   "outputs": [],
   "source": [
    "x = 0\n",
    "y = 5\n",
    "\n",
    "if x > 0:\n",
    "    if y > 0:\n",
    "        print(\"I\")\n",
    "    elif y < 0:\n",
    "        print('IV')\n",
    "elif x < 0:\n",
    "    if y > 0:\n",
    "        print('II')\n",
    "    elif y > 0:\n",
    "        print('III')"
   ]
  },
  {
   "cell_type": "markdown",
   "id": "ae4becc1",
   "metadata": {},
   "source": [
    "Не відбулося нічого, бо жодна з умов не була виконана, що і є правильним у разі коли одна з коордінат дорівнуює `0`."
   ]
  },
  {
   "cell_type": "markdown",
   "id": "6371d8b8",
   "metadata": {},
   "source": [
    "Вложеність умов може бути якою завгодно, хоча великі полотна з умов, вважаються bad practice."
   ]
  },
  {
   "cell_type": "code",
   "execution_count": null,
   "id": "032851cb",
   "metadata": {},
   "outputs": [],
   "source": [
    "a, b, c, d, e, f = [i for i in range(1, 7)]\n",
    "\n",
    "if a:\n",
    "    if b:\n",
    "        if c:\n",
    "            if d:\n",
    "                if e:\n",
    "                    if f:\n",
    "                        print(\"dont do that, please\")"
   ]
  },
  {
   "cell_type": "markdown",
   "id": "a9eeb617",
   "metadata": {},
   "source": [
    "Також існує можливість робити так звані `oneliners`, тобто:"
   ]
  },
  {
   "cell_type": "code",
   "execution_count": null,
   "id": "2891d1ad",
   "metadata": {},
   "outputs": [],
   "source": [
    "a = 5\n",
    "if a == 5: print('yes')"
   ]
  },
  {
   "cell_type": "code",
   "execution_count": null,
   "id": "f22fbbb3",
   "metadata": {},
   "outputs": [],
   "source": [
    "b = 5 if a == 0 else 7\n",
    "b"
   ]
  },
  {
   "cell_type": "code",
   "execution_count": null,
   "id": "e154a3d1",
   "metadata": {},
   "outputs": [],
   "source": [
    "print(\"Yes\") if a > 2 else print(\"No\") if a == 0 else print(\"What?\")"
   ]
  },
  {
   "cell_type": "markdown",
   "id": "d38929b9",
   "metadata": {},
   "source": [
    "Умови є ключовими конструкціями мови програмування, ось наприклад - фрагмент з коду бота, який виявляє максимальний бал за оцінку, виходячі з кількості діб, що минули:"
   ]
  },
  {
   "cell_type": "code",
   "execution_count": null,
   "id": "e14dff72",
   "metadata": {},
   "outputs": [],
   "source": [
    "import datetime\n",
    "release_date = datetime.datetime.now().date()\n",
    "cur_date = datetime.datetime.now().date()\n",
    "\n",
    "\n",
    "if release_date != cur_date:\n",
    "    if weeks_passed >= 2:\n",
    "        grade_modifier = 0\n",
    "    elif weeks_passed == 1:\n",
    "        grade_modifier = 0.215\n",
    "    elif weeks_passed == 0 or weeks_passed == -1:\n",
    "        grade_modifier = 0.5\n",
    "    else:\n",
    "        raise Exception(\"Unhandled state\")\n",
    "else:\n",
    "    grade_modifier = 0.5\n",
    "    \n",
    "grade_modifier"
   ]
  },
  {
   "cell_type": "markdown",
   "id": "3d216783",
   "metadata": {},
   "source": [
    "## Цикли: цикл for"
   ]
  },
  {
   "cell_type": "markdown",
   "id": "03e62b18",
   "metadata": {},
   "source": [
    "Цикли - мовні конструкції - які дозволяють робити перебор значень в якоїсь послідовності і виполняти інструкції за кожну ітерацію.\n",
    "\n",
    "В python, цикл створюється за допомогою синтаксичних кейвордів - `for` та `in`. Також, при створюванні цикла треба користуватися інтенданцією, так, як це було з умовами:"
   ]
  },
  {
   "cell_type": "code",
   "execution_count": null,
   "id": "27348196",
   "metadata": {},
   "outputs": [],
   "source": [
    "my_list = [1, 2, 3, 4, 5]\n",
    "\n",
    "for i in my_list:\n",
    "    print(i)"
   ]
  },
  {
   "cell_type": "markdown",
   "id": "bf7187d9",
   "metadata": {},
   "source": [
    "Тобто, ми проходимо по кожному елементу цикла, і в кожній ітерації виконується якийсь блок інструкцій. Щоб отримати елемент - яким перебирають треба після `for` ставити назву змінної, яка буде використовуватися для отримання значення ітерації."
   ]
  },
  {
   "cell_type": "code",
   "execution_count": null,
   "id": "158d0a97",
   "metadata": {},
   "outputs": [],
   "source": [
    "for variable_name in my_list:\n",
    "    print(f\"{variable_name=}\")\n",
    "\n",
    "print(f\"{variable_name=}\")"
   ]
  },
  {
   "cell_type": "markdown",
   "id": "1c462e2d",
   "metadata": {},
   "source": [
    "Зверніть увагу, значення `variable_name`, залишається на тому значенні що й останній елемент послідовності, тобто `5`"
   ]
  },
  {
   "cell_type": "markdown",
   "id": "4fb12f05",
   "metadata": {},
   "source": [
    "За допомогою циклів, можна перебирати будь які послідовності - тобто `list`, `tuple`, `set`, `dict`, `str` та інші."
   ]
  },
  {
   "cell_type": "code",
   "execution_count": null,
   "id": "22534727",
   "metadata": {},
   "outputs": [],
   "source": [
    "my_dict = {1: \"a\", 2: \"b\", 3: \"c\"}\n",
    "\n",
    "for i in my_dict:\n",
    "    print(i)"
   ]
  },
  {
   "cell_type": "code",
   "execution_count": null,
   "id": "80348c07",
   "metadata": {},
   "outputs": [],
   "source": [
    "my_tuple = (3, 2, 1)\n",
    "\n",
    "for i in my_tuple:\n",
    "    print(i)"
   ]
  },
  {
   "cell_type": "code",
   "execution_count": null,
   "id": "e529ac9a",
   "metadata": {},
   "outputs": [],
   "source": [
    "my_str = \"abcdef\"\n",
    "\n",
    "for i in my_str:\n",
    "    print(i)"
   ]
  },
  {
   "cell_type": "markdown",
   "id": "2c69d806",
   "metadata": {},
   "source": [
    "Всередині циклів, також треба об'являти якусь існтрукцію, і вона також може бути вложеною, наприклад знайдемо в послідовності значення чисел, що діляться націло на 3"
   ]
  },
  {
   "cell_type": "code",
   "execution_count": null,
   "id": "288f45dc",
   "metadata": {},
   "outputs": [],
   "source": [
    "my_numbers = [3, 4, 5, 6, 7, 8, 9]\n",
    "\n",
    "for number in my_numbers:\n",
    "    if number % 3 == 0:\n",
    "        print(f\"number {number} is the number!\")"
   ]
  },
  {
   "cell_type": "markdown",
   "id": "65452647",
   "metadata": {},
   "source": [
    "Якщо вам потрібно зупинити будь який цикл, треба скористатися сінтаксичним елементом `break`, наприклад:"
   ]
  },
  {
   "cell_type": "code",
   "execution_count": null,
   "id": "7418bc4e",
   "metadata": {},
   "outputs": [],
   "source": [
    "for i in my_numbers:\n",
    "    print(i)\n",
    "    if i > 5:\n",
    "        break"
   ]
  },
  {
   "cell_type": "markdown",
   "id": "7d63948b",
   "metadata": {},
   "source": [
    "Також цикли можуть бути бескінечно вложенні, наприклад:"
   ]
  },
  {
   "cell_type": "code",
   "execution_count": null,
   "id": "a8685a62",
   "metadata": {},
   "outputs": [],
   "source": [
    "my_str = \"abcde\"\n",
    "my_numbers1 = 1, 2, 3\n",
    "my_bools = True, False\n",
    "\n",
    "for i in my_str:\n",
    "    for j in my_numbers:\n",
    "        for k in my_bools:\n",
    "            print(i)\n",
    "            print(j)\n",
    "            print(k)"
   ]
  },
  {
   "cell_type": "markdown",
   "id": "380de675",
   "metadata": {},
   "source": [
    "Зверніть увагу як саме виконуються цикли, що в першу чергу виконується той цикл, який має найбільшу вложенність."
   ]
  },
  {
   "cell_type": "markdown",
   "id": "ba11a5f8",
   "metadata": {},
   "source": [
    "Також, до циклів може бути застосований елемент `else`, який виконається тількі в разі того, якщо цикл був заверений без помилок, або не був закінчений за допомогою `break`"
   ]
  },
  {
   "cell_type": "code",
   "execution_count": null,
   "id": "ecd3763b",
   "metadata": {},
   "outputs": [],
   "source": [
    "nums = [1, 2, 3, 4, 5]\n",
    "\n",
    "for num in nums:\n",
    "    if a > 2:\n",
    "        # break\n",
    "        pass\n",
    "else:\n",
    "    print(\"Entered Else\")\n",
    "    "
   ]
  },
  {
   "cell_type": "markdown",
   "id": "12312794",
   "metadata": {},
   "source": [
    "В попередньому блоці кода з'явився новий сінтаксичний елемент - `pass`, який може бути використаний будь де, будь коли, по факту ця інструкція каже інтерпритатору - не треба нічого робити."
   ]
  },
  {
   "cell_type": "code",
   "execution_count": null,
   "id": "da12026e",
   "metadata": {},
   "outputs": [],
   "source": [
    "a = 5\n",
    "if a == 5:\n",
    "    pass"
   ]
  },
  {
   "cell_type": "markdown",
   "id": "e5abd6ce",
   "metadata": {},
   "source": [
    "Але, вона потрібна для того, щоб вложений блок інструкцій, якщо нічого не треба робити - міг бути створений, тобто:"
   ]
  },
  {
   "cell_type": "code",
   "execution_count": null,
   "id": "b5c2211c",
   "metadata": {},
   "outputs": [],
   "source": [
    "# IndentationError:\n",
    "# for i in \"abcd\":\n",
    "    \n",
    "\n",
    "for i in \"abcd\":\n",
    "    pass"
   ]
  },
  {
   "cell_type": "markdown",
   "id": "11236057",
   "metadata": {},
   "source": [
    "Ми вже з вами бачили, що в мові пайтон можа присваювати декільком змінним значення на одній строчці, це не тількі зручно, але й використовується в циклах."
   ]
  },
  {
   "cell_type": "code",
   "execution_count": null,
   "id": "47ba645f",
   "metadata": {},
   "outputs": [],
   "source": [
    "my_dict = {\"id\": 213, \"Name\": \"Doh\", \"Guilty\": True}\n",
    "\n",
    "my_dict.items()"
   ]
  },
  {
   "cell_type": "code",
   "execution_count": null,
   "id": "052f15df",
   "metadata": {},
   "outputs": [],
   "source": [
    "for item in my_dict.items():\n",
    "    print(f\"{item=}\")"
   ]
  },
  {
   "cell_type": "code",
   "execution_count": null,
   "id": "99dd8f89",
   "metadata": {},
   "outputs": [],
   "source": [
    "for item in my_dict.items():\n",
    "    key, val = item\n",
    "    print(f'{key=}, {val=}')"
   ]
  },
  {
   "cell_type": "markdown",
   "id": "d2ba411a",
   "metadata": {},
   "source": [
    "Коли ми присваюємо значення якоїсь послідовності елементам, це називається розпаковка. Детальніше про це - [unpacking](https://stackabuse.com/unpacking-in-python-beyond-parallel-assignment/)\n",
    "\n",
    "В нашому випадку, інструмент розпаковки вбудований в сам цикл `for`, і має можливість робити наступне:"
   ]
  },
  {
   "cell_type": "code",
   "execution_count": null,
   "id": "3b71e1a5",
   "metadata": {},
   "outputs": [],
   "source": [
    "for key, value in my_dict.items():\n",
    "    print(f'{key=}, {val=}')"
   ]
  },
  {
   "cell_type": "markdown",
   "id": "b81084cb",
   "metadata": {},
   "source": [
    "Ще приклад, функція `enumerate`, яка робить з любого ітеруємого об'єкта `tuple`, що містить два елемента - об'єкт з ітеруємого об'єкта і його індекс:"
   ]
  },
  {
   "cell_type": "code",
   "execution_count": null,
   "id": "2311cdb3",
   "metadata": {},
   "outputs": [],
   "source": [
    "my_str = \"abcdefg\"\n",
    "en = enumerate(my_str)\n",
    "\n",
    "print(en)"
   ]
  },
  {
   "cell_type": "code",
   "execution_count": null,
   "id": "21b9a0e5",
   "metadata": {},
   "outputs": [],
   "source": [
    "for index, obj in en:\n",
    "    print(f\"{index=}, {obj=}\")"
   ]
  },
  {
   "cell_type": "markdown",
   "id": "20c32dd3",
   "metadata": {},
   "source": [
    "Ще однією з корисних функцій, яку часто використовують при роботі з циклами - вбудована функція `range`, яка приймає три аргументи - `start`, `stop`, `step`:"
   ]
  },
  {
   "cell_type": "code",
   "execution_count": null,
   "id": "c503abda",
   "metadata": {},
   "outputs": [],
   "source": [
    "my_rng = range(5, 15, 3)\n",
    "\n",
    "for i in my_rng:\n",
    "    print(i)"
   ]
  },
  {
   "cell_type": "code",
   "execution_count": null,
   "id": "e9c6d8c6",
   "metadata": {},
   "outputs": [],
   "source": [
    "for i in range(10):\n",
    "    print(i)"
   ]
  },
  {
   "cell_type": "markdown",
   "id": "ab8ebab5",
   "metadata": {},
   "source": [
    "Також, разом з циклами активно використовують індексацію, тобто:"
   ]
  },
  {
   "cell_type": "code",
   "execution_count": null,
   "id": "f65b3f8a",
   "metadata": {},
   "outputs": [],
   "source": [
    "my_list = [1, 2, 3, 4, 5, 6, 8, 9]\n",
    "\n",
    "print(my_list)\n",
    "for i in range(len(my_list)):\n",
    "    my_list[i] = 0\n",
    "    \n",
    "print(my_list)"
   ]
  },
  {
   "cell_type": "markdown",
   "id": "9cdc19c6",
   "metadata": {},
   "source": [
    "Ще одним із функціоналу циклів можна виділити наступне використання циклу:"
   ]
  },
  {
   "cell_type": "code",
   "execution_count": null,
   "id": "d0d90ab9",
   "metadata": {},
   "outputs": [],
   "source": [
    "a = \"\"\n",
    "\n",
    "print(f\"{a=}\")\n",
    "\n",
    "for i in range(10):\n",
    "    a += \"q\"\n",
    "    \n",
    "print(f\"{a=}\")"
   ]
  },
  {
   "cell_type": "markdown",
   "id": "eb3c2d32",
   "metadata": {},
   "source": [
    "Також - однією з можливостей `python` є використання т.з. `comprehensions`, детальніше [comprehension](https://www.w3schools.com/python/python_lists_comprehension.asp)"
   ]
  },
  {
   "cell_type": "code",
   "execution_count": null,
   "id": "3bc36de5",
   "metadata": {},
   "outputs": [],
   "source": [
    "a = [i for i in range(10)]\n",
    "\n",
    "print(a)\n",
    "\n",
    "b = [i for i in \"a, b, c, d, e, f\"]\n",
    "\n",
    "print(b)"
   ]
  },
  {
   "cell_type": "markdown",
   "id": "d7570745",
   "metadata": {},
   "source": [
    "І ось вам приклад того, як використовуються цикл `for` - тут є шматок кода бота, який перевіряє що функція, яку ви написали видає той результат, який я очікую, і в разі якщо вона не є правильною - я зупиняю перевірку данної задачі\n",
    "\n",
    "До понять `try`, `except`, `assert` та `with` ми ще дойдемо."
   ]
  },
  {
   "cell_type": "code",
   "execution_count": null,
   "id": "a5f12af0",
   "metadata": {},
   "outputs": [],
   "source": [
    "exec_history_list = []\n",
    "with ModuleReader(python_ps_path) as test_module:\n",
    "    for fn_id, fn_id_dict in test_cases_dict['test_cases'].items():\n",
    "        f_name = fn_id_dict['f_name']\n",
    "        f_cases = fn_id_dict['f_cases']\n",
    "\n",
    "        func = test_module.__dict__[f_name]\n",
    "        for t_case_id, t_case in f_cases.items():\n",
    "            try:\n",
    "                args = t_case['args']\n",
    "                res = t_case['res']\n",
    "\n",
    "                user_res = func_timeout(10, func, tuple(args))\n",
    "                assert user_res == res\n",
    "\n",
    "            except AssertionError as ae:\n",
    "                exec_history_list.append(ExecHistoryStorage(fn_name=f_name, grade=0., fn_exec_status='FAILED',\n",
    "                                                            fn_error=ae.__class__.__name__, args_used=args))\n",
    "                break\n",
    "            except FunctionTimedOut as fto:\n",
    "\n",
    "                exec_history_list.append(ExecHistoryStorage(fn_name=f_name, grade=0., fn_exec_status='FAILED',\n",
    "                                                            fn_error=fto.__class__.__name__, args_used=args))\n",
    "                break\n",
    "            except Exception as e:\n",
    "                log.info(f\"General exception received during file grading: {e}\")\n",
    "                exec_history_list.append(ExecHistoryStorage(fn_name=f_name, grade=0., fn_exec_status='FAILED',\n",
    "                                                            fn_error=e.__class__.__name__, args_used=args))\n",
    "                break\n",
    "        else:\n",
    "            res_grade += grade_modifier\n",
    "            exec_history_list.append(ExecHistoryStorage(fn_name=f_name, grade=grade_modifier,\n",
    "                                                        fn_exec_status=\"PASSED\"))"
   ]
  },
  {
   "cell_type": "markdown",
   "id": "31ababc0",
   "metadata": {},
   "source": [
    "## Цикли: цикл while"
   ]
  },
  {
   "cell_type": "markdown",
   "id": "70f394c3",
   "metadata": {},
   "source": [
    "Іншим методом створення циклів - являється ключове слово `while`, тобто `поки`. `while` використовується з будь яким булевим значенням справа від себе, також потрибує двокрапку і буде 'ганяти' цикл до тих пір, поки умова справа від `while` не буде виконана."
   ]
  },
  {
   "cell_type": "code",
   "execution_count": null,
   "id": "bcde5479",
   "metadata": {},
   "outputs": [],
   "source": [
    "a = 5\n",
    "while a < 10:\n",
    "    print(a)\n",
    "    a += 1"
   ]
  },
  {
   "cell_type": "markdown",
   "id": "65902841",
   "metadata": {},
   "source": [
    "Звісно, можна створити взагалі безкінечний цикл, просто вставивши справа від `while` значення `True`"
   ]
  },
  {
   "cell_type": "code",
   "execution_count": null,
   "id": "397a5923",
   "metadata": {},
   "outputs": [],
   "source": [
    "while True:\n",
    "    pass"
   ]
  },
  {
   "cell_type": "markdown",
   "id": "01ecfca8",
   "metadata": {},
   "source": [
    "Для того, щоб зупинити цикл `while`, що не дішов до логічної зупинки, користуються зновуж-таки `break`:"
   ]
  },
  {
   "cell_type": "code",
   "execution_count": null,
   "id": "a893d91e",
   "metadata": {},
   "outputs": [],
   "source": [
    "a = 5\n",
    "\n",
    "while True:\n",
    "    a += 1\n",
    "    print(a)\n",
    "    if a == 10:\n",
    "        break"
   ]
  },
  {
   "cell_type": "markdown",
   "id": "35c39d2e",
   "metadata": {},
   "source": [
    "Також, циклом `while` не дуже зручно, але можна перебирати елементи (шоб шо, не зрозуміло, не робіть так)"
   ]
  },
  {
   "cell_type": "code",
   "execution_count": null,
   "id": "c0b14821",
   "metadata": {},
   "outputs": [],
   "source": [
    "sequence = [i for i in range(10)]\n",
    "counter = 0\n",
    "\n",
    "while counter < len(sequence):\n",
    "    print(sequence[counter])\n",
    "    counter += 1"
   ]
  },
  {
   "cell_type": "markdown",
   "id": "594e24ed",
   "metadata": {},
   "source": [
    "Завдяки `while` - дуже зручно створювати програми, які мають працювати безкінечно - наприклад бот працює без кінця."
   ]
  },
  {
   "cell_type": "markdown",
   "id": "b3549981",
   "metadata": {},
   "source": [
    "От приклад частини програми бота - яка працює постійно і пише ваші дані в файл:"
   ]
  },
  {
   "cell_type": "code",
   "execution_count": null,
   "id": "51e95596",
   "metadata": {},
   "outputs": [],
   "source": [
    "while not exit_event.is_set():\n",
    "    try:\n",
    "        datarow: DataRow = q.get(timeout=1)\n",
    "        log.info(f\"New data row received: {datarow}\")\n",
    "    except Empty:\n",
    "        time.sleep(0.1)\n",
    "        continue\n",
    "\n",
    "    try:\n",
    "        df = pd.read_csv(fp)\n",
    "        user_record_df = df.loc[df['chat_id'] == datarow.chat_id]\n",
    "\n",
    "        if user_record_df.empty:\n",
    "            df = df.append(asdict(datarow), ignore_index=True)\n",
    "            log.info(f\"New user registered, name: {datarow.name}, chat_id {datarow.chat_id}\")\n",
    "        else:\n",
    "            for key, value in asdict(datarow).items():\n",
    "                if value is not None:\n",
    "\n",
    "                    if 'grade' in key:\n",
    "                        if value > user_record_df[key].values[0]:\n",
    "                            user_record_df[key] = value\n",
    "                            log.info(f\"User {user_record_df['name'].values[0]} \"\n",
    "                                     f\"row updated with new key/value: {key}: {value}\")\n",
    "                        else:\n",
    "                            log.info(f\"{key} was not updated due to higher value in dataframe\")\n",
    "                    else:\n",
    "                        user_record_df[key] = value\n",
    "                        log.info(f\"User {user_record_df['name'].values[0]} \"\n",
    "                                 f\"row updated with new key/value: {key}: {value}\")\n",
    "\n",
    "            df.update(user_record_df)\n",
    "\n",
    "        df.to_csv(fp, index=False)\n",
    "    except Exception as e:\n",
    "        log.error(f\"Exception happened during an attempt of writing the new data, data used {datarow},\"\n",
    "                  f\"exception {e}\")"
   ]
  }
 ],
 "metadata": {
  "kernelspec": {
   "display_name": "Python 3 (ipykernel)",
   "language": "python",
   "name": "python3"
  },
  "language_info": {
   "codemirror_mode": {
    "name": "ipython",
    "version": 3
   },
   "file_extension": ".py",
   "mimetype": "text/x-python",
   "name": "python",
   "nbconvert_exporter": "python",
   "pygments_lexer": "ipython3",
   "version": "3.9.12"
  }
 },
 "nbformat": 4,
 "nbformat_minor": 5
}
