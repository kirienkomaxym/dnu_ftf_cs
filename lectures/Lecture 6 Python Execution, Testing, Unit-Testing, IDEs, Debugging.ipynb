{
 "cells": [
  {
   "cell_type": "markdown",
   "id": "12363769",
   "metadata": {},
   "source": [
    "# Lecture 6 Python Execution, Testing, Unit-Testing, IDEs, Debugging"
   ]
  },
  {
   "cell_type": "markdown",
   "id": "fecfdaa2",
   "metadata": {},
   "source": [
    "## Python Execution"
   ]
  },
  {
   "cell_type": "markdown",
   "id": "3cde68b6",
   "metadata": {},
   "source": [
    "Впродовж курсу ми з вами користувалися здебільшого середовищем `jupyter`. Проте це середовище дуже нерелевантне до того, як працює пайтон код в умовному проді. Давайте розберемо цю тему детальніше, адже в найближчому часі вам буде необхідно створювати свої проекти відповідно до завдання, і створювати їх буде необхідно в умовах наближених до реальної роботи."
   ]
  },
  {
   "cell_type": "markdown",
   "id": "981072a2",
   "metadata": {},
   "source": [
    "### Python Console"
   ]
  },
  {
   "cell_type": "markdown",
   "id": "9a8ae26e",
   "metadata": {},
   "source": [
    "Якщо ви встановили собі `python` як пакет з офіційного сайту, або ви встановили його завдякі `anaconda`, то ви можете відкрити консоль, завдяки якій ви зможете виконувати той чи інший код. Для запуску консолі відрийте або unix-terminal, за умов якщо ваша os - unix-like, або promt від windows, або `anaconda powershell promt`, який був встановлений вами під час установки пакету `anaconda`"
   ]
  },
  {
   "cell_type": "markdown",
   "id": "8b1ab670",
   "metadata": {},
   "source": [
    "Далі - у випадку `unix` введить команду `python3`, або, у випадку windows - `python`"
   ]
  },
  {
   "cell_type": "markdown",
   "id": "58a7181a",
   "metadata": {},
   "source": [
    "```\n",
    "(base) PS > python\n",
    "Python 3.9.12 (main, Apr  4 2022, 05:22:27) [MSC v.1916 64 bit (AMD64)] :: Anaconda, Inc. on win32\n",
    "Type \"help\", \"copyright\", \"credits\" or \"license\" for more information.\n",
    ">>>\n",
    "```"
   ]
  },
  {
   "cell_type": "markdown",
   "id": "8e1db98c",
   "metadata": {},
   "source": [
    "Користучись консолью ви можете виконувати ті ж самі задачі, і той самий код що і в середі `jupyter`, консоль може бути дуже зручна у випадку коли вам необхідно швидко протестувати ту чи іншу конструкцію, чи працює вона взагалі і так далі"
   ]
  },
  {
   "cell_type": "markdown",
   "id": "7a3fd911",
   "metadata": {},
   "source": [
    "```\n",
    ">>> a = 5\n",
    ">>> b = c\n",
    "Traceback (most recent call last):\n",
    "  File \"<stdin>\", line 1, in <module>\n",
    "NameError: name 'c' is not defined\n",
    ">>> q = 10\n",
    ">>> [i for i in enumerate(list(range(0, 20)) if i != a and i != q]\n",
    "  File \"<stdin>\", line 1\n",
    "    [i for i in enumerate(list(range(0, 20)) if i != a and i != q]\n",
    "                                                                 ^\n",
    "SyntaxError: closing parenthesis ']' does not match opening parenthesis '('\n",
    ">>> [i for i in enumerate(list(range(0, 20))) if i != a and i != q]\n",
    "[(0, 0), (1, 1), (2, 2), (3, 3), (4, 4), (5, 5), (6, 6), (7, 7), (8, 8), (9, 9), (10, 10), (11, 11), (12, 12), (13, 13), (14, 14), (15, 15), (16, 16), (17, 17), (18, 18), (19, 19)]\n",
    "```"
   ]
  },
  {
   "cell_type": "markdown",
   "id": "198cf844",
   "metadata": {},
   "source": [
    "### Jupyter Environment"
   ]
  },
  {
   "cell_type": "markdown",
   "id": "b9aaae64",
   "metadata": {},
   "source": [
    "Середовище `jupyter` - яким ви користуєтеся доволі схоже за використанням консолі - проте моно може вміщати в себе `markdown` тексти, спрощувати роботу з масивами, табличними даними та зображенням. А код запускається не по одній інструкції як в консолі, а цілим скопом інструкцій, які були позначені в клітинці, що запустилася."
   ]
  },
  {
   "cell_type": "markdown",
   "id": "6bddcc36",
   "metadata": {},
   "source": [
    "Приклад роботи середовища `jupyter` з графіками:"
   ]
  },
  {
   "cell_type": "code",
   "execution_count": null,
   "id": "5287b566",
   "metadata": {},
   "outputs": [],
   "source": [
    "# example data\n",
    "x = np.arange(0.1, 4, 0.1)\n",
    "y1 = np.exp(-1.0 * x)\n",
    "y2 = np.exp(-0.5 * x)\n",
    "\n",
    "# example variable error bar values\n",
    "y1err = 0.1 + 0.1 * np.sqrt(x)\n",
    "y2err = 0.1 + 0.1 * np.sqrt(x/2)\n",
    "\n",
    "\n",
    "fig, (ax0, ax1, ax2) = plt.subplots(nrows=1, ncols=3, sharex=True,\n",
    "                                    figsize=(12, 6))\n",
    "\n",
    "ax0.set_title('all errorbars')\n",
    "ax0.errorbar(x, y1, yerr=y1err)\n",
    "ax0.errorbar(x, y2, yerr=y2err)\n",
    "\n",
    "ax1.set_title('only every 6th errorbar')\n",
    "ax1.errorbar(x, y1, yerr=y1err, errorevery=6)\n",
    "ax1.errorbar(x, y2, yerr=y2err, errorevery=6)\n",
    "\n",
    "ax2.set_title('second series shifted by 3')\n",
    "ax2.errorbar(x, y1, yerr=y1err, errorevery=(0, 6))\n",
    "ax2.errorbar(x, y2, yerr=y2err, errorevery=(3, 6))\n",
    "\n",
    "fig.suptitle('Errorbar subsampling')"
   ]
  },
  {
   "cell_type": "markdown",
   "id": "acfa6bb0",
   "metadata": {},
   "source": [
    "Приклад роботи `jupyter` з таблицями:"
   ]
  },
  {
   "cell_type": "code",
   "execution_count": null,
   "id": "0d2d3338",
   "metadata": {},
   "outputs": [],
   "source": [
    "import pandas as pd\n",
    "\n",
    "df = pd.DataFrame({'num_legs': [2, 4, 8, 0],\n",
    "                   'num_wings': [2, 0, 0, 0],\n",
    "                   'num_specimen_seen': [10, 2, 1, 8]},\n",
    "                  index=['falcon', 'dog', 'spider', 'fish'])\n",
    "\n",
    "df"
   ]
  },
  {
   "cell_type": "markdown",
   "id": "5a13ba43",
   "metadata": {},
   "source": [
    "Приклад роботи `jupyter` з масивами:"
   ]
  },
  {
   "cell_type": "code",
   "execution_count": null,
   "id": "69d51a1c",
   "metadata": {},
   "outputs": [],
   "source": [
    "import numpy as np\n",
    "\n",
    "eye = np.eye(5)\n",
    "eye"
   ]
  },
  {
   "cell_type": "markdown",
   "id": "595d3241",
   "metadata": {},
   "source": [
    "Середовище `jupyter` - взагалі використоується для виконання тих чи інших проектів, пов'язаних з наукою, даними, і так далі, в деяких аспектах, `jupyter` схожий на інше програмне середовище - `matlab`, він так само має змогу швидко робити графіки, відтворяти масиви, і код якого, здебільшого має виконуватися інструкція за існтрукцією - тобто в процедурному стилі."
   ]
  },
  {
   "cell_type": "markdown",
   "id": "57a735e9",
   "metadata": {},
   "source": [
    "### .py Files, create & execute"
   ]
  },
  {
   "cell_type": "markdown",
   "id": "f100e254",
   "metadata": {},
   "source": [
    "Те, що ви почали своє знайомсто з `python` через середовище `jupyter`, насправді, трохи спростило вам життя. Але базовим прикладом роботи з `python` середовищем є насамперед створення та запуск файлів з розширенням `.py`, і запуск цих файлів."
   ]
  },
  {
   "cell_type": "markdown",
   "id": "3b851f0b",
   "metadata": {},
   "source": [
    "Наприклад створемо `.py` файл з наступним кодом:"
   ]
  },
  {
   "cell_type": "code",
   "execution_count": null,
   "id": "de5f3314",
   "metadata": {},
   "outputs": [],
   "source": [
    "import time\n",
    "import sys\n",
    "\n",
    "try:\n",
    "    i = 0\n",
    "    while True:\n",
    "        print(f\"This is my {i}th iteration, now Im going to sleep\")\n",
    "        time.sleep(1)\n",
    "        i += 1\n",
    "except KeyboardInterrupt:\n",
    "    print(\"Endless cycle was interrupted\")\n",
    "    sys.exit(1)"
   ]
  },
  {
   "attachments": {
    "notepad-2.png": {
     "image/png": "[encoded data removed]"
    }
   },
   "cell_type": "markdown",
   "id": "582bb3a1",
   "metadata": {},
   "source": [
    "![notepad-2.png](attachment:notepad-2.png)"
   ]
  },
  {
   "cell_type": "markdown",
   "id": "b8fe413c",
   "metadata": {},
   "source": [
    "Як ви бачите, ми відкрили цей файл через `numpad` та зберігли його у форматі `.py`. Тепер нам треба запустити цей файл, користуючись наступним сінтаксисом (через термінал, як це було пояснено в главі про консолі)"
   ]
  },
  {
   "cell_type": "markdown",
   "id": "24d2923b",
   "metadata": {},
   "source": [
    "* `cd /path/to/my_script/dir`\n",
    "* `python _lec6_whiletrue.py`"
   ]
  },
  {
   "cell_type": "markdown",
   "id": "49efd4bc",
   "metadata": {},
   "source": [
    "Ви побачите наступне:"
   ]
  },
  {
   "cell_type": "markdown",
   "id": "5a1723fb",
   "metadata": {},
   "source": [
    "```\n",
    "(base) PS O:\\Projects\\dnu_ftf_cs\\_notebooks_data\\_scripts> python .\\_lec6_whiletrue.py\n",
    "This is my 0th iteration, now Im going to sleep\n",
    "This is my 1th iteration, now Im going to sleep\n",
    "This is my 2th iteration, now Im going to sleep\n",
    "This is my 3th iteration, now Im going to sleep\n",
    "This is my 4th iteration, now Im going to sleep\n",
    "This is my 5th iteration, now Im going to sleep\n",
    "This is my 6th iteration, now Im going to sleep\n",
    "Endless cycle was interrupted\n",
    "```"
   ]
  },
  {
   "cell_type": "markdown",
   "id": "705f3539",
   "metadata": {},
   "source": [
    "Уявимо, наприклад, що ваша програма це умовний сервер, яка має працювати в безкінечному циклі і оброблювати запроси від програм-клієнтів. Тоді, вам, в першому наближенні буде необхідно розташувати свій пайтон файл на сервері, та запустити його таким самим чином. Щоб імплементувати базовий безкінечний цикл, достатньо звичайного `while True`."
   ]
  },
  {
   "cell_type": "markdown",
   "id": "a29ecb14",
   "metadata": {},
   "source": [
    "Також, однією із опцій запуску пайтон файлів є запуск в інтерактивному режимі, давайте створимо новий файл, який буде мати якісь функції:"
   ]
  },
  {
   "cell_type": "code",
   "execution_count": null,
   "id": "b7bef3aa",
   "metadata": {},
   "outputs": [],
   "source": [
    "import numpy as np\n",
    "\n",
    "def get_mean(values: list):\n",
    "    return np.mean(values)\n",
    "\n",
    "def get_std(values: list):\n",
    "    return np.std(values)"
   ]
  },
  {
   "cell_type": "markdown",
   "id": "ad575ab8",
   "metadata": {},
   "source": [
    "Тоді, при запуску цього файла, пайтон завантажить в пам'ять всі інструкції, що були надані йому в файлі, та відкриє ту ж саму консоль, проте ви вже зможете користуватися всіма об'єктами, що були виконані в файлі:"
   ]
  },
  {
   "cell_type": "markdown",
   "id": "4575732d",
   "metadata": {},
   "source": [
    "```\n",
    "(base) PS O:\\Projects\\dnu_ftf_cs\\_notebooks_data\\_scripts> python -i .\\lec6_interactive.py\n",
    ">>> get_mean([1, 2, 3, 4, 5])\n",
    "3.0\n",
    ">>> get_std([1, 2, 3, 4, 5])\n",
    "1.4142135623730951\n",
    "```"
   ]
  },
  {
   "cell_type": "markdown",
   "id": "09ebda31",
   "metadata": {},
   "source": [
    "## Testing"
   ]
  },
  {
   "cell_type": "markdown",
   "id": "23c77fe8",
   "metadata": {},
   "source": [
    "Коли ви створювати домашні завдання, ви користувались написаними функціями, ви, також, можливо, експерементували з даними, з поведінкою функцій при тому чи іншому стані вхідних даних і так далі. Це є тестуванням. Проте розділяють тестування **мануальне** та **автоматизоване**. Те, що робили ви до цих пір було **мануальним** тестуванням. Сфера тестінгу доволі обширна і вона не стосується теми цього курса, проте ви можете ознайомитися з цим питанням [детальніше](https://realpython.com/python-testing/)."
   ]
  },
  {
   "cell_type": "markdown",
   "id": "2c0e96e2",
   "metadata": {},
   "source": [
    "В даній частині лекції ми будемо розбирати **мануальне** тестування - базову імплементацію, і деякі додаткові речі та бібліотекі.\n",
    "\n",
    "Конкретно - ми будемо розбирати `unit-test`, це найменша з можливих складових тестування, так би мовити - базовий блок. Задача якого - не перевірити що програма працює **взагалі**, для цього існують більш об'ємні речі, проте задача юніт-теста - отримати маленьку частину програми, та перевірити, що вона працює так, як було визначено в технічному завданні."
   ]
  },
  {
   "cell_type": "markdown",
   "id": "ac4aa303",
   "metadata": {},
   "source": [
    "Уявимо наступну сітуацію - вам необхідно розробити функцію, що рахує середнє значення виходячі з послідовності та повератає лише цілу частину від неї:"
   ]
  },
  {
   "cell_type": "code",
   "execution_count": null,
   "id": "01a406b2",
   "metadata": {},
   "outputs": [],
   "source": [
    "def my_avg(sequence):\n",
    "    return int(sum(sequence) / len(sequence))"
   ]
  },
  {
   "cell_type": "markdown",
   "id": "9da0998f",
   "metadata": {},
   "source": [
    "Наче виглядає логічно.\n",
    "\n",
    "Також, ми з вами вже дивились на конструкцію `assert`, яка перевіряє `bool` значення та підіймає `AssertionError` у випадку коли вираз, що перевіряється дорівнює `False`:"
   ]
  },
  {
   "cell_type": "code",
   "execution_count": null,
   "id": "a3a222f8",
   "metadata": {},
   "outputs": [],
   "source": [
    "data = [1, 2, 3, 4, 5]\n",
    "assert my_avg(data) == 3"
   ]
  },
  {
   "cell_type": "markdown",
   "id": "b7f8e1af",
   "metadata": {},
   "source": [
    "Інструкція виконалася, програма спрацювала без проблем, тепер давайте перевіримо її роботу на більшій кількості тест-кейсів, наприклад, створемо функцію `my_avg_test`, яка буде отримувати в якості аргумента функцію, в якості другого - дані, а в якості третього - результат:"
   ]
  },
  {
   "cell_type": "code",
   "execution_count": null,
   "id": "f9e1ed80",
   "metadata": {},
   "outputs": [],
   "source": [
    "test_data = [\n",
    "    [1, 2, 3, 5], \n",
    "    [2, 3, 4, 5], \n",
    "    [1], \n",
    "    [0], \n",
    "    [], \n",
    "]\n",
    "\n",
    "test_expected = [2, 3, 1, 0, 0]\n",
    "\n",
    "def my_avg_test(fn, data, ys):\n",
    "    for (example, y) in zip(data, ys):\n",
    "        assert fn(example) == y, f\"Error with data {example}, expected result {ys}\""
   ]
  },
  {
   "cell_type": "code",
   "execution_count": null,
   "id": "68a192fd",
   "metadata": {},
   "outputs": [],
   "source": [
    "my_avg_test(my_avg, test_data, test_expected)"
   ]
  },
  {
   "cell_type": "markdown",
   "id": "9208c2db",
   "metadata": {},
   "source": [
    "Отримаили `ZeroDivisionError`, тому що `len([]) = 0`, тепер ми знаємо що до нашої функції необхідно додати умову, що якщо довжина `sequence == 0`, необхідно повернути `0`"
   ]
  },
  {
   "cell_type": "code",
   "execution_count": null,
   "id": "73e63dc2",
   "metadata": {},
   "outputs": [],
   "source": [
    "def my_avg(sequence):\n",
    "    \n",
    "    if len(sequence) == 0:\n",
    "        return 0\n",
    "    else:\n",
    "        return int(sum(sequence) / len(sequence))"
   ]
  },
  {
   "cell_type": "code",
   "execution_count": null,
   "id": "be35ebd9",
   "metadata": {},
   "outputs": [],
   "source": [
    "def my_avg_test(fn, data, ys):\n",
    "    for (example, y) in zip(data, ys):\n",
    "        assert fn(example) == y, f\"Error with data {example}, expected result {ys}\""
   ]
  },
  {
   "cell_type": "code",
   "execution_count": null,
   "id": "2fd35d7a",
   "metadata": {},
   "outputs": [],
   "source": [
    "my_avg_test(my_avg, test_data, test_expected)"
   ]
  },
  {
   "cell_type": "markdown",
   "id": "a84e15f7",
   "metadata": {},
   "source": [
    "Як ви бачите, все пройшо так, я ми того і очікували, проте якби ми не виявили помилку з `ZeroDiv`, можливо, це б призвело до наслідків в роботі програми, сервера, системи, тощо, детальніше про необхідність тестування, та чому це може призвести до страшних наслідків можна прочитати тут [Therac-25](https://en.wikipedia.org/wiki/Therac-25)"
   ]
  },
  {
   "cell_type": "markdown",
   "id": "9f8362c2",
   "metadata": {},
   "source": [
    "### python unittest lib\n",
    "\n",
    "Однак звичайними `assert`, зазвичай, проблему тестування не вирішити - необхідні більш детальні тест-кейси, писати які буде зручно, а функціонал буде під капотом. Для цього існують спеціальні бібліотеки \\ фреймворки для тестування:\n",
    "* nose / nose2\n",
    "* unittest"
   ]
  },
  {
   "cell_type": "markdown",
   "id": "175c5f07",
   "metadata": {},
   "source": [
    "Оскількі `unittest` - є бібліотекою за замовченням, трохи розберемо її сінтаксіс і роботу з тестами на реальному прикладі:"
   ]
  },
  {
   "cell_type": "markdown",
   "id": "9300d34d",
   "metadata": {},
   "source": [
    "Давайте візьмемо задачу з імплементацією `DoublyLinkedList` з попереднього завдання, та протестуємо його за допомогою бібліотеки `unittest`."
   ]
  },
  {
   "cell_type": "markdown",
   "id": "ffee0bfd",
   "metadata": {},
   "source": [
    "*В цьому завданні, вам необхідно створити структуру DoublyLinkedList, яка має вміщати, відповідно, DoublyNode. Проте методи цього ліста будуть відічатися. Цей ліст має імплементувати методи, які були перечислені в другому завданні, тобто __len__, __str__, __iter__ та __next__, але, ще одним додатковим атрібутом цього ліста має стати direction, так, якщо l_list: DoublyLinkedList і l_list.direction = True, це значить, що всі методи мають працювати як зі звичайним LinkedList, тобто перечислювати ноди в прямому порядку. Якщо l_list.direction = False, порядок має змінюватись.*"
   ]
  },
  {
   "cell_type": "markdown",
   "id": "0a3a127b",
   "metadata": {},
   "source": [
    "Перед імплементацією - давайте спочатку створемо тест-кейси, щоб наша програма відповідала всім вимогам завдання, та подивимося на сінтаксіс цієї бібліотеки:"
   ]
  },
  {
   "cell_type": "markdown",
   "id": "39579316",
   "metadata": {},
   "source": [
    "Давайте помістимо цей код в окремий файл `dobly_node.py` а поки роздивимось сінтаксіс бібліотеки `unittest`:"
   ]
  },
  {
   "cell_type": "markdown",
   "id": "a4cade6e",
   "metadata": {},
   "source": [
    "З базового прикладу документації вказан наступний сінтаксіс:"
   ]
  },
  {
   "attachments": {
    "unitbase.png": {
     "image/png": "[encoded data removed]"
    }
   },
   "cell_type": "markdown",
   "id": "2ad69087",
   "metadata": {},
   "source": [
    "![unitbase.png](attachment:unitbase.png)"
   ]
  },
  {
   "cell_type": "markdown",
   "id": "194e4ad3",
   "metadata": {},
   "source": [
    "Ми бачимо, що об'єкт тесту має наслідуватися від `unittest.TestCase`, також, ми можемо бачити, що базовий клас, від якого ми успадковуємся імплементує методи, завдяки якім ми можемо відтворювати тести, наприклад `assertEqual`, `assertTrue` і т.д."
   ]
  },
  {
   "attachments": {
    "asserts.png": {
     "image/png": "[encoded data removed]"
    }
   },
   "cell_type": "markdown",
   "id": "64b3324e",
   "metadata": {},
   "source": [
    "![asserts.png](attachment:asserts.png)"
   ]
  },
  {
   "cell_type": "markdown",
   "id": "08e0c457",
   "metadata": {},
   "source": [
    "Щож, тоді давайте послідовно пройдемося по завданню, які є основні пункти:\n",
    "* Імплементація ініту інстанса - наш лінкед ліст має отримувати послідовність, перетворювати її на ноди, тримати в якості атрібутів `head` та `tail`, а також напрямок ітерації завдяки атрібуту `direction`.\n",
    "* Імплементація `len`\n",
    "* Імплементація `str`\n",
    "* Імплементація `iter`"
   ]
  },
  {
   "cell_type": "markdown",
   "id": "1bbb0d69",
   "metadata": {},
   "source": [
    "Тоді, виходить що по кожному завданню можна створити метод тест-кейсу, який буде перевіряти кожну відповідну задачу, почнемо з `__init__`:"
   ]
  },
  {
   "cell_type": "code",
   "execution_count": null,
   "id": "b8323dba",
   "metadata": {},
   "outputs": [],
   "source": [
    "import unittest\n",
    "\n",
    "class TestDoublyLList(unittest.TestCase):\n",
    "    \n",
    "    def test_init(self):\n",
    "        pass\n",
    "    \n",
    "    def test_len(self):\n",
    "        pass\n",
    "    \n",
    "    def test_str(self):\n",
    "        pass\n",
    "    \n",
    "    def test_iter(self):\n",
    "        pass"
   ]
  },
  {
   "cell_type": "markdown",
   "id": "f7e5dc7b",
   "metadata": {},
   "source": [
    "Таким чином ми задали заготовки під наші тест-кейси, тепер їх треба заповнити, відповідно до імплементації, яку ми запланували:"
   ]
  },
  {
   "cell_type": "code",
   "execution_count": null,
   "id": "d733399d",
   "metadata": {},
   "outputs": [],
   "source": [
    "# lets create a class name to refere to\n",
    "\n",
    "class DoublyLinkedList:\n",
    "    pass\n",
    "\n",
    "class DoublyNode:\n",
    "    pass"
   ]
  },
  {
   "cell_type": "code",
   "execution_count": null,
   "id": "c6463e00",
   "metadata": {},
   "outputs": [],
   "source": [
    "class TestDoublyLList(unittest.TestCase):\n",
    "\n",
    "    def test_init(self):\n",
    "        seq = \"abcd\"\n",
    "        dl_list = DoublyLinkedList(seq)\n",
    "\n",
    "        # values\n",
    "        self.assertTrue(dl_list.head.data == \"a\")\n",
    "        self.assertTrue(dl_list.tail.data == \"d\")\n",
    "        self.assertTrue(dl_list.head.next.data == \"b\")\n",
    "        self.assertTrue(dl_list.tail.prev.data == \"c\")\n",
    "\n",
    "        # links\n",
    "        self.assertIsInstance(dl_list.head, DoublyNode)\n",
    "        self.assertIsInstance(dl_list.tail, DoublyNode)\n",
    "\n",
    "        self.assertIsInstance(dl_list.head.prev, type(None))\n",
    "        self.assertIsInstance(dl_list.tail.next, type(None))\n",
    "\n",
    "        self.assertIsInstance(dl_list.head.next, DoublyNode)\n",
    "        self.assertIsInstance(dl_list.head.prev, DoublyNode)\n",
    "\n",
    "        # et cetera et cetera\n",
    "        # seq = [1, 2, 3, 4, 5]\n",
    "        # seq = []\n",
    "\n",
    "    def test_len(self):\n",
    "\n",
    "        seq = [1, 2, 3, 4, 5]\n",
    "        dl_list = DoublyLinkedList(seq)\n",
    "\n",
    "        self.assertEqual(len(seq), len(dl_list))\n",
    "\n",
    "    def test_str(self):\n",
    "\n",
    "        seq = [1, 2, 3]\n",
    "        dl_list = DoublyLinkedList(seq)\n",
    "\n",
    "        # forward\n",
    "        dl_list.direction = True\n",
    "        expected_str = f\"(1) -> (2) -> (3)\"\n",
    "        self.assertEqual(str(dl_list), expected_str)\n",
    "\n",
    "        # inverse\n",
    "        dl_list.direction = False\n",
    "        expected_str = f\"(3) -> (2) -> (1)\"\n",
    "        self.assertEqual(str(dl_list), expected_str)\n",
    "\n",
    "    def test_iter(self):\n",
    "\n",
    "        seq = (\"hi\", \"there\", \"im\", \"a\", \"node\")\n",
    "        dl_list = DoublyLinkedList(seq)\n",
    "        dl_list.direction = True\n",
    "\n",
    "        for index, node in enumerate(dl_list):\n",
    "            self.assertIsInstance(node, DoublyNode)\n",
    "            self.assertEqual(node.data, seq[index])\n",
    "\n",
    "        dl_list.direction = False\n",
    "        seq = tuple(reversed(seq))\n",
    "\n",
    "        for index, node in enumerate(dl_list):\n",
    "            self.assertIsInstance(node, DoublyNode)\n",
    "            self.assertEqual(node.data, seq[index])"
   ]
  },
  {
   "cell_type": "markdown",
   "id": "c96eccd8",
   "metadata": {},
   "source": [
    "Тепер давайте перенесемо код нашого дабл лінкед ліст до окремого файла, як і код тесту."
   ]
  },
  {
   "cell_type": "markdown",
   "id": "65375add",
   "metadata": {},
   "source": [
    "Запуск тестів, як і будь якого `.py` файлу - `python(3) _lec6_testlist.py`\n",
    "\n",
    "```\n",
    "(base) PS O:\\Projects\\dnu_ftf_cs\\_notebooks_data\\_scripts> python .\\_lec6_testlist.py\n",
    "....\n",
    "----------------------------------------------------------------------\n",
    "Ran 4 tests in 0.000s\n",
    "\n",
    "OK\n",
    "```"
   ]
  },
  {
   "cell_type": "markdown",
   "id": "b334191b",
   "metadata": {},
   "source": [
    "Окей, з сінтаксисом наче зрозуміло, проте хотілося-б розповісти про необхідність тестів взагалі. Насамперед, тести потрібні для потенційної **модифікації** коду. Тобто, на якомусь етапі проекта у вас імплементован той чи інший модуль, і до нього написані тести. Цей модуль інтегрований в умовний інший модуль і там використовується. І ви хочете додати доп функціонал, або переробити модуль, тоді - ви можете переробити його, а перевірка на функціонал вже імплементована."
   ]
  },
  {
   "cell_type": "markdown",
   "id": "f44908c8",
   "metadata": {},
   "source": [
    "Також, дуже корисною і поважною вважається методологія програмування - `TDD`, `Test-Driven-Development` - це коли до імплементації модуля, програми, тощо, розробник вже прогнозує як має поводити себе програма, та починає розробку саме з тестів, і тількі потім - програми."
   ]
  },
  {
   "cell_type": "markdown",
   "id": "a381e542",
   "metadata": {},
   "source": [
    "## IDEs"
   ]
  },
  {
   "cell_type": "markdown",
   "id": "7b2dc3b6",
   "metadata": {},
   "source": [
    "Написання коду користуючись тексовими редакторами, або середовищем `jupyter` звичайно, можливе, проте для покращення умов праці, вже давно існують програми для написання коду (для різних мов програмування) які називаються **Integrated Development Environment**, або **IDE**. \n",
    "\n",
    "Зазвичай, це спеціальні програми, які підтримують наступний функціонал:\n",
    "\n",
    "* Редактор, розроблений спеціально для підтримки коду (підкреслення помилок, автокоррекція, кольоровий текст синтаксису)\n",
    "* Інструменти білда, виконання та дебагу\n",
    "* Підтримка плагінів\n",
    "* Підтримка контролю версій (git)"
   ]
  },
  {
   "cell_type": "markdown",
   "id": "49c0c2b7",
   "metadata": {},
   "source": [
    "IDE, здебільшого, умовна можно розділити на легкі (які не додають багато функціоналу) та важкі. \n",
    "Прикладами \"легких\" IDE для пайтону:\n",
    "* Atom\n",
    "* Sublime Text\n",
    "* Vi / Vim\n",
    "* Python IDE\n",
    "\n",
    "Прикладами \"важких\" IDE є:\n",
    "* PyCharm\n",
    "* VsCode\n",
    "* Spyder"
   ]
  },
  {
   "cell_type": "markdown",
   "id": "1743addd",
   "metadata": {},
   "source": [
    "Вибір IDE який вам подобається це діло вкуса, особисто я користуюся `VsCode` для ноутбуків (`.ipynb`) та `PyCharm` для розробки. У пайчарм є безкоштомна комьюніті едішн версія, яка є безкоштовною, почати можна з неї."
   ]
  },
  {
   "cell_type": "markdown",
   "id": "3d4ed0e7",
   "metadata": {},
   "source": [
    "## Debugging\n",
    "\n",
    "Перейдемо в `PyCharm`"
   ]
  }
 ],
 "metadata": {
  "kernelspec": {
   "display_name": "Python 3 (ipykernel)",
   "language": "python",
   "name": "python3"
  },
  "language_info": {
   "codemirror_mode": {
    "name": "ipython",
    "version": 3
   },
   "file_extension": ".py",
   "mimetype": "text/x-python",
   "name": "python",
   "nbconvert_exporter": "python",
   "pygments_lexer": "ipython3",
   "version": "3.9.12"
  }
 },
 "nbformat": 4,
 "nbformat_minor": 5
}
