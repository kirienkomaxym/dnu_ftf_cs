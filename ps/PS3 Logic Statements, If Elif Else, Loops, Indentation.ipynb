{
 "cells": [
  {
   "cell_type": "markdown",
   "id": "20cc45b9",
   "metadata": {},
   "source": [
    "# PS3 Logic Statements, If Elif Else, Loops, Indentation"
   ]
  },
  {
   "cell_type": "code",
   "execution_count": null,
   "id": "95f7c123",
   "metadata": {},
   "outputs": [],
   "source": [
    "#$@ UNQ ps3"
   ]
  },
  {
   "cell_type": "markdown",
   "id": "262476d8",
   "metadata": {},
   "source": [
    "## 1. Перемноженя 'чисел'\n",
    "\n",
    "На вхід вашої функції подається додатне раціональне число `float`, вам необхідно порахувати результат множення цифр всередині цього числа за вийнятком нулів (нулі не входять в перемноження)\n",
    "\n",
    "Приклад `n = 123405.453` Результат буде `1 * 2 *3 * 4 * 5 * 4 * 5 * 3`."
   ]
  },
  {
   "cell_type": "code",
   "execution_count": 31,
   "id": "25fb8bba",
   "metadata": {},
   "outputs": [],
   "source": [
    "def multi(n: float):\n",
    "    \"\"\"\n",
    "    n: float number which numbers should be multiplied excluding `0`\n",
    "    \"\"\"\n",
    "    ### ENTER YOUR CODE HERE ###\n",
    "    \n",
    "    result = None\n",
    "\n",
    "    ### END OF CODE ###\n",
    "    \n",
    "    return result"
   ]
  },
  {
   "cell_type": "code",
   "execution_count": 32,
   "id": "ab236c65",
   "metadata": {},
   "outputs": [
    {
     "name": "stdout",
     "output_type": "stream",
     "text": [
      "None\n"
     ]
    }
   ],
   "source": [
    "# here you can do testing\n",
    "n = 42\n",
    "print(multi(n))"
   ]
  },
  {
   "cell_type": "code",
   "execution_count": 33,
   "id": "1e24c7a0",
   "metadata": {},
   "outputs": [
    {
     "name": "stdout",
     "output_type": "stream",
     "text": [
      "Your result: None\n",
      "Something is wrong with your code expected_result=1312200, your result result=None\n"
     ]
    }
   ],
   "source": [
    "# self - test \n",
    "n = 45599900012301.031\n",
    "expected_result = 1312200\n",
    "\n",
    "try:\n",
    "    result = multi(n)\n",
    "    print(f\"Your result: {result}\")\n",
    "    assert result == expected_result\n",
    "    print(\"Self-test passed\")\n",
    "except AssertionError:\n",
    "    print(f\"Something is wrong with your code {expected_result=}, your result {result=}\")"
   ]
  },
  {
   "cell_type": "markdown",
   "id": "d9f15631",
   "metadata": {},
   "source": [
    "## 2. Перевірка паролю"
   ]
  },
  {
   "cell_type": "markdown",
   "id": "1ac612be",
   "metadata": {},
   "source": [
    "На вхід вашої функції подається строка - `str`, вам необхідно створити функцію, що верифікує пароль.\n",
    "\n",
    "Умовами верифікації є:\n",
    "* довжина більше 6 символів;\n",
    "* містить хоча б одну цифру, але не лише цифри;\n",
    "* якщо пароль довший за 9 - попередня умова (про цифри) не вимагається;\n",
    "* строка не повина містити слово \"password\" в жодному регістрі.\n",
    "\n",
    "Ваш результат має мати значення типу `bool`, тобто `True`, якщо пароль підходить під умови та `False` в обратному випадку"
   ]
  },
  {
   "cell_type": "code",
   "execution_count": 34,
   "id": "1dd25dae",
   "metadata": {},
   "outputs": [],
   "source": [
    "def password_check(password: str):\n",
    "    \"\"\"\n",
    "    pw_string: string password to be verifed\n",
    "    \"\"\"\n",
    "    ### ENTER YOUR CODE HERE ###\n",
    "    result = None\n",
    "    \n",
    "    ### END OF CODE ###\n",
    "    return result"
   ]
  },
  {
   "cell_type": "code",
   "execution_count": 35,
   "id": "b8ecc53c",
   "metadata": {},
   "outputs": [
    {
     "name": "stdout",
     "output_type": "stream",
     "text": [
      "None\n",
      "None\n"
     ]
    }
   ],
   "source": [
    "pw1 = '12345678910'\n",
    "\n",
    "print(password_check(pw1))\n",
    "\n",
    "pw2 = 'muchlonger5'\n",
    "\n",
    "print(password_check(pw2))"
   ]
  },
  {
   "cell_type": "code",
   "execution_count": 36,
   "id": "716ed554",
   "metadata": {},
   "outputs": [
    {
     "name": "stdout",
     "output_type": "stream",
     "text": [
      "Your result: None\n",
      "Something is wrong with your code expected_result=False, your result result=None\n"
     ]
    }
   ],
   "source": [
    "\n",
    "# self - test \n",
    "pw = 'password1234qwerty'\n",
    "expected_result = False\n",
    "\n",
    "try:\n",
    "    result = password_check(pw)\n",
    "    print(f\"Your result: {result}\")\n",
    "    assert result == expected_result\n",
    "    print(\"Self-test passed\")\n",
    "except AssertionError:\n",
    "    print(f\"Something is wrong with your code {expected_result=}, your result {result=}\")"
   ]
  },
  {
   "cell_type": "markdown",
   "id": "3d0f2db0",
   "metadata": {},
   "source": [
    "## 3. Булева Алгебра\n",
    "\n",
    "У математиці і математичній логіці, Булева алгебра це підрозділ алгебри в якому значення змінних істиннi чи хибні і зазвичай позначаються 0 або 1 відповідно. На відміну від простої алгебри де значення змінних це числа і основні операції це додавання і множення, основні операції Булевої алегбри це кон'юнкція (позначена ∧), диз'юнкція (позначена ∨) і заперечення (позначене ¬).\n",
    "\n",
    "У цій місії вам потрібно реалізувати декілька булевих операцій:\n",
    "- **кон'юнкція** (\"conjunction\") обозначається x ∧ y, задовольняюча умовам x ∧ y = 1 якщо x = y = 1 та  ∧ y = 0 iнакше.\n",
    "- **диз'юнкція** (\"disjunction\") обозначається x ∨ y, задовольняюча умовам x ∨ y = 0 якщо x = y = 0 та x ∨ y = 1 iнакше.\n",
    "- **iмплiкацiя** (\"implication\") (пряма iмплiкацiя) обозначається x→y та описана як ¬ x ∨ y. Якщо x це істина, тоді значення x → y береться таке як у y. Але якщо x брехня, тоді значення y може бути ігноровано.\n",
    "- **виключення** (\"exclusive\") (виключає АБО) обозначено x ⊕ y i описано як (x ∨ y)∧ ¬ (x ∧ y). Це виключає верогiднiсть обох x та y. У термінах арифметики, це додавання по модулю 2, де 1 + 1 = 0.\n",
    "- **еквівалентність** (\"equivalence\") позначена x ≡ y і описана як ¬ (x ⊕ y). Це істина, коли x та y мають однакові значення.\n",
    "Тут ви можете побачити таблицю істинності для даних операцій:\n",
    "\n",
    "```\n",
    " x | y | x∧y | x∨y | x→y | x⊕y | x≡y |\n",
    "--------------------------------------\n",
    " 0 | 0 |  0  |  0  |  1  |  0  |  1  |\n",
    " 1 | 0 |  0  |  1  |  0  |  1  |  0  |\n",
    " 0 | 1 |  0  |  1  |  1  |  1  |  0  |\n",
    " 1 | 1 |  1  |  1  |  1  |  0  |  1  |\n",
    "--------------------------------------\n",
    "```\n",
    "\n",
    "Дано два булевих значення x та y як `1` або `0` та дано ім'я операції, як описано раніше. Ви повинні обчислити значення і повернути його як `True` або `False`."
   ]
  },
  {
   "cell_type": "code",
   "execution_count": 37,
   "id": "69a10b3f",
   "metadata": {},
   "outputs": [],
   "source": [
    "def boolean(x: int, y: int, operation):\n",
    "    \"\"\"\n",
    "    x: bool argument for boolean operation\n",
    "    y: bool argument for boolen operation\n",
    "    operation: one of the (\"conjunction\", \"disjunction\", \"implication\", \"exclusive\", \"equivalence\")\n",
    "    \"\"\"\n",
    "    \n",
    "    ### ENTER YOUR CODE HERE ###    \n",
    "    result = None\n",
    "    ### END OF CODE ###\n",
    "    return result"
   ]
  },
  {
   "cell_type": "code",
   "execution_count": 38,
   "id": "3c13e433",
   "metadata": {},
   "outputs": [],
   "source": [
    "x = 0\n",
    "y = 1\n",
    "boolean(x, y, \"implication\")"
   ]
  },
  {
   "cell_type": "code",
   "execution_count": 39,
   "id": "f06b3b0c",
   "metadata": {},
   "outputs": [
    {
     "name": "stdout",
     "output_type": "stream",
     "text": [
      "Your result: None\n",
      "Something is wrong with your code expected_result=True, your result result=None\n"
     ]
    }
   ],
   "source": [
    "# self - test \n",
    "x = 1\n",
    "y = 1\n",
    "operation = 'implication'\n",
    "expected_result = True\n",
    "\n",
    "try:\n",
    "    result = boolean(x, y, operation)\n",
    "    print(f\"Your result: {result}\")\n",
    "    assert result == expected_result\n",
    "    print(\"Self-test passed\")\n",
    "except AssertionError:\n",
    "    print(f\"Something is wrong with your code {expected_result=}, your result {result=}\")"
   ]
  },
  {
   "cell_type": "markdown",
   "id": "aeba789d",
   "metadata": {},
   "source": [
    "## 4. Порядок слів\n",
    "\n",
    "Тобі дано текст і список слів. Потрібно перевірити, чи слова у списку розташовані в тому ж порядку, що й у наведеному тексті.\n",
    "\n",
    "Випадки, які ти маєш очікувати під час вирішення цього завдання:\n",
    "\n",
    "* слова зі списку немає в тексті - твоя функція повинна повернути False;\n",
    "* будь-яке слово може зустрічатися в тексті більше одного разу – використовуй лише перше;\n",
    "* два слова в наданому списку однакові - твоя функція має повернути False;\n",
    "* умова чутлива до регістру, що означає, що \"hi\" і \"Hi\" — це два різні слова;\n",
    "* текст містить лише англійські літери та пробіли.\n",
    "\n",
    "Вхідні дані: Текст у вигляді строки та список слів у вигляді листа.\n",
    "Вихідні дані: Логічне (булеве) значення.\n"
   ]
  },
  {
   "cell_type": "code",
   "execution_count": 40,
   "id": "e69e71d8",
   "metadata": {},
   "outputs": [],
   "source": [
    "def words_order(text, words):\n",
    "    \"\"\"\n",
    "    text: str containing text\n",
    "    words: list containing str words\n",
    "    \"\"\"\n",
    "    ### ENTER YOUR CODE HERE ###\n",
    "\n",
    "    result = None\n",
    "    ### END OF CODE ###\n",
    "    return result"
   ]
  },
  {
   "cell_type": "code",
   "execution_count": 41,
   "id": "a4595d70",
   "metadata": {},
   "outputs": [],
   "source": [
    "text = 'hi world im here'\n",
    "words = ['world', 'here']\n",
    "\n",
    "words_order(text, words)"
   ]
  },
  {
   "cell_type": "code",
   "execution_count": 42,
   "id": "101e5637",
   "metadata": {},
   "outputs": [
    {
     "name": "stdout",
     "output_type": "stream",
     "text": [
      "Your result: None\n",
      "Something is wrong with your code expected_result=False, your result result=None\n"
     ]
    }
   ],
   "source": [
    "text = 'hi world im here'\n",
    "words = ['here', 'world']\n",
    "\n",
    "expected_result = False\n",
    "try:\n",
    "    result = words_order(text, words)\n",
    "    print(f\"Your result: {result}\")\n",
    "    assert result == expected_result\n",
    "    print(\"Self-test passed\")\n",
    "except AssertionError:\n",
    "    print(f\"Something is wrong with your code {expected_result=}, your result {result=}\")"
   ]
  },
  {
   "cell_type": "markdown",
   "id": "b13a04d3",
   "metadata": {},
   "source": [
    "## 5. Частина команди - частина корабля!"
   ]
  },
  {
   "cell_type": "markdown",
   "id": "725df3d4",
   "metadata": {},
   "source": [
    "Вам необхідно поділити найнятих матросів на дві команди згідно з наступними правилами:\n",
    "* ті, чій вік меньше 20 або більше 40 - відправляються на перший корабель\n",
    "* інші - на другий\n",
    "\n",
    "В якості даних ви отримуєте словарь `dict`, де ключами будуть фамілії матросів, а значеннями - їх вік. Результатом роботи функції буде список списків. Де перший елемент списку - список з фамілями першої команди, а другий - список з фаміліями другої команди.\n",
    "\n",
    "Також, фамілії матросів в обидвох списках мають бути сортировані в алфафітному порядку."
   ]
  },
  {
   "cell_type": "code",
   "execution_count": 43,
   "id": "cdc048e1",
   "metadata": {},
   "outputs": [],
   "source": [
    "def two_teams(sailors: dict):\n",
    "    \"\"\"\n",
    "    sailors: dict of following structure {\"Smith\": 24, \"Johnson\": 12}\n",
    "    \"\"\"\n",
    "    ### ENTER YOUR CODE HERE ###\n",
    "    result = None\n",
    "    ### END OF CODE ###\n",
    "    return result"
   ]
  },
  {
   "cell_type": "code",
   "execution_count": 44,
   "id": "be3838b0",
   "metadata": {},
   "outputs": [],
   "source": [
    "sailors = {\n",
    "    \"Cook\": 34,\n",
    "    \"B0ss\": 20,\n",
    "    \"Dude\": 13,\n",
    "    \"Smoleth\": 44,\n",
    "    \"Doh\":24\n",
    "}\n",
    "two_teams(sailors)"
   ]
  },
  {
   "cell_type": "code",
   "execution_count": 45,
   "id": "98f487b3",
   "metadata": {},
   "outputs": [
    {
     "name": "stdout",
     "output_type": "stream",
     "text": [
      "Your result: None\n",
      "Something is wrong with your code expected_result=[['Abrahams', 'Coleman'], ['Smith', 'Wesson']], your result result=None\n"
     ]
    }
   ],
   "source": [
    "sailors = {\n",
    "        'Smith': 34, \n",
    "        'Wesson': 22, \n",
    "        'Coleman': 45, \n",
    "        'Abrahams': 19\n",
    "}\n",
    "expected_result = [\n",
    "    ['Abrahams', 'Coleman'], \n",
    "    ['Smith', 'Wesson']\n",
    "]\n",
    "\n",
    "try:\n",
    "    result = two_teams(sailors)\n",
    "    print(f\"Your result: {result}\")\n",
    "    assert result == expected_result\n",
    "    print(\"Self-test passed\")\n",
    "except AssertionError:\n",
    "    print(f\"Something is wrong with your code {expected_result=}, your result {result=}\")"
   ]
  },
  {
   "cell_type": "markdown",
   "id": "1d1ca750",
   "metadata": {},
   "source": [
    "# 6. Компас, Мапа і Підзорна Труба"
   ]
  },
  {
   "cell_type": "markdown",
   "id": "e0d4e551",
   "metadata": {},
   "source": [
    "На вход вашої функції подається лист з листами, матриця, довільного розміру.\n",
    "Наприклад:\n",
    "```\n",
    "[\n",
    "[ 0,  0, 'C'],\n",
    "[ 0, 'S', 0],\n",
    "['M','Y', 0]\n",
    "]\n",
    "```\n",
    "Ваша задача, підрахувату сумарну кількість 'кроків' до кожного з предметів ('C' - compass), ('M' - map), ('S' - spyglass), рахуючи від вашої стартової позиції.\n",
    "\n",
    "Таким чином - результат вашої функції буде сумою трьох дистанцій:\n",
    "Y -> C, Y - > M, Y -> S.\n",
    "\n",
    "Майте на увазі що кроки можуть бути зроблені по 8 напрямках - вліво, вправо, догори, вниз, і по діагоналі в бодай яку зі сторін. \n",
    "\n",
    "Ваша стартова позиція - `Y`"
   ]
  },
  {
   "attachments": {
    "map.png": {
     "image/png": "[encoded data removed]"
    }
   },
   "cell_type": "markdown",
   "id": "58661b1b",
   "metadata": {},
   "source": [
    "![map.png](attachment:map.png)"
   ]
  },
  {
   "cell_type": "code",
   "execution_count": 46,
   "id": "3e53cee5",
   "metadata": {},
   "outputs": [],
   "source": [
    "def navigation(seaside):\n",
    "    \"\"\"\n",
    "    seaside: list of lists representing matrix with shape from 3x3 to 10x10\n",
    "    \"\"\"\n",
    "    ### ENTER YOUR CODE HERE ###\n",
    "    \n",
    "    result = None\n",
    "    \n",
    "    ### END OF CODE ###\n",
    "    return result"
   ]
  },
  {
   "cell_type": "code",
   "execution_count": 47,
   "id": "9c2d8aa7",
   "metadata": {},
   "outputs": [],
   "source": [
    "seaside = [\n",
    "[ 0,  0, 'C'],\n",
    "[ 0, 'S', 0],\n",
    "['M','Y', 0]\n",
    "]\n",
    "\n",
    "navigation(seaside)"
   ]
  },
  {
   "cell_type": "code",
   "execution_count": 48,
   "id": "578ac1dc",
   "metadata": {},
   "outputs": [
    {
     "name": "stdout",
     "output_type": "stream",
     "text": [
      "Your result: None\n",
      "Something is wrong with your code expected_result=4, your result result=None\n"
     ]
    }
   ],
   "source": [
    "seaside = [\n",
    "[ 0,  0, 'C'],\n",
    "[ 0, 'S', 0],\n",
    "['M','Y', 0]\n",
    "]\n",
    "\n",
    "expected_result = 4\n",
    "\n",
    "\n",
    "try:\n",
    "    result = navigation(seaside)\n",
    "    print(f\"Your result: {result}\")\n",
    "    assert result == expected_result\n",
    "    print(\"Self-test passed\")\n",
    "except AssertionError:\n",
    "    print(f\"Something is wrong with your code {expected_result=}, your result {result=}\")"
   ]
  },
  {
   "cell_type": "markdown",
   "id": "685fa642",
   "metadata": {},
   "source": [
    "## 7. Частота Слов"
   ]
  },
  {
   "cell_type": "markdown",
   "id": "25abc073",
   "metadata": {},
   "source": [
    "На вход вашої функції подається 2 аргументи - текст і список слів, частоту яких треба визначити.\n",
    "\n",
    "При розв’язуванні цього завдання зверни увагу на наступні моменти:\n",
    "\n",
    "* Слова слід шукати в усіх регістрах. Це означає, що якщо тобі потрібно знайти слово «one», то підійдуть такі слова, як «one», «One», «oNe», «ONE» тощо.\n",
    "* Пошукові слова завжди вказуються малими літерами.\n",
    "* Якщо слово не знайдено жодного разу, воно повинно бути повернуто в словник із значенням 0 (нуль)."
   ]
  },
  {
   "cell_type": "code",
   "execution_count": 49,
   "id": "b0740d1f",
   "metadata": {},
   "outputs": [],
   "source": [
    "def popular_words(text, words):\n",
    "    \"\"\"\n",
    "    text: str string representing sentence\n",
    "    words: list that contains string words\n",
    "    \"\"\"\n",
    "    ### ENTER YOUR CODE HERE ###\n",
    "    \n",
    "    result = None\n",
    "    ### END OF CODE ###\n",
    "    return result"
   ]
  },
  {
   "cell_type": "code",
   "execution_count": 50,
   "id": "6a50b4cc",
   "metadata": {},
   "outputs": [],
   "source": [
    "text = '''\n",
    "When I was One\n",
    "I had just begun\n",
    "When I was Two\n",
    "I was nearly new\n",
    "'''\n",
    "\n",
    "words = ['i', 'was', 'three', 'near']\n",
    "\n",
    "popular_words(text, words)"
   ]
  },
  {
   "cell_type": "code",
   "execution_count": 51,
   "id": "eb02ed46",
   "metadata": {},
   "outputs": [
    {
     "name": "stdout",
     "output_type": "stream",
     "text": [
      "Your result: None\n",
      "Something is wrong with your code expected_result={'i': 4, 'was': 3, 'three': 0, 'near': 0}, your result result=None\n"
     ]
    }
   ],
   "source": [
    "text = '''\n",
    "When I was One\n",
    "I had just begun\n",
    "When I was Two\n",
    "I was nearly new\n",
    "'''\n",
    "\n",
    "words = ['i', 'was', 'three', 'near']\n",
    "\n",
    "expected_result = {'i': 4, 'was': 3, 'three': 0, 'near': 0}\n",
    "\n",
    "try:\n",
    "    result = popular_words(text, words)\n",
    "    print(f\"Your result: {result}\")\n",
    "    assert result == expected_result\n",
    "    print(\"Self-test passed\")\n",
    "except AssertionError:\n",
    "    print(f\"Something is wrong with your code {expected_result=}, your result {result=}\")"
   ]
  },
  {
   "cell_type": "code",
   "execution_count": 52,
   "id": "5246f41a",
   "metadata": {},
   "outputs": [],
   "source": [
    "popular_words(\"a b ab a ba ab a a b\", ['a', 'b'])"
   ]
  },
  {
   "cell_type": "markdown",
   "id": "5cccf5fd",
   "metadata": {},
   "source": [
    "## Bonus"
   ]
  },
  {
   "cell_type": "markdown",
   "id": "809d4bc5",
   "metadata": {},
   "source": [
    "Задано масив цілих чисел. Потрібно знайти суму елементів з парними індексами (0-й, 2-й, 4-й і т.д.), а потім перемножити цю суму і останній елемент вихідного масиву. Не забудьте, що перший елемент масиву має індекс 0."
   ]
  },
  {
   "cell_type": "code",
   "execution_count": 54,
   "id": "2c88e796",
   "metadata": {},
   "outputs": [],
   "source": [
    "def even_the_last(li: list):\n",
    "    ### ENTER YOUR CODE HERE ###\n",
    "    \n",
    "    result = None\n",
    "    ### END OF CODE ###\n",
    "    return result"
   ]
  },
  {
   "cell_type": "code",
   "execution_count": 55,
   "id": "94f66544",
   "metadata": {},
   "outputs": [],
   "source": [
    "li = [1, 2, 3, 4, 5, 6, 7, 8, 9, 10]\n",
    "\n",
    "even_the_last(li)"
   ]
  },
  {
   "cell_type": "code",
   "execution_count": null,
   "id": "d8640c07",
   "metadata": {},
   "outputs": [],
   "source": [
    "assert even_the_last([0, 1, 2, 3, 4, 5]) == 30\n",
    "assert even_the_last([1, 3, 5]) == 30\n",
    "assert even_the_last([6]) == 36\n",
    "assert even_the_last([]) == 0"
   ]
  }
 ],
 "metadata": {
  "kernelspec": {
   "display_name": "Python 3 (ipykernel)",
   "language": "python",
   "name": "python3"
  },
  "language_info": {
   "codemirror_mode": {
    "name": "ipython",
    "version": 3
   },
   "file_extension": ".py",
   "mimetype": "text/x-python",
   "name": "python",
   "nbconvert_exporter": "python",
   "pygments_lexer": "ipython3",
   "version": "3.9.12"
  }
 },
 "nbformat": 4,
 "nbformat_minor": 5
}
