{
 "cells": [
  {
   "cell_type": "code",
   "execution_count": null,
   "id": "570e6686",
   "metadata": {},
   "outputs": [],
   "source": [
    "#$@ UNQ ps1"
   ]
  },
  {
   "cell_type": "markdown",
   "id": "46f8c7d6",
   "metadata": {},
   "source": [
    "## 1 Площа Трикутника"
   ]
  },
  {
   "cell_type": "markdown",
   "id": "61e5a9ac",
   "metadata": {},
   "source": [
    "Впишіть в функцію код, який на основі значень двух катетів, буде рахувати площать прямокутного трикутника. Параметри довжини катетів передаються в сантиметрах (cm), в той час як результат функції має бути в mm^2, тобто міліметрах квадратних"
   ]
  },
  {
   "cell_type": "code",
   "execution_count": null,
   "id": "debac2bb",
   "metadata": {},
   "outputs": [],
   "source": [
    "# DO NOT EDIT ANYTHING EXCEPT OF GIVEN AREA OF CODE\n",
    "def triangle_area(cath_1_length: float, cath_2_length):\n",
    "    \"\"\"'\n",
    "    cath_1_length: float length of cathetus 1 in cm\n",
    "    cath_2_length: float length of cathetus 2 in cm\n",
    "    \"\"\"\n",
    "    ### ENTER YOUR CODE HERE ###\n",
    "    area_cm2 = None\n",
    "    area_mm2 = None\n",
    "    \n",
    "    ### END OF CODE ###\n",
    "    \n",
    "    return area_mm2"
   ]
  },
  {
   "cell_type": "code",
   "execution_count": null,
   "id": "14143768",
   "metadata": {},
   "outputs": [],
   "source": [
    "# here you can do testing\n",
    "cath_1_length = 5\n",
    "cath_2_length = 6\n",
    "print(triangle_area(cath_1_length, cath_2_length))"
   ]
  },
  {
   "cell_type": "code",
   "execution_count": null,
   "id": "bf316ac1",
   "metadata": {},
   "outputs": [],
   "source": [
    "# self - test \n",
    "cath_1_length = 6.\n",
    "cath_2_length = 8.\n",
    "expected_result = 2400.\n",
    "\n",
    "try:\n",
    "    result = triangle_area(cath_1_length, cath_2_length)\n",
    "    print(f\"Your result: {result}\")\n",
    "    assert result == expected_result\n",
    "    print(\"Self-test passed\")\n",
    "except AssertionError:\n",
    "    print(f\"Something is wrong with your code {expected_result=}, your result {result=}\")"
   ]
  },
  {
   "cell_type": "markdown",
   "id": "61b18b4a",
   "metadata": {},
   "source": [
    "## 2. Електронні Часи"
   ]
  },
  {
   "cell_type": "markdown",
   "id": "22fb5806",
   "metadata": {},
   "source": [
    "Вам надано число `n`. Це число - кількість хвилин, яка пройшла з початку суток. Визначне кількість годин та хвилин, які будуть відображені на умовному електронному годиннику. \n",
    "\n",
    "Зверніть увагу, що программа має вивести два числа - кількість годин (0 - 23) та кількість хвилин (0, 59), також майте на увазі що `n` може бути більшим за кількість годин в сутках"
   ]
  },
  {
   "cell_type": "code",
   "execution_count": null,
   "id": "f7a6d6bf",
   "metadata": {},
   "outputs": [],
   "source": [
    "# DO NOT EDIT ANYTHING EXCEPT OF GIVEN AREA OF CODE\n",
    "def watch(n: int):\n",
    "    \"\"\"\n",
    "    n: int amount of minutes passed\n",
    "    \"\"\"\n",
    "    ### ENTER YOUR CODE HERE ###\n",
    "    hours = None\n",
    "    minutes = None\n",
    "    \n",
    "    ### END OF CODE ###\n",
    "    \n",
    "    return [hours, minutes]"
   ]
  },
  {
   "cell_type": "code",
   "execution_count": null,
   "id": "b97eef16",
   "metadata": {},
   "outputs": [],
   "source": [
    "n = 42\n",
    "print(watch(n))"
   ]
  },
  {
   "cell_type": "code",
   "execution_count": null,
   "id": "7685471f",
   "metadata": {},
   "outputs": [],
   "source": [
    "# self - test \n",
    "n = 2532\n",
    "expected_result = [18, 12]\n",
    "\n",
    "try:\n",
    "    result = watch(n)\n",
    "    print(f\"Your result: {result}\")\n",
    "    assert result == expected_result\n",
    "    print(\"Self-test passed\")\n",
    "except AssertionError:\n",
    "    print(f\"Something is wrong with your code {expected_result=}, your result {result=}\")"
   ]
  },
  {
   "cell_type": "markdown",
   "id": "9555cac9",
   "metadata": {},
   "source": [
    "## 3. Hello!"
   ]
  },
  {
   "cell_type": "markdown",
   "id": "f91ef45c",
   "metadata": {},
   "source": [
    "Функція, яку ви будете редагувати, отримує якесь ім'я, треба вивести вітальне повідомлення - `Hello, <ім'я>!`, наприклад якщо `name=Taras`, \n",
    "результатом роботи функції буде `Hello, Taras!`"
   ]
  },
  {
   "cell_type": "code",
   "execution_count": null,
   "id": "2af70d3a",
   "metadata": {},
   "outputs": [],
   "source": [
    "def hello(name: str):\n",
    "    \"\"\"\n",
    "    name: str a name of the person for the greetings message\n",
    "    \"\"\"\n",
    "    ### ENTER YOUR CODE HERE ###\n",
    "    message = None\n",
    "    \n",
    "    ### END OF CODE ###\n",
    "    return message"
   ]
  },
  {
   "cell_type": "code",
   "execution_count": null,
   "id": "c810c02d",
   "metadata": {},
   "outputs": [],
   "source": [
    "name = \"Mr. Bin\"\n",
    "print(hello(name))"
   ]
  },
  {
   "cell_type": "code",
   "execution_count": null,
   "id": "ae803977",
   "metadata": {},
   "outputs": [],
   "source": [
    "name = \"Taras\"\n",
    "expected_result = \"Hello, Taras!\"\n",
    "\n",
    "try:\n",
    "    result = hello(name)\n",
    "    print(f\"Your result: {result}\")\n",
    "    assert result == expected_result\n",
    "    print(\"Self-test passed\")\n",
    "except AssertionError:\n",
    "    print(f\"Something is wrong with your code {expected_result=}, your result {result=}\")"
   ]
  },
  {
   "cell_type": "markdown",
   "id": "f67bdb38",
   "metadata": {},
   "source": [
    "## 4. Перше слово\n"
   ]
  },
  {
   "cell_type": "markdown",
   "id": "5900490c",
   "metadata": {},
   "source": [
    "Дана строка і необходно знайти перше слово в ній.\n",
    "При виконнані цієї задачі зверніть увагу на наступні моменти:\n",
    "* В строці можуть бути точки та коми (`.`, `,`)\n",
    "* Строка може починатися з букви, або пробела чи точки `.  a string  `\n",
    "* В слові може бути апостров та він являється частиною слова `don't`\n",
    "* Весь текст може бути репрезентованим лише одним словом\n",
    "* Текст не може бути пустим"
   ]
  },
  {
   "cell_type": "code",
   "execution_count": null,
   "id": "e182b8c2",
   "metadata": {},
   "outputs": [],
   "source": [
    "def first_word(sentence: str):\n",
    "    \"\"\"\n",
    "    sentence: str string containing words\n",
    "    \"\"\"\n",
    "    ### ENTER YOUR CODE HERE ###\n",
    "    first_word = None\n",
    "    \n",
    "    ### END OF CODE ###\n",
    "    return first_word"
   ]
  },
  {
   "cell_type": "code",
   "execution_count": null,
   "id": "84b588ef",
   "metadata": {},
   "outputs": [],
   "source": [
    "sentence = \" Oh, hi Mark!\"\n",
    "print(first_word(sentence))"
   ]
  },
  {
   "cell_type": "code",
   "execution_count": null,
   "id": "d470a94f",
   "metadata": {},
   "outputs": [],
   "source": [
    "sentence = \". Anyway, how is your sex life?\"\n",
    "expected_result = \"Anyway\"\n",
    "\n",
    "try:\n",
    "    result = first_word(sentence)\n",
    "    print(f\"Your result: {result}\")\n",
    "    assert result == expected_result\n",
    "    print(\"Self-test passed\")\n",
    "except AssertionError:\n",
    "    print(f\"Something is wrong with your code {expected_result=}, your result {result=}\")"
   ]
  },
  {
   "cell_type": "markdown",
   "id": "c7b8bd37",
   "metadata": {},
   "source": [
    "## 5. Reverse Cut"
   ]
  },
  {
   "cell_type": "markdown",
   "id": "a30617b1",
   "metadata": {},
   "source": [
    "На вхід вашої функції подається строка, `string`, вам необхідно перегорнути її та повернути зріз, відповідно до значень аргументів `start`, `stop`. Зверніть увагу, коли строка перегортається, індексація веде себе по іншому."
   ]
  },
  {
   "cell_type": "code",
   "execution_count": null,
   "id": "1d54c155",
   "metadata": {},
   "outputs": [],
   "source": [
    "def reverse_cut(string: str, start: int, stop: int):\n",
    "    \"\"\"\n",
    "    string: a string to be reversed\n",
    "    start: index of slice start\n",
    "    stop: index of slice stop\n",
    "    \"\"\"\n",
    "    ### ENTER YOUR CODE HERE ###\n",
    "    reversed_slice = None\n",
    "    \n",
    "    ### END OF CODE ###\n",
    "    return reversed_slice"
   ]
  },
  {
   "cell_type": "code",
   "execution_count": null,
   "id": "66c88473",
   "metadata": {},
   "outputs": [],
   "source": [
    "string = \"mr. Doh have stolen your mama`s hat!\"\n",
    "start = 11\n",
    "stop = 2\n",
    "print(reverse_cut(string, start, end))"
   ]
  },
  {
   "cell_type": "code",
   "execution_count": null,
   "id": "8eaf4869",
   "metadata": {},
   "outputs": [],
   "source": [
    "string = \"a роза упала на лапу азора\"\n",
    "start = 19\n",
    "stop = 1\n",
    "expected_result = 'упал ан алапу азор'\n",
    "\n",
    "try:\n",
    "    result = reverse_cut(string, start, stop)\n",
    "    print(f\"Your result: {result}\")\n",
    "    assert result == expected_result\n",
    "    print(\"Self-test passed\")\n",
    "except AssertionError:\n",
    "    print(f\"Something is wrong with your code {expected_result=}, your result {result=}\")"
   ]
  },
  {
   "cell_type": "markdown",
   "id": "cd04008d",
   "metadata": {},
   "source": [
    "## 6. NAND Gate"
   ]
  },
  {
   "cell_type": "markdown",
   "id": "5db2843c",
   "metadata": {},
   "source": [
    "В цьому завданні вам буде необхідно зробити симуляцію роботи [NAND GATE](https://en.wikipedia.org/wiki/NAND_gate), користуючись булєвимі значеннями. Ваша функція, так само як і NAND GATE отримує на вход два значення - в булевому стані, необхідно зробити симуляцію роботи цього гейту, і вернути результат його роботи"
   ]
  },
  {
   "cell_type": "code",
   "execution_count": null,
   "id": "16598c1e",
   "metadata": {},
   "outputs": [],
   "source": [
    "def nand_gate(A: bool, B: bool):\n",
    "    \"\"\"\n",
    "    A: bool logic state (True / False)\n",
    "    B: bool logic state (True / False)\n",
    "    \"\"\"\n",
    "    ### ENTER YOUR CODE HERE ###\n",
    "    and_result = None\n",
    "    not_result = None\n",
    "    \n",
    "    ### END OF CODE ###\n",
    "    return not_result"
   ]
  },
  {
   "cell_type": "code",
   "execution_count": null,
   "id": "6f41692c",
   "metadata": {},
   "outputs": [],
   "source": [
    "A = True\n",
    "B = False\n",
    "\n",
    "nand_state = nand_gate(A, B)\n",
    "print(nand_state)"
   ]
  },
  {
   "cell_type": "code",
   "execution_count": null,
   "id": "75fa2e3d",
   "metadata": {},
   "outputs": [],
   "source": [
    "A = True\n",
    "B = True\n",
    "expected_result = False\n",
    "\n",
    "try:\n",
    "    result = nand_gate(A, B)\n",
    "    print(f\"Your result: {result}\")\n",
    "    assert result == expected_result\n",
    "    print(\"Self-test passed\")\n",
    "except AssertionError:\n",
    "    print(f\"Something is wrong with your code {expected_result=}, your result {result=}\")"
   ]
  },
  {
   "cell_type": "markdown",
   "id": "6d973b5b",
   "metadata": {},
   "source": [
    "## 7. Парти\n",
    "\n",
    "Школа математики веде закупки в кабінети для трьох нових класів. Необхідно закупити нові парти, виходячи з кількості учнів в кожному з цього класу: `n_studentsA`, `n_studentsB`, `n_studentsC`, за каждою партою може сидіти не більше ніж двоє учнів. \n",
    "\n",
    "Ваша програма отримує на вход три аргументи - `n_studentsA`, `n_studentsB`, `n_studentsC`, натуральні числа, і має порахувати кількість парт для трьох кабінетів, виходячи з кількості учнів.\n",
    "\n",
    "Зверніть увагу, вихідне значення ваших розрахунків має бути в `int`"
   ]
  },
  {
   "cell_type": "code",
   "execution_count": null,
   "id": "484ddca8",
   "metadata": {},
   "outputs": [],
   "source": [
    "def students_desks(n_studentsA: int, n_studentsB: int, n_studentsC: int):\n",
    "    \"\"\"\n",
    "    n_studentsA: int amount of students of A class\n",
    "    n_studentsB: int amount of students of B class\n",
    "    n_studentsC: int amount of students of C class\n",
    "    \"\"\"\n",
    "    ### ENTER YOUR CODE HERE ###\n",
    "    desks_for_A = None\n",
    "    desks_for_B = None\n",
    "    desks_for_C = None\n",
    "    total = None\n",
    "    \n",
    "    ### END OF CODE ###\n",
    "    return total"
   ]
  },
  {
   "cell_type": "code",
   "execution_count": null,
   "id": "c1b093f5",
   "metadata": {},
   "outputs": [],
   "source": [
    "nA = 21\n",
    "nB = 32\n",
    "nC = 24\n",
    "print(students_desks(nA, nB, nC))"
   ]
  },
  {
   "cell_type": "code",
   "execution_count": null,
   "id": "18f2f7a7",
   "metadata": {},
   "outputs": [],
   "source": [
    "nA = 3\n",
    "nB = 2\n",
    "nC = 1\n",
    "expected_result = 4\n",
    "\n",
    "try:\n",
    "    result = students_desks(nA, nB, nC)\n",
    "    print(f\"Your result: {result}\")\n",
    "    assert result == expected_result\n",
    "    print(\"Self-test passed\")\n",
    "except AssertionError:\n",
    "    print(f\"Something is wrong with your code {expected_result=}, your result {result=}\")"
   ]
  }
 ],
 "metadata": {
  "kernelspec": {
   "display_name": "Python 3 (ipykernel)",
   "language": "python",
   "name": "python3"
  },
  "language_info": {
   "codemirror_mode": {
    "name": "ipython",
    "version": 3
   },
   "file_extension": ".py",
   "mimetype": "text/x-python",
   "name": "python",
   "nbconvert_exporter": "python",
   "pygments_lexer": "ipython3",
   "version": "3.8.13"
  }
 },
 "nbformat": 4,
 "nbformat_minor": 5
}
