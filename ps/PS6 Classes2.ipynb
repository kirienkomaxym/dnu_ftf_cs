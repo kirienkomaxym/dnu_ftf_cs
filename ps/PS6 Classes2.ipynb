{
 "cells": [
  {
   "cell_type": "markdown",
   "id": "bd8e448e",
   "metadata": {},
   "source": [
    "# PS5: Classes & Objects"
   ]
  },
  {
   "cell_type": "markdown",
   "id": "c36f71ac",
   "metadata": {},
   "source": [
    "Ця практична робота посвячена деякім структурам даних, імплементацію котрих части питають на співбесідах, і, взагалі вони є корисними для розуміння що таке структури даних.\n",
    "\n",
    "Зверніть увагу, в цій роботі, назв методів ваших класів не буде, рівно як і магічних методів, проте дещо з цього буде описано в завданні."
   ]
  },
  {
   "cell_type": "code",
   "execution_count": null,
   "id": "05545ab8",
   "metadata": {},
   "outputs": [],
   "source": [
    "#$@ UNQ ps6"
   ]
  },
  {
   "cell_type": "markdown",
   "id": "93011751",
   "metadata": {},
   "source": [
    "## 1. Node"
   ]
  },
  {
   "cell_type": "markdown",
   "id": "f61a097f",
   "metadata": {},
   "source": [
    "Ваше завдання - створити класс `Node`, який має в собі два атрибута - значення, та лінк на наступний елемент.\n",
    "Його атрибутами мають бути:\n",
    "\n",
    "* **data** - значення, що збережено в ноді.\n",
    "* **next** - ссилка (лінк) на наступну ноду\n",
    "\n",
    "Функція перевірики буде приймати будь яку послідовність, кожен елемент якої, вона перетворить на об'єкт `Node`, а кожен наступний елемент буде доданий в атрибут `next` кожної ноди"
   ]
  },
  {
   "attachments": {
    "node.png": {
     "image/png": "[encoded data removed]"
    }
   },
   "cell_type": "markdown",
   "id": "11cdab2f",
   "metadata": {},
   "source": [
    "![node.png](attachment:node.png)"
   ]
  },
  {
   "cell_type": "code",
   "execution_count": null,
   "id": "fa9f0a85",
   "metadata": {},
   "outputs": [],
   "source": [
    "from typing import Iterable\n",
    "\n",
    "def node_implementation(sequence):\n",
    "    \n",
    "    class Node:\n",
    "        ### ENTER YOUR CODE HERE ###\n",
    "            \n",
    "        ### END OF CODE ###     \n",
    "        pass\n",
    "    \n",
    "    # ======================== DO NOT EDIT ======================= #\n",
    "    try:\n",
    "        nodes_list = []\n",
    "        for i, elem in enumerate(sequence):\n",
    "            \n",
    "            node = Node(elem, None)\n",
    "            \n",
    "            if i != 0:\n",
    "                nodes_list[i - 1].next = node\n",
    "                \n",
    "            nodes_list.append(node)\n",
    "        \n",
    "        result_to_check = []\n",
    "        for node in nodes_list:\n",
    "            result_to_check.append(node.data)\n",
    "            \n",
    "            if node.next is not None:\n",
    "                result_to_check.append(node.next.data)\n",
    "        \n",
    "        result = result_to_check\n",
    "    except Exception as e:\n",
    "        print(f'something is wrong with your code, exception: {e.__class__.__name__}, {e}')\n",
    "        result = None\n",
    "        \n",
    "    return result"
   ]
  },
  {
   "cell_type": "code",
   "execution_count": null,
   "id": "fe9ba99b",
   "metadata": {},
   "outputs": [],
   "source": [
    "node_implementation([1, 2, 3, 4, 5])"
   ]
  },
  {
   "cell_type": "code",
   "execution_count": null,
   "id": "38fb2096",
   "metadata": {},
   "outputs": [],
   "source": [
    "sequence = \"абабагаламага\"\n",
    "expected_result = ['а', 'б', 'б', 'а', 'а', 'б', 'б', 'а', 'а', 'г', 'г', 'а', 'а', 'л', 'л', 'а', 'а', 'м', 'м', 'а', 'а', 'г', 'г', 'а', 'а']\n",
    "\n",
    "try:\n",
    "    result = node_implementation(sequence)\n",
    "    print(f\"Your result: {result}\")\n",
    "    assert result == expected_result\n",
    "    print(\"Self-test passed\")\n",
    "except AssertionError:\n",
    "    print(f\"Something is wrong with your code {expected_result=}, your result {result=}\")"
   ]
  },
  {
   "cell_type": "markdown",
   "id": "6442932c",
   "metadata": {},
   "source": [
    "## 2. Linked List: Basics"
   ]
  },
  {
   "cell_type": "markdown",
   "id": "51c8ae95",
   "metadata": {},
   "source": [
    "`Linked List` це структура даних, що складається з об'єктів `Node`. Перша нода, яку отримує лінкед ліст називається 'головою' послідовності, або `head`. \n",
    "\n",
    "Вам необхідно скопіювати результат імплементації класу `Node`, та імплементувати клас `LinkedList`. \n",
    "\n",
    "* По перше - вам необхідно створити метод `__init__`, який буде приймати послідовність `sequence`, перетворювати цю послідовність на об'єкти класа `Node`, далі, назначити елемент з нульовим індексом в якості `head`, або голови `LinkedList`\n",
    "\n",
    "* По друге - вам необхідно імплементувати метод `__len__`, завдяки якому можна буде отримати кількість елементів в `LinkedList`\n",
    "\n",
    "* Третє - вам необхідно створити методи `__iter__` та `__next__`, завдяки якім, буде можливо ітеруватися по послідовності. Якщо наступна нода є останньою - тобто її `node.next == None`, вам необхідно зробити наступне - в вашій процедурі метода `__next__`, має бути перевірка на те що `node.next == None`, якщо ця перевірка `True`, напишіть `rase StopIteration`, наприклад:\n",
    "\n",
    "```\n",
    "if self._cur_iter_node is None:\n",
    "    raise StopIteration\n",
    "```\n",
    "\n",
    "* Також, ваш `LinkedList` має підримувати можливіть ітеруватися декілка разів, для імплементації цього, вам треба буде додати деякі додаткові атрибути до класа, які будуть використовуватися в середині метода `__iter__`.\n",
    "\n",
    "* Останнє - ваш `LinkedList` має мати змогу бути показаний як строка, у форматі `(node1.data) -> (node2.data) -> (node3.data)`, для цього, вам необхідно переопріділити метод `__str__`. Наприклад:\n",
    "\n",
    "```\n",
    "> t = LinkedList([1, 2, 3])\n",
    "> str(t)\n",
    ">> '(1) -> (2) -> (3)'\n",
    "```\n",
    "\n",
    "Підказка - для метода `__str__`, якщо ви вже імплементували методи `__iter__` та `__next__` - ви можете скористатись конструкцією `for elem in self`, яка буде ітеруватися сама по собі. Якщо у вашій послідовністі лише один елемент, очікуваний результат:\n",
    "\n",
    "```\n",
    "> t = LinkedList(\"0\")\n",
    "> str(t)\n",
    ">> '(0)'\n",
    "```\n",
    "\n",
    "Умови - кількість елементів в `sequence` > 1"
   ]
  },
  {
   "attachments": {
    "linked_list.png": {
     "image/png": "[encoded data removed]"
    }
   },
   "cell_type": "markdown",
   "id": "f4d7b7c7",
   "metadata": {},
   "source": [
    "![linked_list.png](attachment:linked_list.png)"
   ]
  },
  {
   "cell_type": "code",
   "execution_count": null,
   "id": "b3d20f6b",
   "metadata": {},
   "outputs": [],
   "source": [
    "from typing import Iterable\n",
    "\n",
    "def linkedlist_implementation(sequence):\n",
    "    \n",
    "    class Node:\n",
    "        ### ENTER YOUR CODE HERE ###\n",
    "            \n",
    "        ### END OF CODE ###     \n",
    "        pass\n",
    "\n",
    "\n",
    "    class LinkedList:\n",
    "        ### ENTER YOUR CODE HERE ###\n",
    "            \n",
    "        ### END OF CODE ###     \n",
    "        pass\n",
    "        \n",
    "    # ======================== DO NOT EDIT ======================= #\n",
    "    try:\n",
    "        l_list = LinkedList(sequence)\n",
    "        result_to_check = []\n",
    "        \n",
    "        result_to_check.append(next(l_list).data)\n",
    "        result_to_check.append([elem.data for elem in l_list])\n",
    "        result_to_check.append([elem.data for elem in l_list])\n",
    "        result_to_check.append(len(l_list))\n",
    "        result_to_check.append(str(l_list))\n",
    "        result_to_check.append(l_list.head.data)\n",
    "        result = result_to_check\n",
    "    except Exception as e:\n",
    "        print(f'something is wrong with your code, exception: {e.__class__.__name__}, {e}')\n",
    "        result = None\n",
    "        \n",
    "    return result"
   ]
  },
  {
   "cell_type": "code",
   "execution_count": null,
   "id": "61f6ce94",
   "metadata": {},
   "outputs": [],
   "source": [
    "linkedlist_implementation([1, 2, 3])        "
   ]
  },
  {
   "cell_type": "code",
   "execution_count": null,
   "id": "024f488c",
   "metadata": {},
   "outputs": [],
   "source": [
    "sequence = \"абабагаламага\"\n",
    "expected_result = ['а', ['а', 'б', 'а', 'б', 'а', 'г', 'а', 'л', 'а', 'м', 'а', 'г', 'а'], ['а', 'б', 'а', 'б', 'а', 'г', 'а', 'л', 'а', 'м', 'а', 'г', 'а'], 13, '(а) -> (б) -> (а) -> (б) -> (а) -> (г) -> (а) -> (л) -> (а) -> (м) -> (а) -> (г) -> (а)', 'а']\n",
    "\n",
    "try:\n",
    "    result = linkedlist_implementation(sequence)\n",
    "    print(f\"Your result: {result}\")\n",
    "    assert result == expected_result\n",
    "    print(\"Self-test passed\")\n",
    "except AssertionError:\n",
    "    print(f\"Something is wrong with your code {expected_result=}, your result {result=}\")"
   ]
  },
  {
   "cell_type": "markdown",
   "id": "6995e321",
   "metadata": {},
   "source": [
    "## 3. Linked List: Extended"
   ]
  },
  {
   "cell_type": "markdown",
   "id": "159b8288",
   "metadata": {},
   "source": [
    "Це завдання - продовження попереднього, для його виконання, скопіюйте вашу імплементацію `Node` та `LinkedList`. \n",
    "\n",
    "В цьому завданні ви будете розширювати функціонал `LinkedList`.\n",
    "\n",
    "Перше - необхідно додати метод `__index__`, який буде отримувати аргумент, та повертати індекс цього елемента, у разі якщо переданий елемент є атрибутом `node.data` вашого `LinkedList`. У випадку, якщо такого елемента немає, ваш метод має повернути `-1`\n",
    "\n",
    "Друге - необхідно імплементувати метод `__contains__`, який буде отримувати аргумент, та повертати чи є цей аргумент в одній із нод вашого `LinkedList`, тобто:\n",
    "\n",
    "```\n",
    "l_list = LinkedList([1, 2, 3])\n",
    "3 in l_list\n",
    ">> True\n",
    "```\n",
    "\n",
    "Третє - вам необхідно імплементувати метод `__getitem__`, завдяки якому ви зможете отримувати елемент, який був вказаний в якості індекса, як в звичайному лісті - `l_list[index]`. Ваш метод не має підтримувати слайси, тому при використанні сінтаксісу `l_list[start:stop:step]` він буде видавати помилку, і це нормально. Також він не маж підтримувати негативну індексацію. Проте, якщо елемента за вказаним індексом немає (він більше довжини), потрібно викликати `IndexError`, за допомогою процедури `raise IndexError`.\n",
    "\n",
    "Останнє, необхідно імплементувати 2 методи: `append`, по аналогії з `list.append`, тобто додавання елемента в кінець послідовності (тобто створення нової ноди, та додавання ссилки на цю ноду у попередній елемент), та `insert_to_start`, який буде ставити даний елемент в початок послідовності (тобто робити його `head`), з урахуванням що минула `head` стане елементом з індексом `1`\n",
    "\n",
    "Метод `append` та `insert_to_start` приймає 1 аргумент - `elem`, який треба перетворити на ноду. \n",
    "\n",
    "Пам'ятайте, що після оновлення послідовності, її довжина змінюється."
   ]
  },
  {
   "cell_type": "code",
   "execution_count": null,
   "id": "61907ad8",
   "metadata": {},
   "outputs": [],
   "source": [
    "from typing import Iterable\n",
    "\n",
    "def linkedlist_implementation2(sequence, somechecks: list):\n",
    "    \n",
    "    class Node:\n",
    "        ### ENTER YOUR CODE HERE ###\n",
    "            \n",
    "        ### END OF CODE ###             \n",
    "        pass\n",
    "\n",
    "\n",
    "    class LinkedList:\n",
    "        ### ENTER YOUR CODE HERE ###\n",
    "            \n",
    "        ### END OF CODE ###             \n",
    "        pass\n",
    "        \n",
    "    # ======================== DO NOT EDIT ======================= #\n",
    "    try:\n",
    "        l_list = LinkedList(sequence)\n",
    "        index_check, cnt_check, append_check, insert_check = somechecks\n",
    "        result_to_check = []\n",
    "        \n",
    "        # index checking\n",
    "        index_result = l_list.__index__(index_check)\n",
    "        result_to_check.append(index_result)\n",
    "        \n",
    "        # presence checking\n",
    "        cnt_result = cnt_check in l_list\n",
    "        result_to_check.append(cnt_result)\n",
    "        \n",
    "        # getitem checking\n",
    "        getit = l_list[len(sequence) - 1].data\n",
    "        getit2 = l_list[0].data\n",
    "        getit3 = l_list[int(len(sequence) - 1)].data\n",
    "        result_to_check.extend([getit, getit2, getit3])\n",
    "        \n",
    "        # appending checking\n",
    "        l_list.append(append_check)\n",
    "        result_to_check.append([elem.data for elem in l_list])\n",
    "        result_to_check.append(len(l_list))\n",
    "        \n",
    "        # inserting checking\n",
    "        l_list.insert_to_start(insert_check)\n",
    "        result_to_check.append([elem.data for elem in l_list])\n",
    "        result_to_check.append(len(l_list))\n",
    "        \n",
    "        \n",
    "        result = result_to_check\n",
    "    except Exception as e:\n",
    "        print(f'something is wrong with your code, exception: {e.__class__.__name__}, {e}')\n",
    "        result = None\n",
    "        \n",
    "    return result"
   ]
  },
  {
   "cell_type": "code",
   "execution_count": null,
   "id": "58fc9fa3",
   "metadata": {},
   "outputs": [],
   "source": [
    "linkedlist_implementation2([1, 2, 3, 4],[1, 2, 3, 4])"
   ]
  },
  {
   "cell_type": "code",
   "execution_count": null,
   "id": "99447868",
   "metadata": {},
   "outputs": [],
   "source": [
    "sequence = [1, 2, 3, 4]\n",
    "somechecks = [1, 2, 3, 4]\n",
    "expected_result = [0, True, 4, 1, 4, [1, 2, 3, 4, 3], 5, [4, 1, 2, 3, 4, 3], 6]\n",
    "\n",
    "try:\n",
    "    result = linkedlist_implementation2(sequence, somechecks)\n",
    "    print(f\"Your result: {result}\")\n",
    "    assert result == expected_result\n",
    "    print(\"Self-test passed\")\n",
    "except AssertionError:\n",
    "    print(f\"Something is wrong with your code {expected_result=}, your result {result=}\")"
   ]
  },
  {
   "cell_type": "markdown",
   "id": "69d5da13",
   "metadata": {},
   "source": [
    "## 4. Queue\n",
    "\n",
    "Queue - або черга це структура даних, особливість якої є тип взяття даних - FIFO - Firtst In Firt Out, або, перший доданий елемент, забирається першим. На фігурі знизу, ви можете побачити **front** (передній) та **задній** елемент черги.\n",
    "\n",
    "Коли ви додаєте елемент до черги, він потрапляє в **rear**, коли ви отримуєте елемент з черги, ви забираєте його з **front**"
   ]
  },
  {
   "attachments": {
    "queue.jpg": {
     "image/jpeg": "[encoded data removed]"
    }
   },
   "cell_type": "markdown",
   "id": "256feb53",
   "metadata": {},
   "source": [
    "![queue.jpg](attachment:queue.jpg)"
   ]
  },
  {
   "cell_type": "markdown",
   "id": "444f127e",
   "metadata": {},
   "source": [
    "Вашим завданням є імплементація класу `Queue`, який отримує в метод `__init__` якусь послідовність, перетворюючи її на `Queue`. \n",
    "\n",
    "Вам необхідно:\n",
    "\n",
    "* Створити метод `get()`, який буде повертати елемент з черги, якщо елементів в черзі немає, він має віддавати `None`\n",
    "* Створити метод `put()`, який буде додавати елемент в чергу\n",
    "* Перевизначити метод `__iter__`, (без імплементації `__next__`), який буде віддавати всі елементи, які зберігаються в черзі.\n",
    "* Перевизначити метод `__len__`\n",
    "\n",
    "Зверніть увагу, коли ви забираєте будь який елемент з черги, він не залишається в черзі."
   ]
  },
  {
   "cell_type": "code",
   "execution_count": null,
   "id": "794b5e9d",
   "metadata": {},
   "outputs": [],
   "source": [
    "from typing import Iterable\n",
    "\n",
    "def queue_implementation(sequence):\n",
    "    \n",
    "    class Queue:\n",
    "        ### ENTER YOUR CODE HERE ###\n",
    "            \n",
    "        ### END OF CODE ###             \n",
    "        pass\n",
    "        \n",
    "    # ======================== DO NOT EDIT ======================= #\n",
    "    try:\n",
    "        q = Queue(sequence)\n",
    "        result_to_check = []\n",
    "        \n",
    "        result_to_check.append(len(q))\n",
    "        q.put(sequence[0])\n",
    "        result_to_check.append(len(q))\n",
    "        val = q.get()\n",
    "        result_to_check.append(val)\n",
    "        result_to_check.append(len(q))\n",
    "        result_to_check.append(list(q))\n",
    "        result_to_check.append(len(q))\n",
    "        q.put(sequence[0])\n",
    "        val = q.get()\n",
    "        result_to_check.append(val)\n",
    "        result_to_check.append(len(q))\n",
    "        val = q.get()\n",
    "        result_to_check.append(val)        \n",
    "        \n",
    "        result = result_to_check\n",
    "    except Exception as e:\n",
    "        print(f'something is wrong with your code, exception: {e.__class__.__name__}, {e}')\n",
    "        result = None\n",
    "        \n",
    "    return result"
   ]
  },
  {
   "cell_type": "code",
   "execution_count": null,
   "id": "8612e993",
   "metadata": {},
   "outputs": [],
   "source": [
    "queue_implementation([1, 2, 3, 4])"
   ]
  },
  {
   "cell_type": "code",
   "execution_count": null,
   "id": "cbf41110",
   "metadata": {},
   "outputs": [],
   "source": [
    "sequence = \"абабагаламага\"\n",
    "expected_result = [13, 14, 'а', 13, ['а', 'а', 'г', 'а', 'м', 'а', 'л', 'а', 'г', 'а', 'б', 'а', 'б'], 0, 'а', 0, None]\n",
    "\n",
    "try:\n",
    "    result = queue_implementation(sequence)\n",
    "    print(f\"Your result: {result}\")\n",
    "    assert result == expected_result\n",
    "    print(\"Self-test passed\")\n",
    "except AssertionError:\n",
    "    print(f\"Something is wrong with your code {expected_result=}, your result {result=}\")"
   ]
  },
  {
   "cell_type": "markdown",
   "id": "40e4d145",
   "metadata": {},
   "source": [
    "## 5. Stack\n",
    "\n",
    "На відміну від `queue`, `stack` імплементує тип отримання даних `LIFO` - Last In First Out, тобто, перший елемент який був доданий в цю структуру, буде першим і забраний з послідовності.  \n",
    "\n",
    "Вам необхідно:\n",
    "\n",
    "* Створити метод `get()`, який буде повертати елемент з стеку, якщо елементів в стеку немає, він має віддавати `None`\n",
    "* Створити метод `put()`, який буде додавати елемент в стек\n",
    "* Перевизначити метод `__iter__`, (без імплементації `__next__`), який буде віддавати всі елементи, які зберігаються в стеку.\n",
    "* Перевизначити метод `__len__`\n",
    "\n",
    "Зверніть увагу, коли ви забираєте будь який елемент з черги, він не залишається в стеку."
   ]
  },
  {
   "cell_type": "code",
   "execution_count": null,
   "id": "c6924b02",
   "metadata": {},
   "outputs": [],
   "source": [
    "from typing import Iterable\n",
    "\n",
    "def stack_implementation(sequence):\n",
    "    \n",
    "    class Stack:\n",
    "        ### ENTER YOUR CODE HERE ###\n",
    "            \n",
    "        ### END OF CODE ###             \n",
    "        pass\n",
    "        \n",
    "    # ======================== DO NOT EDIT ======================= #\n",
    "    try:\n",
    "        q = Stack(sequence)\n",
    "        result_to_check = []\n",
    "        \n",
    "        result_to_check.append(len(q))\n",
    "        q.put(sequence[0])\n",
    "        result_to_check.append(len(q))\n",
    "        val = q.get()\n",
    "        result_to_check.append(val)\n",
    "        result_to_check.append(len(q))\n",
    "        result_to_check.append(list(q))\n",
    "        result_to_check.append(len(q))\n",
    "        q.put(sequence[0])\n",
    "        val = q.get()\n",
    "        result_to_check.append(val)\n",
    "        result_to_check.append(len(q))\n",
    "        val = q.get()\n",
    "        result_to_check.append(val)        \n",
    "        \n",
    "        result = result_to_check\n",
    "    except Exception as e:\n",
    "        print(f'something is wrong with your code, exception: {e.__class__.__name__}, {e}')\n",
    "        result = None\n",
    "        \n",
    "    return result"
   ]
  },
  {
   "cell_type": "code",
   "execution_count": null,
   "id": "ade78d3a",
   "metadata": {},
   "outputs": [],
   "source": [
    "stack_implementation([1, 2, 3, 4])"
   ]
  },
  {
   "cell_type": "code",
   "execution_count": null,
   "id": "06930c84",
   "metadata": {},
   "outputs": [],
   "source": [
    "sequence = \"абабагаламага\"\n",
    "expected_result = [13, 14, 'а', 13, ['а', 'б', 'а', 'б', 'а', 'г', 'а', 'л', 'а', 'м', 'а', 'г', 'а'], 0, 'а', 0, None]\n",
    "\n",
    "try:\n",
    "    result = stack_implementation(sequence)\n",
    "    print(f\"Your result: {result}\")\n",
    "    assert result == expected_result\n",
    "    print(\"Self-test passed\")\n",
    "except AssertionError:\n",
    "    print(f\"Something is wrong with your code {expected_result=}, your result {result=}\")"
   ]
  },
  {
   "cell_type": "markdown",
   "id": "86d02d5e",
   "metadata": {},
   "source": [
    "## 6. Doubly Linked Node\n",
    "\n",
    "Doubly Linked Node це структура даних, `Node` якої, на відміну від звичайної, має також лінк як на наступну ноду, так і на попереднью, в цьому завданні вам необхідно імплементувати `Node` з подвійною лінковкою. Тобто, в цієї ноди є 3 атрибути - `data`, `next`, `prev`."
   ]
  },
  {
   "attachments": {
    "doubly_node.jpg": {
     "image/jpeg": "[encoded data removed]"
    }
   },
   "cell_type": "markdown",
   "id": "ea852925",
   "metadata": {},
   "source": [
    "![doubly_node.jpg](attachment:doubly_node.jpg)"
   ]
  },
  {
   "cell_type": "code",
   "execution_count": null,
   "id": "243d5d68",
   "metadata": {},
   "outputs": [],
   "source": [
    "from typing import Iterable\n",
    "\n",
    "def dobly_node_implementation(sequence):\n",
    "    \n",
    "    class DoublyNode:\n",
    "        ### ENTER YOUR CODE HERE ###\n",
    "            \n",
    "        ### END OF CODE ###             \n",
    "        pass\n",
    "            \n",
    "        # ======================== DO NOT EDIT ======================= #\n",
    "    try:\n",
    "        nodes_list = []\n",
    "        for i, elem in enumerate(sequence):\n",
    "            \n",
    "            node = DoublyNode(elem, None, None)                \n",
    "            nodes_list.append(node)\n",
    "        \n",
    "        for i, node in enumerate(nodes_list):\n",
    "            \n",
    "            if i == 0:\n",
    "                node.next = nodes_list[i + 1]\n",
    "            elif i == len(nodes_list) - 1:\n",
    "                node.prev = nodes_list[i - 1]\n",
    "            else:\n",
    "                node.next = nodes_list[i + 1]\n",
    "                node.prev = nodes_list[i - 1]\n",
    "        \n",
    "        result_to_check = []\n",
    "        for node in nodes_list:\n",
    "            result_to_check.append(node.data)\n",
    "            \n",
    "            if node.next is not None:\n",
    "                result_to_check.append(node.next.data)\n",
    "            else:\n",
    "                result_to_check.append(None)\n",
    "            \n",
    "            if node.prev is not None:\n",
    "                result_to_check.append(node.prev.data)\n",
    "            else:\n",
    "                result_to_check.append(None)\n",
    "            \n",
    "        \n",
    "        result = result_to_check\n",
    "    except Exception as e:\n",
    "        print(f'something is wrong with your code, exception: {e.__class__.__name__}, {e}')\n",
    "        result = None\n",
    "        \n",
    "    return result"
   ]
  },
  {
   "cell_type": "code",
   "execution_count": null,
   "id": "6a9060e6",
   "metadata": {},
   "outputs": [],
   "source": [
    "dobly_node_implementation([1, 2, 3, 4, 5])"
   ]
  },
  {
   "cell_type": "code",
   "execution_count": null,
   "id": "8295963e",
   "metadata": {},
   "outputs": [],
   "source": [
    "sequence = \"абабагаламага\"\n",
    "expected_result = ['а', 'б', None, 'б', 'а', 'а', 'а', 'б', 'б', 'б', 'а', 'а', 'а', 'г', 'б', 'г', 'а', 'а', 'а', 'л', 'г', 'л', 'а', 'а', 'а', 'м', 'л', 'м', 'а', 'а', 'а', 'г', 'м', 'г', 'а', 'а', 'а', None, 'г']\n",
    "\n",
    "try:\n",
    "    result = dobly_node_implementation(sequence)\n",
    "    print(f\"Your result: {result}\")\n",
    "    assert result == expected_result\n",
    "    print(\"Self-test passed\")\n",
    "except AssertionError:\n",
    "    print(f\"Something is wrong with your code {expected_result=}, your result {result=}\")"
   ]
  },
  {
   "cell_type": "markdown",
   "id": "be35de46",
   "metadata": {},
   "source": [
    "## 7. Doubly Linked List"
   ]
  },
  {
   "cell_type": "markdown",
   "id": "41be6d4e",
   "metadata": {},
   "source": [
    "В цьому завданні, вам необхідно створити структуру `DoublyLinkedList`, яка має вміщати, відповідно, `DoublyNode`. Проте методи цього ліста будуть відічатися. Цей ліст має імплементувати методи, які були перечислені в другому завданні, тобто `__len__`, `__str__`, `__iter__` та `__next__`, але, ще одним додатковим атрібутом цього ліста має стати `direction`, так, якщо `l_list: DoublyLinkedList` і `l_list.direction = True`, це значить, що всі методи мають працювати як зі звичайним `LinkedList`, тобто перечислювати ноди в прямому порядку. Якщо `l_list.direction = False`, порядок має змінюватись.\n",
    "\n",
    "```\n",
    "t = DoublyLinkedList([1, 2, 3, 4, 5])\n",
    "for i in t:\n",
    "    print(i.data)\n",
    ">> 1\n",
    ">> 2\n",
    ">> 3\n",
    ">> 4\n",
    ">> 5\n",
    "\n",
    "t.direction = False\n",
    "for i in t:\n",
    "    print(i.data)\n",
    ">> 5\n",
    ">> 4\n",
    ">> 3\n",
    ">> 2\n",
    ">> 1\n",
    "```\n",
    "    \n",
    "\n",
    "Також, в цьому завданні, на відміну від попереднього, не треба імплементувати метод `__next__`, але треба зробити так, щоб метод `__iter__` повертав генератор. Це можна зробити користуючись ключевим словом `yield`.\n",
    "\n",
    "Також, метод `__str__` теж має змінюватись в залежності від атрибута `direction`:\n",
    "\n",
    "```\n",
    "t = DoublyLinkedList([1, 2, 3, 4, 5])\n",
    "str(t)\n",
    "> '(1) -> (2) -> (3) -> (4) -> (5)'\n",
    "t.direction = False\n",
    "str(t)\n",
    "> '(5) -> (4) -> (3) -> (2) -> (1)'\n",
    "```\n",
    "\n",
    "UPD: На графіку знизу не зовсім точна показано, `DoublyLinkedList`, також має обладати атрибутом `tail`, який має содержати в собі останній елемент послідовності нод."
   ]
  },
  {
   "attachments": {
    "doubly_list.jpg": {
     "image/jpeg": "[encoded data removed]"
    }
   },
   "cell_type": "markdown",
   "id": "109ca399",
   "metadata": {},
   "source": [
    "![doubly_list.jpg](attachment:doubly_list.jpg)"
   ]
  },
  {
   "cell_type": "code",
   "execution_count": null,
   "id": "8c5b2682",
   "metadata": {},
   "outputs": [],
   "source": [
    "from typing import Iterable\n",
    "\n",
    "def dobly_linked_list_implementation(sequence):\n",
    "    \n",
    "    class DoublyNode:\n",
    "        ### ENTER YOUR CODE HERE ###\n",
    "            \n",
    "        ### END OF CODE ###     \n",
    "        pass\n",
    "    \n",
    "    class DoublyLinkedList:\n",
    "        ### ENTER YOUR CODE HERE ###\n",
    "            \n",
    "        ### END OF CODE ###        \n",
    "        pass\n",
    "    \n",
    "    \n",
    "    # ======================== DO NOT EDIT ======================= #\n",
    "    try:\n",
    "        l_list = DoublyLinkedList(sequence)\n",
    "        result_to_check = []\n",
    "        \n",
    "        result_to_check.append([elem.data for elem in l_list])\n",
    "        l_list.direction = False\n",
    "        result_to_check.append([elem.data for elem in l_list])\n",
    "        result_to_check.append(len(l_list))\n",
    "        result_to_check.append(str(l_list))\n",
    "        l_list.direction = True\n",
    "        result_to_check.append(str(l_list))\n",
    "        result_to_check.append(l_list.head.data)\n",
    "        result_to_check.append(l_list.tail.data)\n",
    "        \n",
    "        result = result_to_check\n",
    "    except Exception as e:\n",
    "        print(f'something is wrong with your code, exception: {e.__class__.__name__}, {e}')\n",
    "        result = None\n",
    "        \n",
    "    return result\n",
    "    # =========================================================== #"
   ]
  },
  {
   "cell_type": "code",
   "execution_count": null,
   "id": "5932f7fe",
   "metadata": {},
   "outputs": [],
   "source": [
    "dobly_linked_list_implementation(*[[1, 4]])"
   ]
  },
  {
   "cell_type": "code",
   "execution_count": null,
   "id": "a05a6612",
   "metadata": {},
   "outputs": [],
   "source": [
    "sequence = [1, 2, 3, 4, 5]\n",
    "expected_result = [[1, 2, 3, 4, 5], [5, 4, 3, 2, 1], 5, '(5) -> (4) -> (3) -> (2) -> (1)', '(1) -> (2) -> (3) -> (4) -> (5)', 1, 5]\n",
    "\n",
    "try:\n",
    "    result = dobly_linked_list_implementation(sequence)\n",
    "    print(f\"Your result: {result}\")\n",
    "    assert result == expected_result\n",
    "    print(\"Self-test passed\")\n",
    "except AssertionError:\n",
    "    print(f\"Something is wrong with your code {expected_result=}, your result {result=}\")"
   ]
  }
 ],
 "metadata": {
  "kernelspec": {
   "display_name": "Python 3 (ipykernel)",
   "language": "python",
   "name": "python3"
  },
  "language_info": {
   "codemirror_mode": {
    "name": "ipython",
    "version": 3
   },
   "file_extension": ".py",
   "mimetype": "text/x-python",
   "name": "python",
   "nbconvert_exporter": "python",
   "pygments_lexer": "ipython3",
   "version": "3.9.12"
  }
 },
 "nbformat": 4,
 "nbformat_minor": 5
}
