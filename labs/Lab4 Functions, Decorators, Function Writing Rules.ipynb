{
 "cells": [
  {
   "cell_type": "markdown",
   "id": "8f85806e",
   "metadata": {},
   "source": [
    "# Lab4 Functions, Decorators, Functions Best Practice"
   ]
  },
  {
   "cell_type": "markdown",
   "id": "0ce0fe1d",
   "metadata": {},
   "source": [
    "На попередніх лекціях та лабораторних роботах ви вже бачили сінтаксис створення функцій, їх використання, а також пов'язані з функціями синтаксичні конструкції - анонімні функції, генератори, і т.д. В цій лабораторній роботі буде розкрита ще одна складова функцій - декоратори, також, в цій лабораторній роботі, будуть наступні теми - найкращі практики створення функцій, howtos, та невеликий гайд по asymtotic notation, для розуміння що це таке."
   ]
  },
  {
   "cell_type": "markdown",
   "id": "2c148c9a",
   "metadata": {},
   "source": [
    "## Decorators"
   ]
  },
  {
   "cell_type": "markdown",
   "id": "c5df700c",
   "metadata": {},
   "source": [
    "Концепт декоратора - це функція яка дозволяє 'обернути' іншу функція, розширив її функціонал, проте не змінюючи її код."
   ]
  },
  {
   "cell_type": "markdown",
   "id": "abf64e0f",
   "metadata": {},
   "source": [
    "Ви вже бачили, що в процедурі виконання функції можна скористатися іншими функціями, наприклад:"
   ]
  },
  {
   "cell_type": "code",
   "execution_count": 1,
   "id": "44a35114",
   "metadata": {},
   "outputs": [],
   "source": [
    "def square(x: int or float or complex):\n",
    "    return x ** 2\n",
    "\n",
    "def get_square_area(side_length: int or float or complex):\n",
    "    return square(side_length)"
   ]
  },
  {
   "cell_type": "code",
   "execution_count": 2,
   "id": "964778f7",
   "metadata": {},
   "outputs": [
    {
     "data": {
      "text/plain": [
       "25"
      ]
     },
     "execution_count": 2,
     "metadata": {},
     "output_type": "execute_result"
    }
   ],
   "source": [
    "side = 5\n",
    "get_square_area(side)"
   ]
  },
  {
   "cell_type": "markdown",
   "id": "e4ebbd25",
   "metadata": {},
   "source": [
    "Також ми з вами знаємо що функції - це теж об'єкт і мають тип даних `function`"
   ]
  },
  {
   "cell_type": "code",
   "execution_count": 3,
   "id": "b1cda377",
   "metadata": {},
   "outputs": [
    {
     "data": {
      "text/plain": [
       "function"
      ]
     },
     "execution_count": 3,
     "metadata": {},
     "output_type": "execute_result"
    }
   ],
   "source": [
    "type(get_square_area)"
   ]
  },
  {
   "cell_type": "markdown",
   "id": "ee586783",
   "metadata": {},
   "source": [
    "І ви також бачили, що деякі функції можна передавати як аргумент для методу або іншої функції - наприклад ви використовували це з built-in функціями `map`, `sorted`, `filter` і так далі"
   ]
  },
  {
   "cell_type": "code",
   "execution_count": 4,
   "id": "7f20a330",
   "metadata": {},
   "outputs": [
    {
     "data": {
      "text/plain": [
       "[5]"
      ]
     },
     "execution_count": 4,
     "metadata": {},
     "output_type": "execute_result"
    }
   ],
   "source": [
    "qwe = list(range(10))\n",
    "filter_fn = lambda x: True if x == 5 else False\n",
    "list(filter(filter_fn, qwe))"
   ]
  },
  {
   "cell_type": "markdown",
   "id": "69cf7ec0",
   "metadata": {},
   "source": [
    "Вихоячі з цього, ми можемо передати якусь функцію, як аргумент, і вона буде виконана всередині іншої функції, не змінюючи свого орігінального змісту та з можливостю додання якоїсь додаткової фукнціональності."
   ]
  },
  {
   "cell_type": "code",
   "execution_count": 5,
   "id": "a7d32e4b",
   "metadata": {},
   "outputs": [],
   "source": [
    "def some_fn(x):\n",
    "    print('Starting the Procedure')\n",
    "    x = x\n",
    "    print('Returning')\n",
    "    return x \n",
    "\n",
    "def some_other_fn(func, x):\n",
    "    \n",
    "    print(f\"Obtained following function as an argument: {func.__name__}\")\n",
    "    argfunc_res = func(x)\n",
    "    print(\"Exectuted it and returned the result\")\n",
    "    return argfunc_res"
   ]
  },
  {
   "cell_type": "code",
   "execution_count": 6,
   "id": "31bf2790",
   "metadata": {},
   "outputs": [
    {
     "name": "stdout",
     "output_type": "stream",
     "text": [
      "Obtained following function as an argument: some_fn\n",
      "Starting the Procedure\n",
      "Returning\n",
      "Exectuted it and returned the result\n"
     ]
    },
    {
     "data": {
      "text/plain": [
       "5"
      ]
     },
     "execution_count": 6,
     "metadata": {},
     "output_type": "execute_result"
    }
   ],
   "source": [
    "some_other_fn(some_fn, 5)"
   ]
  },
  {
   "cell_type": "markdown",
   "id": "7034a4ee",
   "metadata": {},
   "source": [
    "Також, ми маємо змогу поставити цю функцію в `return`, тобто"
   ]
  },
  {
   "cell_type": "code",
   "execution_count": 7,
   "id": "90b768ba",
   "metadata": {},
   "outputs": [],
   "source": [
    "def some_other_other_fn(func):\n",
    "    \n",
    "    print(f\"Obtained following function as an argument: {func.__name__}\")\n",
    "    print(\"Returned function as function object!\")\n",
    "    return func"
   ]
  },
  {
   "cell_type": "code",
   "execution_count": 9,
   "id": "733336fb",
   "metadata": {},
   "outputs": [
    {
     "name": "stdout",
     "output_type": "stream",
     "text": [
      "Obtained following function as an argument: some_fn\n",
      "Returned function as function object!\n"
     ]
    }
   ],
   "source": [
    "argument = 5\n",
    "fn = some_other_other_fn(some_fn)\n",
    "# fn(argument)"
   ]
  },
  {
   "cell_type": "code",
   "execution_count": 10,
   "id": "327ac7cd",
   "metadata": {},
   "outputs": [
    {
     "name": "stdout",
     "output_type": "stream",
     "text": [
      "Starting the Procedure\n",
      "Returning\n"
     ]
    },
    {
     "data": {
      "text/plain": [
       "5"
      ]
     },
     "execution_count": 10,
     "metadata": {},
     "output_type": "execute_result"
    }
   ],
   "source": [
    "fn(argument)"
   ]
  },
  {
   "cell_type": "markdown",
   "id": "93738353",
   "metadata": {},
   "source": [
    "Ми навіть можемо зробити це все наступним чином:"
   ]
  },
  {
   "cell_type": "code",
   "execution_count": 11,
   "id": "e72acef8",
   "metadata": {},
   "outputs": [
    {
     "name": "stdout",
     "output_type": "stream",
     "text": [
      "Obtained following function as an argument: some_fn\n",
      "Returned function as function object!\n",
      "Starting the Procedure\n",
      "Returning\n"
     ]
    },
    {
     "data": {
      "text/plain": [
       "5"
      ]
     },
     "execution_count": 11,
     "metadata": {},
     "output_type": "execute_result"
    }
   ],
   "source": [
    "some_other_other_fn(some_fn)(argument)"
   ]
  },
  {
   "cell_type": "markdown",
   "id": "41fe2539",
   "metadata": {},
   "source": [
    "Що показав код зверху? Те, що ми можемо викликати функцію `some_fn`, яку повернула `some_other_other_fn` та викликати її одразу."
   ]
  },
  {
   "cell_type": "markdown",
   "id": "901916a8",
   "metadata": {},
   "source": [
    "Тепер трішки модіфікуємо наш код, додамо"
   ]
  },
  {
   "cell_type": "code",
   "execution_count": 12,
   "id": "06258280",
   "metadata": {},
   "outputs": [],
   "source": [
    "def decorator_function(func):\n",
    "    #\n",
    "    def inner():\n",
    "        \n",
    "        print(f'I can see the {func} in a scope!')\n",
    "        \n",
    "        print('I can even execute it!')\n",
    "        func()\n",
    "        print('Exiting from inner procedure!')\n",
    "    #\n",
    "    return inner"
   ]
  },
  {
   "cell_type": "code",
   "execution_count": 14,
   "id": "1e7adc9b",
   "metadata": {},
   "outputs": [],
   "source": [
    "decorator_fn = decorator_function(some_fn)"
   ]
  },
  {
   "cell_type": "markdown",
   "id": "30bf5c0a",
   "metadata": {},
   "source": [
    "По факту зараз, ми створили теж саме, що і раніше, `decorator_function` 'обгорнула' функцію, яку ми передали в якості аргумента, і ми отримали цю функцію в якості змінної `decorator_fn`. Cпробуємо викликати отриманий результат."
   ]
  },
  {
   "cell_type": "code",
   "execution_count": 15,
   "id": "818fd95f",
   "metadata": {},
   "outputs": [
    {
     "name": "stdout",
     "output_type": "stream",
     "text": [
      "I can see the <function some_fn at 0x0000017522C29A60> in a scope!\n",
      "I can even execute it!\n"
     ]
    },
    {
     "ename": "TypeError",
     "evalue": "some_fn() missing 1 required positional argument: 'x'",
     "output_type": "error",
     "traceback": [
      "\u001b[1;31m---------------------------------------------------------------------------\u001b[0m",
      "\u001b[1;31mTypeError\u001b[0m                                 Traceback (most recent call last)",
      "Input \u001b[1;32mIn [15]\u001b[0m, in \u001b[0;36m<cell line: 1>\u001b[1;34m()\u001b[0m\n\u001b[1;32m----> 1\u001b[0m \u001b[43mdecorator_fn\u001b[49m\u001b[43m(\u001b[49m\u001b[43m)\u001b[49m\n",
      "Input \u001b[1;32mIn [12]\u001b[0m, in \u001b[0;36mdecorator_function.<locals>.inner\u001b[1;34m()\u001b[0m\n\u001b[0;32m      5\u001b[0m \u001b[38;5;28mprint\u001b[39m(\u001b[38;5;124mf\u001b[39m\u001b[38;5;124m'\u001b[39m\u001b[38;5;124mI can see the \u001b[39m\u001b[38;5;132;01m{\u001b[39;00mfunc\u001b[38;5;132;01m}\u001b[39;00m\u001b[38;5;124m in a scope!\u001b[39m\u001b[38;5;124m'\u001b[39m)\n\u001b[0;32m      7\u001b[0m \u001b[38;5;28mprint\u001b[39m(\u001b[38;5;124m'\u001b[39m\u001b[38;5;124mI can even execute it!\u001b[39m\u001b[38;5;124m'\u001b[39m)\n\u001b[1;32m----> 8\u001b[0m \u001b[43mfunc\u001b[49m\u001b[43m(\u001b[49m\u001b[43m)\u001b[49m\n\u001b[0;32m      9\u001b[0m \u001b[38;5;28mprint\u001b[39m(\u001b[38;5;124m'\u001b[39m\u001b[38;5;124mExiting from inner procedure!\u001b[39m\u001b[38;5;124m'\u001b[39m)\n",
      "\u001b[1;31mTypeError\u001b[0m: some_fn() missing 1 required positional argument: 'x'"
     ]
    }
   ],
   "source": [
    "decorator_fn()"
   ]
  },
  {
   "cell_type": "markdown",
   "id": "17870362",
   "metadata": {},
   "source": [
    "Закономірно, ми отримали помилку, бо ми не передали аргумент. Давайте поки, спробуємо створити функцію без аргумента, щоб подивитись на роботу декоратора."
   ]
  },
  {
   "cell_type": "code",
   "execution_count": 17,
   "id": "e2b346c8",
   "metadata": {},
   "outputs": [],
   "source": [
    "def noargfn():\n",
    "    print(f\"\\nNo arg FN Executed\\n\")\n",
    "\n",
    "decorator_fn = decorator_function(noargfn)\n",
    "# decorator_fn()"
   ]
  },
  {
   "cell_type": "code",
   "execution_count": null,
   "id": "5bac1729",
   "metadata": {},
   "outputs": [],
   "source": [
    "decorator_fn()"
   ]
  },
  {
   "cell_type": "markdown",
   "id": "74ce0a84",
   "metadata": {},
   "source": [
    "Або альтернативно - ви можете використовувати це таким чином:"
   ]
  },
  {
   "cell_type": "code",
   "execution_count": null,
   "id": "311a65f6",
   "metadata": {},
   "outputs": [],
   "source": [
    "decorator_fn = decorator_function(noargfn)()"
   ]
  },
  {
   "cell_type": "markdown",
   "id": "030cca51",
   "metadata": {},
   "source": [
    "Проте як отримувати результат від такої функції і як передавати аргументи? Щож, давайте створимо ще один декоратор"
   ]
  },
  {
   "cell_type": "code",
   "execution_count": null,
   "id": "ed88f4fb",
   "metadata": {},
   "outputs": [],
   "source": [
    "def another_decorator(fn):\n",
    "    \n",
    "    def inner(*args, **kwargs):\n",
    "        print(\"Hello from inner!\")\n",
    "        given_fn_result = fn(*args, **kwargs)\n",
    "        print(f\"Inner Executed the given function: {fn}\")\n",
    "        print(f\"Inner Obtained a result from the function: {given_fn_result=}\")\n",
    "        \n",
    "        return given_fn_result\n",
    "    \n",
    "    return inner"
   ]
  },
  {
   "cell_type": "markdown",
   "id": "aab94c39",
   "metadata": {},
   "source": [
    "Як ви бачите, тепер функція-обгортка `inner`, приймає аргументи - це значить що, наприклад, якби `decorator_function` та її обгортка мали такий самий опис функції `inner`, ми би змогли передати в змінну `decorator_fn` аргументи, та отримати результат, наприклад ми би мали змогу виконати `some_fn` наступним чином:\n",
    "\n",
    "`decorator_fn(5)` - і функція `some_fn`, яка виконується в процедурі `inner` отримала б результати."
   ]
  },
  {
   "cell_type": "markdown",
   "id": "3658cc85",
   "metadata": {},
   "source": [
    "Давайте спробуємо виконати `some_fn` користуючись функцією `another_decorator`"
   ]
  },
  {
   "cell_type": "code",
   "execution_count": null,
   "id": "59466508",
   "metadata": {},
   "outputs": [],
   "source": [
    "an_decorator_fn = another_decorator(some_fn)\n",
    "an_decorator_fn(5)"
   ]
  },
  {
   "cell_type": "markdown",
   "id": "ea830d78",
   "metadata": {},
   "source": [
    "Таким чином, резюмуючи, декоратори, приймають як аргумент будь яку функцію, і обгортають її за допмогою внутрішної функції, в нашому прикладі - `inner`, і 'підкладуючи' замість переданої в якості аргумента функцію - функцію внутрішню, яка вже має змогу виконати функцію що була передана в якості аргумента."
   ]
  },
  {
   "cell_type": "markdown",
   "id": "95839dc2",
   "metadata": {},
   "source": [
    "Як це використовується? Наприклад вам треба знайти час, за який виконується та чи інша функція:"
   ]
  },
  {
   "cell_type": "code",
   "execution_count": null,
   "id": "e2358b14",
   "metadata": {},
   "outputs": [],
   "source": [
    "import time\n",
    "\n",
    "def benchmarker(fn):\n",
    "    \n",
    "    def _inner(*args, **kwargs):\n",
    "        start = time.time()\n",
    "        return_value = fn(*args, **kwargs)\n",
    "        end = time.time()\n",
    "        \n",
    "        print(f\"Function {fn.__name__} elapsed in {end - start} seconds!\")\n",
    "        \n",
    "        return return_value\n",
    "    \n",
    "    return _inner"
   ]
  },
  {
   "cell_type": "code",
   "execution_count": null,
   "id": "113c8e24",
   "metadata": {},
   "outputs": [],
   "source": [
    "def my_long_function(x):\n",
    "    time.sleep(x)\n",
    "    return 'DONE'\n",
    "\n",
    "benchmarker(my_long_function)(3)"
   ]
  },
  {
   "cell_type": "markdown",
   "id": "5402cbdc",
   "metadata": {},
   "source": [
    "Проте це все довго і складно, робити функцію декоратора, створювати об'єкт, передавати туди аргумент і потім викликати, ще й на кожну функцію, до якої ви хочете її застосувати повторювати цей процес - не біда. Взагалі, декоратори в python використовуються, в більшості, наступним чином: замість створення і виклика оцього всього, ви можете скористатися синтаксичним сахаром `@<decorator_function>`, який має бути розташований зверху від об'явлення функції:"
   ]
  },
  {
   "cell_type": "code",
   "execution_count": null,
   "id": "93e97a7e",
   "metadata": {},
   "outputs": [],
   "source": [
    "@benchmarker\n",
    "def my_long_function(x):\n",
    "    time.sleep(x)\n",
    "    return 'DONE!'"
   ]
  },
  {
   "cell_type": "markdown",
   "id": "3c9575ff",
   "metadata": {},
   "source": [
    "А потім - просто скористатися своєю функцією як ви це робили звичайно:"
   ]
  },
  {
   "cell_type": "code",
   "execution_count": null,
   "id": "9211e8ff",
   "metadata": {},
   "outputs": [],
   "source": [
    "my_long_function(2)"
   ]
  },
  {
   "cell_type": "markdown",
   "id": "3fec9735",
   "metadata": {},
   "source": [
    "Наприкінці розділу про декоратори, треба зазначити деякі моменти:\n",
    "* Декораторами можуть бути не лише функції, проте і класи, про які пізніше\n",
    "* Використання `@` по факту 'підкладує' виконання одної функції в іншу, проте очікує що об'єкт який стоїть після `@` має приймати один аргумент, в який потрапляє те, що було обгорнуто.\n",
    "* Декоратори не повинні повертати функції, вони можуть повертати що завгодно."
   ]
  },
  {
   "cell_type": "code",
   "execution_count": null,
   "id": "81acfb22",
   "metadata": {},
   "outputs": [],
   "source": [
    "def my_fn1(fn):\n",
    "    return 'haha, no exeuction for your function'\n",
    "\n",
    "@my_fn1\n",
    "def my_fn2():\n",
    "    print(\"I was not even executed!\")\n",
    "    \n",
    "my_fn2"
   ]
  },
  {
   "cell_type": "markdown",
   "id": "e8940050",
   "metadata": {},
   "source": [
    "## Functions Best Practices"
   ]
  },
  {
   "cell_type": "markdown",
   "id": "4df997c5",
   "metadata": {},
   "source": [
    "В практичних задачах ви могли бачити наступний синтаксис - `def foo(arg: int)` - хоча це й не є обов'язковим, проте вважається хорошою практикою вказувати який тип даних має той чи інший аргумент, бо взагалі, в особливо в великих проектах немає змоги запустити щось швиденько і продивитися що там за аргументи, тому розробники дивляться код. І вказування типів даних є великою допомогою."
   ]
  },
  {
   "cell_type": "code",
   "execution_count": null,
   "id": "e7556c58",
   "metadata": {},
   "outputs": [],
   "source": [
    "def my_foo(arg1: list, arg2: tuple, arg3: set):\n",
    "    pass"
   ]
  },
  {
   "cell_type": "markdown",
   "id": "d401d0e1",
   "metadata": {},
   "source": [
    "Прийом, яким можна вказати тип даних називають `type hint` - підказка по тайпу, зверніть увагу, що через `:` треба вказувати тип даних, які є вбудовані в python. Також, цей тайпхінт можна ставити і в простому процедурному коді:"
   ]
  },
  {
   "cell_type": "code",
   "execution_count": null,
   "id": "9886f933",
   "metadata": {},
   "outputs": [],
   "source": [
    "a: list = []"
   ]
  },
  {
   "cell_type": "markdown",
   "id": "49cd7c4d",
   "metadata": {},
   "source": [
    "Також - ми можемо вказати, який тип даних поверне наша функція чи метод:"
   ]
  },
  {
   "cell_type": "code",
   "execution_count": null,
   "id": "77862fd8",
   "metadata": {},
   "outputs": [],
   "source": [
    "def foo(arg1: dict) -> dict:\n",
    "    return arg1"
   ]
  },
  {
   "cell_type": "markdown",
   "id": "70bbedd0",
   "metadata": {},
   "source": [
    "Проте ці підказки не впливають на код, вони є дуже корисними у випадку розробки коду в IDE, а також покращують читабельність коду."
   ]
  },
  {
   "cell_type": "markdown",
   "id": "b4746cf9",
   "metadata": {},
   "source": [
    "Також, для дуже дотошних розробників є бібліотека `typing`:"
   ]
  },
  {
   "cell_type": "code",
   "execution_count": null,
   "id": "2d21e1e8",
   "metadata": {},
   "outputs": [],
   "source": [
    "from typing import List, Callable\n",
    "\n",
    "def foo(arg1: List, arg2: Callable) -> Callable:\n",
    "    return arg2"
   ]
  },
  {
   "cell_type": "markdown",
   "id": "73db3279",
   "metadata": {},
   "source": [
    "Ще одним моментом є можливість вказувати типи даних всередині послідовності:"
   ]
  },
  {
   "cell_type": "code",
   "execution_count": null,
   "id": "3e342f78",
   "metadata": {},
   "outputs": [],
   "source": [
    "def foo(arg1: list[str, str, str]) -> tuple[int, int, int]:\n",
    "    pass"
   ]
  },
  {
   "cell_type": "markdown",
   "id": "c73ca919",
   "metadata": {},
   "source": [
    "Окремо від тайпхінтів, можливо писати для функцій опис завдяки `docstring`, ви вже таке бачили, проте виглядає це наприклад так:"
   ]
  },
  {
   "cell_type": "code",
   "execution_count": null,
   "id": "dcd4035f",
   "metadata": {},
   "outputs": [],
   "source": [
    "def _postprocess(self, output_tensor: np.ndarray) -> dict:\n",
    "    \"\"\"\n",
    "    calculates mean over given predictions by 0 axis\n",
    "    further, the weighted mean may be used or some kind of\n",
    "    :param output_tensor: model run output\n",
    "    :return: predictions array\n",
    "    \"\"\"\n",
    "    self._log.debug(\"postprocessing starts...\")\n",
    "    y = np.mean(output_tensor, axis=0)  # mean over all chunks\n",
    "    y = np.exp(y) / np.sum(np.exp(y))  # softmax activation\n",
    "    y = [round(i, ndigits=4) for i in y.tolist()]  # numpy round does some shit when trying to change dtype to float\n",
    "\n",
    "    pred_mapped = dict(zip(self._labelmap_list, y))  # map output according to the lablemap\n",
    "\n",
    "    self._log.debug(\"postprocessing starts...DONE\")\n",
    "    self._log.debug(pred_mapped)\n",
    "\n",
    "    return pred_mapped"
   ]
  },
  {
   "cell_type": "markdown",
   "id": "cb8b99ab",
   "metadata": {},
   "source": [
    "На цьому прикладі ви можете побачити як виглядає `docstring` для функції та коментарі, які теж потрібні в деякіх функціях, проте коментарів має бути мінімальна кількість - ваш код має бути `self-description`, тобто хтось, хто буде його читати має розуміти що там відбувається і без коментарів."
   ]
  },
  {
   "cell_type": "markdown",
   "id": "c3eeb8bc",
   "metadata": {},
   "source": [
    "При написанні функцій (а далі і методів класу) є наступні рекомендації по тому, як вони мають бути написані:\n",
    "\n",
    "* Бути невеликими - гарним тоном в програмуванні є створення функцій від 5 до 25 рядків коду, а також відділяти деякі частини коду розривами.\n",
    "* Функції мають виконувати одну задачу - 'чистою' вважається та функція, що виконує свою процедуру, відповідно до її назначення та імені, наприклад вам треба прочитати файл, переробити його контент, та записати його обратно, гарним тоном в такому разі буде зробити три (або більше) окремих фунцкій - 1 для відкриття, 2 (або більше) для обробки і третю для запису в файл."
   ]
  },
  {
   "cell_type": "code",
   "execution_count": null,
   "id": "befae1d2",
   "metadata": {},
   "outputs": [],
   "source": [
    "def read_edit_write(filepath: str):\n",
    "    \n",
    "    with open(filepath, \"r\") as fp:\n",
    "        file_content = fp.readlines()\n",
    "        \n",
    "    # do some other staff \n",
    "    # do some other staff \n",
    "        # do some other staff \n",
    "    # do some other staff \n",
    "        # do some other staff \n",
    "    # do some other staff \n",
    "        # do some other staff \n",
    "    # do some other staff \n",
    "        # do some other staff \n",
    "    # do some other staff \n",
    "        # do some other staff \n",
    "    # do some other staff     # do some other staff \n",
    "    # do some other staff \n",
    "        # do some other staff \n",
    "    # do some other staff \n",
    "    somedata = None\n",
    "    \n",
    "    with open(filepath, \"w\") as fp:\n",
    "        fp.writelines(some_data)"
   ]
  },
  {
   "cell_type": "markdown",
   "id": "b638c51a",
   "metadata": {},
   "source": [
    "Замість цього краще зробити:"
   ]
  },
  {
   "cell_type": "code",
   "execution_count": null,
   "id": "18452592",
   "metadata": {},
   "outputs": [],
   "source": [
    "def read_file(filepath):\n",
    "    pass\n",
    "\n",
    "def edit_data(data):\n",
    "    pass\n",
    "\n",
    "def write_data(filepath):\n",
    "    pass\n",
    "\n",
    "def main(filepath):\n",
    "    raw_data = read_file(filepath)\n",
    "    edited_data = edit_data(raw_data)\n",
    "    writed_filepath = write_data(filepath)\n",
    "    return writed_filepath"
   ]
  },
  {
   "cell_type": "markdown",
   "id": "1e18d81f",
   "metadata": {},
   "source": [
    "* Мати процедуру коду, на тому ж самому рівні абстрації, що і її назва. \n",
    "\n",
    "Наприклад - якщо ви пишете якусь математичну функцію, ви можете користуватися математичною нотацією, наприклад:"
   ]
  },
  {
   "attachments": {
    "mean.png": {
     "image/png": "[encoded data removed]"
    }
   },
   "cell_type": "markdown",
   "id": "f1d8c444",
   "metadata": {},
   "source": [
    "![mean.png](attachment:mean.png)"
   ]
  },
  {
   "cell_type": "code",
   "execution_count": null,
   "id": "fa320b28",
   "metadata": {},
   "outputs": [],
   "source": [
    "def mean(x: list) -> float:\n",
    "    N = len(x)\n",
    "    Sum = sum(x)\n",
    "    u = (1 / N) * Sum\n",
    "    return u"
   ]
  },
  {
   "cell_type": "markdown",
   "id": "c391b9e5",
   "metadata": {},
   "source": [
    "Або, якщо ви пишете код проекту, і вирішили мати назви змінних, що описують дані в цих змінних:"
   ]
  },
  {
   "cell_type": "code",
   "execution_count": null,
   "id": "425e3680",
   "metadata": {},
   "outputs": [],
   "source": [
    "def get_data_from_grades_file(grades_file_path: str):\n",
    "    grades_file_contents = read_my_file_contents(grades_file_path)\n",
    "    grades_file_contents_dict_by_name = parse_grades_files_by_name()\n",
    "    # et cetera et cetera\n",
    "    return filtered_grades_data_list"
   ]
  },
  {
   "cell_type": "markdown",
   "id": "afd932c9",
   "metadata": {},
   "source": [
    "Тобто - якщо ви пишете якийсь код сімуляцій, дотримуйтесь того уровня абстракії з якого почали, у другому випадку, коли функції та змінні мають широку розкриваючу їх назву, не треба зводити назві змінних до одного симбола і так далі."
   ]
  },
  {
   "cell_type": "markdown",
   "id": "2863ba03",
   "metadata": {},
   "source": [
    "* Функція має мати не більше 4 - 5 аргументів\n",
    "\n",
    "Тут все виходить із чистого здравого сенсу - функція з великою кількістю аргументів погано читається, якщо вам прям таки треба використати всі значення - передайте їх за допомогою словника чи ліста. Також - велика кількість аргументів накладає підозру, що функція не є чистою - тобто робить декілька справ одночасно, що вважається bad practice"
   ]
  },
  {
   "cell_type": "markdown",
   "id": "4c9c2e18",
   "metadata": {},
   "source": [
    "contain code with the same level of abstraction\n",
    "have fewer than 4 arguments\n",
    "\n"
   ]
  },
  {
   "cell_type": "markdown",
   "id": "52a24fe5",
   "metadata": {},
   "source": [
    "* Код функцій не має мати в собі дублікати\n",
    "\n",
    "Якщо вам кров із носу треба повторити якийсь код, який вже є в одній функції в іншій - краще просто створіть нову функцію, і виконайте її в тих випадках, де потрібно"
   ]
  },
  {
   "cell_type": "markdown",
   "id": "803399b3",
   "metadata": {},
   "source": [
    "* Мати читку назву, яка може розказати нащо ця функція потрібна:"
   ]
  },
  {
   "cell_type": "code",
   "execution_count": null,
   "id": "780b379e",
   "metadata": {},
   "outputs": [],
   "source": [
    "# do\n",
    "def read_grades_file():\n",
    "    pass\n",
    "\n",
    "def calculate_average_weight():\n",
    "    pass\n",
    "\n",
    "def get_cumulative_sum():\n",
    "    pass\n",
    "\n",
    "\n",
    "# don`t \n",
    "\n",
    "def readfile():\n",
    "    pass\n",
    "\n",
    "def avgw():\n",
    "    pass\n",
    "\n",
    "def get_cumulative_summary_of_given_integer_sequence_of_addictive_numbers():\n",
    "    pass"
   ]
  },
  {
   "cell_type": "code",
   "execution_count": null,
   "id": "caee40a7",
   "metadata": {},
   "outputs": [],
   "source": []
  }
 ],
 "metadata": {
  "kernelspec": {
   "display_name": "Python 3 (ipykernel)",
   "language": "python",
   "name": "python3"
  },
  "language_info": {
   "codemirror_mode": {
    "name": "ipython",
    "version": 3
   },
   "file_extension": ".py",
   "mimetype": "text/x-python",
   "name": "python",
   "nbconvert_exporter": "python",
   "pygments_lexer": "ipython3",
   "version": "3.9.12"
  }
 },
 "nbformat": 4,
 "nbformat_minor": 5
}
